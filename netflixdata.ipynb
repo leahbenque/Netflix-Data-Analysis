{
 "cells": [
  {
   "cell_type": "markdown",
   "metadata": {},
   "source": [
    "# Netflix Data Analysis: EDA, Visualization, Dashboard, and Predictive Analysis"
   ]
  },
  {
   "cell_type": "code",
   "execution_count": 1,
   "metadata": {},
   "outputs": [],
   "source": [
    "import pandas as pd\n",
    "import matplotlib.pyplot as plt\n",
    "import plotly.express as px"
   ]
  },
  {
   "cell_type": "markdown",
   "metadata": {},
   "source": [
    "Data retrieved from [Kaggle](https://www.kaggle.com/datasets/luiscorter/netflix-original-films-imdb-scores), \"Netflix Original Films & IMDB Scores\""
   ]
  },
  {
   "cell_type": "code",
   "execution_count": 7,
   "metadata": {},
   "outputs": [],
   "source": [
    "n = pd.read_csv(\"NetflixOriginals.csv\", encoding='latin1')"
   ]
  },
  {
   "cell_type": "markdown",
   "metadata": {},
   "source": [
    "#### EDA - nulls, duplicates, reformatting"
   ]
  },
  {
   "cell_type": "code",
   "execution_count": 8,
   "metadata": {},
   "outputs": [
    {
     "data": {
      "text/plain": [
       "(584, 6)"
      ]
     },
     "execution_count": 8,
     "metadata": {},
     "output_type": "execute_result"
    }
   ],
   "source": [
    "n.shape"
   ]
  },
  {
   "cell_type": "code",
   "execution_count": 9,
   "metadata": {},
   "outputs": [
    {
     "name": "stdout",
     "output_type": "stream",
     "text": [
      "<class 'pandas.core.frame.DataFrame'>\n",
      "RangeIndex: 584 entries, 0 to 583\n",
      "Data columns (total 6 columns):\n",
      " #   Column      Non-Null Count  Dtype  \n",
      "---  ------      --------------  -----  \n",
      " 0   Title       584 non-null    object \n",
      " 1   Genre       584 non-null    object \n",
      " 2   Premiere    584 non-null    object \n",
      " 3   Runtime     584 non-null    int64  \n",
      " 4   IMDB Score  584 non-null    float64\n",
      " 5   Language    584 non-null    object \n",
      "dtypes: float64(1), int64(1), object(4)\n",
      "memory usage: 27.5+ KB\n"
     ]
    }
   ],
   "source": [
    "n.info()\n",
    "#no nulls"
   ]
  },
  {
   "cell_type": "code",
   "execution_count": 10,
   "metadata": {},
   "outputs": [
    {
     "data": {
      "text/plain": [
       "Title         0\n",
       "Genre         0\n",
       "Premiere      0\n",
       "Runtime       0\n",
       "IMDB Score    0\n",
       "Language      0\n",
       "dtype: int64"
      ]
     },
     "execution_count": 10,
     "metadata": {},
     "output_type": "execute_result"
    }
   ],
   "source": [
    "n.isnull().sum()"
   ]
  },
  {
   "cell_type": "code",
   "execution_count": 11,
   "metadata": {},
   "outputs": [
    {
     "data": {
      "text/html": [
       "<div>\n",
       "<style scoped>\n",
       "    .dataframe tbody tr th:only-of-type {\n",
       "        vertical-align: middle;\n",
       "    }\n",
       "\n",
       "    .dataframe tbody tr th {\n",
       "        vertical-align: top;\n",
       "    }\n",
       "\n",
       "    .dataframe thead th {\n",
       "        text-align: right;\n",
       "    }\n",
       "</style>\n",
       "<table border=\"1\" class=\"dataframe\">\n",
       "  <thead>\n",
       "    <tr style=\"text-align: right;\">\n",
       "      <th></th>\n",
       "      <th>Runtime</th>\n",
       "      <th>IMDB Score</th>\n",
       "    </tr>\n",
       "  </thead>\n",
       "  <tbody>\n",
       "    <tr>\n",
       "      <th>count</th>\n",
       "      <td>584.000000</td>\n",
       "      <td>584.000000</td>\n",
       "    </tr>\n",
       "    <tr>\n",
       "      <th>mean</th>\n",
       "      <td>93.577055</td>\n",
       "      <td>6.271747</td>\n",
       "    </tr>\n",
       "    <tr>\n",
       "      <th>std</th>\n",
       "      <td>27.761683</td>\n",
       "      <td>0.979256</td>\n",
       "    </tr>\n",
       "    <tr>\n",
       "      <th>min</th>\n",
       "      <td>4.000000</td>\n",
       "      <td>2.500000</td>\n",
       "    </tr>\n",
       "    <tr>\n",
       "      <th>25%</th>\n",
       "      <td>86.000000</td>\n",
       "      <td>5.700000</td>\n",
       "    </tr>\n",
       "    <tr>\n",
       "      <th>50%</th>\n",
       "      <td>97.000000</td>\n",
       "      <td>6.350000</td>\n",
       "    </tr>\n",
       "    <tr>\n",
       "      <th>75%</th>\n",
       "      <td>108.000000</td>\n",
       "      <td>7.000000</td>\n",
       "    </tr>\n",
       "    <tr>\n",
       "      <th>max</th>\n",
       "      <td>209.000000</td>\n",
       "      <td>9.000000</td>\n",
       "    </tr>\n",
       "  </tbody>\n",
       "</table>\n",
       "</div>"
      ],
      "text/plain": [
       "          Runtime  IMDB Score\n",
       "count  584.000000  584.000000\n",
       "mean    93.577055    6.271747\n",
       "std     27.761683    0.979256\n",
       "min      4.000000    2.500000\n",
       "25%     86.000000    5.700000\n",
       "50%     97.000000    6.350000\n",
       "75%    108.000000    7.000000\n",
       "max    209.000000    9.000000"
      ]
     },
     "execution_count": 11,
     "metadata": {},
     "output_type": "execute_result"
    }
   ],
   "source": [
    "n.describe()"
   ]
  },
  {
   "cell_type": "code",
   "execution_count": 55,
   "metadata": {},
   "outputs": [
    {
     "data": {
      "text/html": [
       "<div>\n",
       "<style scoped>\n",
       "    .dataframe tbody tr th:only-of-type {\n",
       "        vertical-align: middle;\n",
       "    }\n",
       "\n",
       "    .dataframe tbody tr th {\n",
       "        vertical-align: top;\n",
       "    }\n",
       "\n",
       "    .dataframe thead th {\n",
       "        text-align: right;\n",
       "    }\n",
       "</style>\n",
       "<table border=\"1\" class=\"dataframe\">\n",
       "  <thead>\n",
       "    <tr style=\"text-align: right;\">\n",
       "      <th></th>\n",
       "      <th>Premiere</th>\n",
       "      <th>Runtime</th>\n",
       "      <th>IMDB Score</th>\n",
       "      <th>Premiere Year</th>\n",
       "    </tr>\n",
       "  </thead>\n",
       "  <tbody>\n",
       "    <tr>\n",
       "      <th>Premiere</th>\n",
       "      <td>1.000000</td>\n",
       "      <td>0.063521</td>\n",
       "      <td>-0.122174</td>\n",
       "      <td>0.980601</td>\n",
       "    </tr>\n",
       "    <tr>\n",
       "      <th>Runtime</th>\n",
       "      <td>0.063521</td>\n",
       "      <td>1.000000</td>\n",
       "      <td>-0.040896</td>\n",
       "      <td>0.069262</td>\n",
       "    </tr>\n",
       "    <tr>\n",
       "      <th>IMDB Score</th>\n",
       "      <td>-0.122174</td>\n",
       "      <td>-0.040896</td>\n",
       "      <td>1.000000</td>\n",
       "      <td>-0.141347</td>\n",
       "    </tr>\n",
       "    <tr>\n",
       "      <th>Premiere Year</th>\n",
       "      <td>0.980601</td>\n",
       "      <td>0.069262</td>\n",
       "      <td>-0.141347</td>\n",
       "      <td>1.000000</td>\n",
       "    </tr>\n",
       "  </tbody>\n",
       "</table>\n",
       "</div>"
      ],
      "text/plain": [
       "               Premiere   Runtime  IMDB Score  Premiere Year\n",
       "Premiere       1.000000  0.063521   -0.122174       0.980601\n",
       "Runtime        0.063521  1.000000   -0.040896       0.069262\n",
       "IMDB Score    -0.122174 -0.040896    1.000000      -0.141347\n",
       "Premiere Year  0.980601  0.069262   -0.141347       1.000000"
      ]
     },
     "execution_count": 55,
     "metadata": {},
     "output_type": "execute_result"
    }
   ],
   "source": [
    "n[n.describe().columns].corr()"
   ]
  },
  {
   "cell_type": "code",
   "execution_count": 12,
   "metadata": {},
   "outputs": [
    {
     "data": {
      "text/plain": [
       "RangeIndex(start=0, stop=584, step=1)"
      ]
     },
     "execution_count": 12,
     "metadata": {},
     "output_type": "execute_result"
    }
   ],
   "source": [
    "n.index"
   ]
  },
  {
   "cell_type": "code",
   "execution_count": 13,
   "metadata": {},
   "outputs": [
    {
     "data": {
      "text/plain": [
       "Index(['Title', 'Genre', 'Premiere', 'Runtime', 'IMDB Score', 'Language'], dtype='object')"
      ]
     },
     "execution_count": 13,
     "metadata": {},
     "output_type": "execute_result"
    }
   ],
   "source": [
    "n.columns"
   ]
  },
  {
   "cell_type": "code",
   "execution_count": 25,
   "metadata": {},
   "outputs": [
    {
     "data": {
      "text/plain": [
       "Title          object\n",
       "Genre          object\n",
       "Premiere       object\n",
       "Runtime         int64\n",
       "IMDB Score    float64\n",
       "Language       object\n",
       "dtype: object"
      ]
     },
     "execution_count": 25,
     "metadata": {},
     "output_type": "execute_result"
    }
   ],
   "source": [
    "n.dtypes"
   ]
  },
  {
   "cell_type": "code",
   "execution_count": 39,
   "metadata": {},
   "outputs": [],
   "source": [
    "n['Premiere'] = n['Premiere'].str.replace('.', ',')"
   ]
  },
  {
   "cell_type": "code",
   "execution_count": 42,
   "metadata": {},
   "outputs": [],
   "source": [
    "n['Premiere'] = pd.to_datetime(n['Premiere'])"
   ]
  },
  {
   "cell_type": "code",
   "execution_count": 46,
   "metadata": {},
   "outputs": [],
   "source": [
    "n['Premiere Year'] = n['Premiere'].dt.year"
   ]
  },
  {
   "cell_type": "code",
   "execution_count": 14,
   "metadata": {},
   "outputs": [
    {
     "data": {
      "text/plain": [
       "Genre\n",
       "Action              108.000000\n",
       "Action comedy       101.200000\n",
       "Action thriller      82.000000\n",
       "Action-adventure    121.000000\n",
       "Action-thriller     119.666667\n",
       "                       ...    \n",
       "War                 110.500000\n",
       "War drama           145.500000\n",
       "War-Comedy          122.000000\n",
       "Western             116.666667\n",
       "Zombie/Heist        148.000000\n",
       "Name: Runtime, Length: 115, dtype: float64"
      ]
     },
     "execution_count": 14,
     "metadata": {},
     "output_type": "execute_result"
    }
   ],
   "source": [
    "n.groupby(\"Genre\")['Runtime'].mean()"
   ]
  },
  {
   "cell_type": "code",
   "execution_count": 15,
   "metadata": {},
   "outputs": [
    {
     "data": {
      "text/plain": [
       "115"
      ]
     },
     "execution_count": 15,
     "metadata": {},
     "output_type": "execute_result"
    }
   ],
   "source": [
    "n['Genre'].nunique()"
   ]
  },
  {
   "cell_type": "code",
   "execution_count": 16,
   "metadata": {},
   "outputs": [
    {
     "data": {
      "text/plain": [
       "Genre\n",
       "Documentary                             159\n",
       "Drama                                    77\n",
       "Comedy                                   49\n",
       "Romantic comedy                          39\n",
       "Thriller                                 33\n",
       "                                       ... \n",
       "Romantic comedy-drama                     1\n",
       "Heist film/Thriller                       1\n",
       "Musical/Western/Fantasy                   1\n",
       "Horror anthology                          1\n",
       "Animation/Christmas/Comedy/Adventure      1\n",
       "Name: count, Length: 115, dtype: int64"
      ]
     },
     "execution_count": 16,
     "metadata": {},
     "output_type": "execute_result"
    }
   ],
   "source": [
    "n.Genre.value_counts()"
   ]
  },
  {
   "cell_type": "code",
   "execution_count": 17,
   "metadata": {},
   "outputs": [
    {
     "data": {
      "text/plain": [
       "Genre\n",
       "Documentary        159\n",
       "Drama               77\n",
       "Comedy              49\n",
       "Romantic comedy     39\n",
       "Thriller            33\n",
       "Comedy-drama        14\n",
       "Crime drama         11\n",
       "Biopic               9\n",
       "Horror               9\n",
       "Action               7\n",
       "Name: count, dtype: int64"
      ]
     },
     "execution_count": 17,
     "metadata": {},
     "output_type": "execute_result"
    }
   ],
   "source": [
    "# top ten genres by count of movies (each row is a movie):\n",
    "n.Genre.value_counts().sort_values(ascending = False).head(10)"
   ]
  },
  {
   "cell_type": "code",
   "execution_count": 18,
   "metadata": {},
   "outputs": [
    {
     "data": {
      "text/plain": [
       "array(['Documentary', 'Thriller', 'Science fiction/Drama',\n",
       "       'Horror thriller', 'Mystery', 'Action', 'Comedy',\n",
       "       'Heist film/Thriller', 'Musical/Western/Fantasy', 'Drama',\n",
       "       'Romantic comedy', 'Action comedy', 'Horror anthology',\n",
       "       'Political thriller', 'Superhero-Comedy', 'Horror',\n",
       "       'Romance drama', 'Anime / Short', 'Superhero', 'Heist', 'Western',\n",
       "       'Animation/Superhero', 'Family film', 'Action-thriller',\n",
       "       'Teen comedy-drama', 'Romantic drama', 'Animation',\n",
       "       'Aftershow / Interview', 'Christmas musical',\n",
       "       'Science fiction adventure', 'Science fiction', 'Variety show',\n",
       "       'Comedy-drama', 'Comedy/Fantasy/Family', 'Supernatural drama',\n",
       "       'Action/Comedy', 'Action/Science fiction',\n",
       "       'Romantic teenage drama', 'Comedy / Musical', 'Musical',\n",
       "       'Science fiction/Mystery', 'Crime drama',\n",
       "       'Psychological thriller drama', 'Adventure/Comedy', 'Black comedy',\n",
       "       'Romance', 'Horror comedy', 'Christian musical',\n",
       "       'Romantic teen drama', 'Family', 'Dark comedy', 'Comedy horror',\n",
       "       'Psychological thriller', 'Biopic', 'Science fiction/Thriller',\n",
       "       'Mockumentary', 'Satire', 'One-man show', 'Romantic comedy-drama',\n",
       "       'Comedy/Horror', 'Fantasy', 'Sports-drama', 'Zombie/Heist',\n",
       "       'Psychological horror', 'Sports film', 'Comedy mystery',\n",
       "       'Romantic thriller', 'Christmas comedy', 'War-Comedy',\n",
       "       'Romantic comedy/Holiday', 'Adventure-romance', 'Adventure',\n",
       "       'Horror-thriller', 'Dance comedy', 'Stop Motion',\n",
       "       'Horror/Crime drama', 'Urban fantasy', 'Drama/Horror',\n",
       "       'Family/Comedy-drama', 'War', 'Crime thriller',\n",
       "       'Science fiction/Action', 'Teen comedy horror', 'Concert Film',\n",
       "       'Musical comedy', 'Animation/Musical/Adventure',\n",
       "       'Animation / Musicial', 'Animation/Comedy/Adventure',\n",
       "       'Action thriller', 'Anime/Science fiction', 'Animation / Short',\n",
       "       'War drama', 'Family/Christmas musical',\n",
       "       'Science fiction thriller', 'Drama / Short',\n",
       "       'Hidden-camera prank comedy', 'Spy thriller', 'Anime/Fantasy',\n",
       "       'Animated musical comedy', 'Variety Show', 'Superhero/Action',\n",
       "       'Biographical/Comedy', 'Historical-epic', 'Animation / Comedy',\n",
       "       'Christmas/Fantasy/Adventure/Comedy', 'Mentalism special',\n",
       "       'Drama-Comedy', 'Coming-of-age comedy-drama', 'Historical drama',\n",
       "       'Making-of', 'Action-adventure', 'Animation / Science Fiction',\n",
       "       'Anthology/Dark comedy', 'Musical / Short',\n",
       "       'Animation/Christmas/Comedy/Adventure'], dtype=object)"
      ]
     },
     "execution_count": 18,
     "metadata": {},
     "output_type": "execute_result"
    }
   ],
   "source": [
    "n['Genre'].unique()"
   ]
  },
  {
   "cell_type": "code",
   "execution_count": 15,
   "metadata": {},
   "outputs": [
    {
     "data": {
      "text/html": [
       "<div>\n",
       "<style scoped>\n",
       "    .dataframe tbody tr th:only-of-type {\n",
       "        vertical-align: middle;\n",
       "    }\n",
       "\n",
       "    .dataframe tbody tr th {\n",
       "        vertical-align: top;\n",
       "    }\n",
       "\n",
       "    .dataframe thead th {\n",
       "        text-align: right;\n",
       "    }\n",
       "</style>\n",
       "<table border=\"1\" class=\"dataframe\">\n",
       "  <thead>\n",
       "    <tr style=\"text-align: right;\">\n",
       "      <th></th>\n",
       "      <th>Title</th>\n",
       "      <th>Genre</th>\n",
       "      <th>Premiere</th>\n",
       "      <th>Runtime</th>\n",
       "      <th>IMDB Score</th>\n",
       "      <th>Language</th>\n",
       "    </tr>\n",
       "  </thead>\n",
       "  <tbody>\n",
       "    <tr>\n",
       "      <th>6</th>\n",
       "      <td>Leyla Everlasting</td>\n",
       "      <td>Comedy</td>\n",
       "      <td>December 4, 2020</td>\n",
       "      <td>112</td>\n",
       "      <td>3.7</td>\n",
       "      <td>Turkish</td>\n",
       "    </tr>\n",
       "    <tr>\n",
       "      <th>9</th>\n",
       "      <td>Sardar Ka Grandson</td>\n",
       "      <td>Comedy</td>\n",
       "      <td>May 18, 2021</td>\n",
       "      <td>139</td>\n",
       "      <td>4.1</td>\n",
       "      <td>Hindi</td>\n",
       "    </tr>\n",
       "    <tr>\n",
       "      <th>18</th>\n",
       "      <td>What Happened to Mr. Cha?</td>\n",
       "      <td>Comedy</td>\n",
       "      <td>January 1, 2021</td>\n",
       "      <td>102</td>\n",
       "      <td>4.3</td>\n",
       "      <td>Korean</td>\n",
       "    </tr>\n",
       "    <tr>\n",
       "      <th>22</th>\n",
       "      <td>Sextuplets</td>\n",
       "      <td>Comedy</td>\n",
       "      <td>August 16, 2019</td>\n",
       "      <td>99</td>\n",
       "      <td>4.4</td>\n",
       "      <td>English</td>\n",
       "    </tr>\n",
       "    <tr>\n",
       "      <th>27</th>\n",
       "      <td>Seriously Single</td>\n",
       "      <td>Comedy</td>\n",
       "      <td>July 31, 2020</td>\n",
       "      <td>107</td>\n",
       "      <td>4.5</td>\n",
       "      <td>English</td>\n",
       "    </tr>\n",
       "    <tr>\n",
       "      <th>28</th>\n",
       "      <td>The Misadventures of Hedi and Cokeman</td>\n",
       "      <td>Comedy</td>\n",
       "      <td>February 10, 2021</td>\n",
       "      <td>99</td>\n",
       "      <td>4.5</td>\n",
       "      <td>French</td>\n",
       "    </tr>\n",
       "    <tr>\n",
       "      <th>29</th>\n",
       "      <td>5 Star Christmas</td>\n",
       "      <td>Comedy</td>\n",
       "      <td>December 7, 2018</td>\n",
       "      <td>95</td>\n",
       "      <td>4.6</td>\n",
       "      <td>Italian</td>\n",
       "    </tr>\n",
       "    <tr>\n",
       "      <th>33</th>\n",
       "      <td>Porta dos Fundos: The First Temptation of Christ</td>\n",
       "      <td>Comedy</td>\n",
       "      <td>December 3, 2019</td>\n",
       "      <td>46</td>\n",
       "      <td>4.6</td>\n",
       "      <td>Portuguese</td>\n",
       "    </tr>\n",
       "    <tr>\n",
       "      <th>35</th>\n",
       "      <td>The Players</td>\n",
       "      <td>Comedy</td>\n",
       "      <td>July 15, 2020</td>\n",
       "      <td>88</td>\n",
       "      <td>4.6</td>\n",
       "      <td>Italian</td>\n",
       "    </tr>\n",
       "    <tr>\n",
       "      <th>47</th>\n",
       "      <td>Take the 10</td>\n",
       "      <td>Comedy</td>\n",
       "      <td>January 20, 2017</td>\n",
       "      <td>80</td>\n",
       "      <td>4.8</td>\n",
       "      <td>English</td>\n",
       "    </tr>\n",
       "    <tr>\n",
       "      <th>48</th>\n",
       "      <td>The Main Event</td>\n",
       "      <td>Comedy</td>\n",
       "      <td>April 10, 2020</td>\n",
       "      <td>101</td>\n",
       "      <td>4.8</td>\n",
       "      <td>English</td>\n",
       "    </tr>\n",
       "    <tr>\n",
       "      <th>54</th>\n",
       "      <td>Airplane Mode</td>\n",
       "      <td>Comedy</td>\n",
       "      <td>January 23, 2020</td>\n",
       "      <td>96</td>\n",
       "      <td>5.0</td>\n",
       "      <td>Portuguese</td>\n",
       "    </tr>\n",
       "    <tr>\n",
       "      <th>65</th>\n",
       "      <td>#REALITYHIGH</td>\n",
       "      <td>Comedy</td>\n",
       "      <td>September 8, 2017</td>\n",
       "      <td>99</td>\n",
       "      <td>5.2</td>\n",
       "      <td>English</td>\n",
       "    </tr>\n",
       "    <tr>\n",
       "      <th>69</th>\n",
       "      <td>Father of the Year</td>\n",
       "      <td>Comedy</td>\n",
       "      <td>July 20, 2018</td>\n",
       "      <td>94</td>\n",
       "      <td>5.2</td>\n",
       "      <td>English</td>\n",
       "    </tr>\n",
       "    <tr>\n",
       "      <th>72</th>\n",
       "      <td>Girlfriend's Day</td>\n",
       "      <td>Comedy</td>\n",
       "      <td>February 14, 2017</td>\n",
       "      <td>70</td>\n",
       "      <td>5.2</td>\n",
       "      <td>English</td>\n",
       "    </tr>\n",
       "    <tr>\n",
       "      <th>73</th>\n",
       "      <td>Handsome: A Netflix Mystery Movie</td>\n",
       "      <td>Comedy</td>\n",
       "      <td>May 5, 2017</td>\n",
       "      <td>81</td>\n",
       "      <td>5.2</td>\n",
       "      <td>English</td>\n",
       "    </tr>\n",
       "    <tr>\n",
       "      <th>74</th>\n",
       "      <td>Hubie Halloween</td>\n",
       "      <td>Comedy</td>\n",
       "      <td>October 7, 2020</td>\n",
       "      <td>103</td>\n",
       "      <td>5.2</td>\n",
       "      <td>English</td>\n",
       "    </tr>\n",
       "    <tr>\n",
       "      <th>75</th>\n",
       "      <td>Ibiza</td>\n",
       "      <td>Comedy</td>\n",
       "      <td>May 25, 2018</td>\n",
       "      <td>94</td>\n",
       "      <td>5.2</td>\n",
       "      <td>English</td>\n",
       "    </tr>\n",
       "    <tr>\n",
       "      <th>77</th>\n",
       "      <td>Sandy Wexler</td>\n",
       "      <td>Comedy</td>\n",
       "      <td>April 14, 2017</td>\n",
       "      <td>131</td>\n",
       "      <td>5.2</td>\n",
       "      <td>English</td>\n",
       "    </tr>\n",
       "    <tr>\n",
       "      <th>83</th>\n",
       "      <td>The Week Of</td>\n",
       "      <td>Comedy</td>\n",
       "      <td>April 27, 2018</td>\n",
       "      <td>116</td>\n",
       "      <td>5.2</td>\n",
       "      <td>English</td>\n",
       "    </tr>\n",
       "    <tr>\n",
       "      <th>85</th>\n",
       "      <td>Back to School</td>\n",
       "      <td>Comedy</td>\n",
       "      <td>August 30, 2019</td>\n",
       "      <td>83</td>\n",
       "      <td>5.3</td>\n",
       "      <td>French</td>\n",
       "    </tr>\n",
       "    <tr>\n",
       "      <th>96</th>\n",
       "      <td>Despite Everything</td>\n",
       "      <td>Comedy</td>\n",
       "      <td>May 3, 2019</td>\n",
       "      <td>78</td>\n",
       "      <td>5.4</td>\n",
       "      <td>Spanish</td>\n",
       "    </tr>\n",
       "    <tr>\n",
       "      <th>103</th>\n",
       "      <td>Naked</td>\n",
       "      <td>Comedy</td>\n",
       "      <td>August 11, 2017</td>\n",
       "      <td>96</td>\n",
       "      <td>5.4</td>\n",
       "      <td>English</td>\n",
       "    </tr>\n",
       "    <tr>\n",
       "      <th>110</th>\n",
       "      <td>Get the Grift</td>\n",
       "      <td>Comedy</td>\n",
       "      <td>April 28, 2021</td>\n",
       "      <td>94</td>\n",
       "      <td>5.5</td>\n",
       "      <td>Portuguese</td>\n",
       "    </tr>\n",
       "    <tr>\n",
       "      <th>112</th>\n",
       "      <td>House Arrest</td>\n",
       "      <td>Comedy</td>\n",
       "      <td>November 15, 2019</td>\n",
       "      <td>104</td>\n",
       "      <td>5.5</td>\n",
       "      <td>Hindi</td>\n",
       "    </tr>\n",
       "    <tr>\n",
       "      <th>119</th>\n",
       "      <td>Step Sisters</td>\n",
       "      <td>Comedy</td>\n",
       "      <td>January 19, 2018</td>\n",
       "      <td>108</td>\n",
       "      <td>5.5</td>\n",
       "      <td>English</td>\n",
       "    </tr>\n",
       "    <tr>\n",
       "      <th>124</th>\n",
       "      <td>Unicorn Store</td>\n",
       "      <td>Comedy</td>\n",
       "      <td>April 5, 2019</td>\n",
       "      <td>92</td>\n",
       "      <td>5.5</td>\n",
       "      <td>English</td>\n",
       "    </tr>\n",
       "    <tr>\n",
       "      <th>125</th>\n",
       "      <td>Wine Country</td>\n",
       "      <td>Comedy</td>\n",
       "      <td>May 10, 2019</td>\n",
       "      <td>103</td>\n",
       "      <td>5.5</td>\n",
       "      <td>English</td>\n",
       "    </tr>\n",
       "    <tr>\n",
       "      <th>127</th>\n",
       "      <td>Brahman Naman</td>\n",
       "      <td>Comedy</td>\n",
       "      <td>July 7, 2016</td>\n",
       "      <td>95</td>\n",
       "      <td>5.6</td>\n",
       "      <td>English</td>\n",
       "    </tr>\n",
       "    <tr>\n",
       "      <th>138</th>\n",
       "      <td>The Sleepover</td>\n",
       "      <td>Comedy</td>\n",
       "      <td>August 21, 2020</td>\n",
       "      <td>103</td>\n",
       "      <td>5.6</td>\n",
       "      <td>English</td>\n",
       "    </tr>\n",
       "    <tr>\n",
       "      <th>149</th>\n",
       "      <td>Lionheart</td>\n",
       "      <td>Comedy</td>\n",
       "      <td>January 4, 2019</td>\n",
       "      <td>94</td>\n",
       "      <td>5.7</td>\n",
       "      <td>English</td>\n",
       "    </tr>\n",
       "    <tr>\n",
       "      <th>158</th>\n",
       "      <td>The Wrong Missy</td>\n",
       "      <td>Comedy</td>\n",
       "      <td>May 13, 2020</td>\n",
       "      <td>90</td>\n",
       "      <td>5.7</td>\n",
       "      <td>English</td>\n",
       "    </tr>\n",
       "    <tr>\n",
       "      <th>160</th>\n",
       "      <td>Yes Day</td>\n",
       "      <td>Comedy</td>\n",
       "      <td>March 12, 2021</td>\n",
       "      <td>86</td>\n",
       "      <td>5.7</td>\n",
       "      <td>English</td>\n",
       "    </tr>\n",
       "    <tr>\n",
       "      <th>167</th>\n",
       "      <td>Candy Jar</td>\n",
       "      <td>Comedy</td>\n",
       "      <td>April 27, 2018</td>\n",
       "      <td>92</td>\n",
       "      <td>5.8</td>\n",
       "      <td>English</td>\n",
       "    </tr>\n",
       "    <tr>\n",
       "      <th>184</th>\n",
       "      <td>The After Party</td>\n",
       "      <td>Comedy</td>\n",
       "      <td>August 24, 2018</td>\n",
       "      <td>89</td>\n",
       "      <td>5.8</td>\n",
       "      <td>English</td>\n",
       "    </tr>\n",
       "    <tr>\n",
       "      <th>221</th>\n",
       "      <td>Between Two Ferns: The Movie</td>\n",
       "      <td>Comedy</td>\n",
       "      <td>September 20, 2019</td>\n",
       "      <td>82</td>\n",
       "      <td>6.1</td>\n",
       "      <td>English</td>\n",
       "    </tr>\n",
       "    <tr>\n",
       "      <th>229</th>\n",
       "      <td>Like Father</td>\n",
       "      <td>Comedy</td>\n",
       "      <td>August 3, 2018</td>\n",
       "      <td>103</td>\n",
       "      <td>6.1</td>\n",
       "      <td>English</td>\n",
       "    </tr>\n",
       "    <tr>\n",
       "      <th>231</th>\n",
       "      <td>Otherhood</td>\n",
       "      <td>Comedy</td>\n",
       "      <td>August 2, 2019</td>\n",
       "      <td>100</td>\n",
       "      <td>6.1</td>\n",
       "      <td>English</td>\n",
       "    </tr>\n",
       "    <tr>\n",
       "      <th>249</th>\n",
       "      <td>Have You Ever Seen Fireflies?</td>\n",
       "      <td>Comedy</td>\n",
       "      <td>April 9, 2021</td>\n",
       "      <td>114</td>\n",
       "      <td>6.2</td>\n",
       "      <td>Turkish</td>\n",
       "    </tr>\n",
       "    <tr>\n",
       "      <th>261</th>\n",
       "      <td>Win It All</td>\n",
       "      <td>Comedy</td>\n",
       "      <td>April 7, 2017</td>\n",
       "      <td>88</td>\n",
       "      <td>6.2</td>\n",
       "      <td>English</td>\n",
       "    </tr>\n",
       "    <tr>\n",
       "      <th>271</th>\n",
       "      <td>Get the Goat</td>\n",
       "      <td>Comedy</td>\n",
       "      <td>March 18, 2021</td>\n",
       "      <td>97</td>\n",
       "      <td>6.3</td>\n",
       "      <td>Portuguese</td>\n",
       "    </tr>\n",
       "    <tr>\n",
       "      <th>278</th>\n",
       "      <td>Porta dos Fundos: The Last Hangover</td>\n",
       "      <td>Comedy</td>\n",
       "      <td>December 21, 2018</td>\n",
       "      <td>44</td>\n",
       "      <td>6.3</td>\n",
       "      <td>Portuguese</td>\n",
       "    </tr>\n",
       "    <tr>\n",
       "      <th>327</th>\n",
       "      <td>Chopsticks</td>\n",
       "      <td>Comedy</td>\n",
       "      <td>May 31, 2019</td>\n",
       "      <td>100</td>\n",
       "      <td>6.5</td>\n",
       "      <td>Hindi</td>\n",
       "    </tr>\n",
       "    <tr>\n",
       "      <th>342</th>\n",
       "      <td>The Incredible Jessica James</td>\n",
       "      <td>Comedy</td>\n",
       "      <td>July 28, 2017</td>\n",
       "      <td>83</td>\n",
       "      <td>6.5</td>\n",
       "      <td>English</td>\n",
       "    </tr>\n",
       "    <tr>\n",
       "      <th>377</th>\n",
       "      <td>Just Another Christmas</td>\n",
       "      <td>Comedy</td>\n",
       "      <td>December 3, 2020</td>\n",
       "      <td>101</td>\n",
       "      <td>6.7</td>\n",
       "      <td>Portuguese</td>\n",
       "    </tr>\n",
       "    <tr>\n",
       "      <th>397</th>\n",
       "      <td>Long Live Brij Mohan</td>\n",
       "      <td>Comedy</td>\n",
       "      <td>August 3, 2018</td>\n",
       "      <td>105</td>\n",
       "      <td>6.8</td>\n",
       "      <td>Hindi</td>\n",
       "    </tr>\n",
       "    <tr>\n",
       "      <th>399</th>\n",
       "      <td>Death to 2020</td>\n",
       "      <td>Comedy</td>\n",
       "      <td>December 27, 2020</td>\n",
       "      <td>70</td>\n",
       "      <td>6.8</td>\n",
       "      <td>English</td>\n",
       "    </tr>\n",
       "    <tr>\n",
       "      <th>447</th>\n",
       "      <td>Rose Island</td>\n",
       "      <td>Comedy</td>\n",
       "      <td>December 9, 2020</td>\n",
       "      <td>117</td>\n",
       "      <td>7.0</td>\n",
       "      <td>Italian</td>\n",
       "    </tr>\n",
       "    <tr>\n",
       "      <th>492</th>\n",
       "      <td>The 40-Year-Old Version</td>\n",
       "      <td>Comedy</td>\n",
       "      <td>October 9, 2020</td>\n",
       "      <td>124</td>\n",
       "      <td>7.2</td>\n",
       "      <td>English</td>\n",
       "    </tr>\n",
       "  </tbody>\n",
       "</table>\n",
       "</div>"
      ],
      "text/plain": [
       "                                                Title   Genre  \\\n",
       "6                                   Leyla Everlasting  Comedy   \n",
       "9                                  Sardar Ka Grandson  Comedy   \n",
       "18                          What Happened to Mr. Cha?  Comedy   \n",
       "22                                         Sextuplets  Comedy   \n",
       "27                                   Seriously Single  Comedy   \n",
       "28              The Misadventures of Hedi and Cokeman  Comedy   \n",
       "29                                   5 Star Christmas  Comedy   \n",
       "33   Porta dos Fundos: The First Temptation of Christ  Comedy   \n",
       "35                                        The Players  Comedy   \n",
       "47                                        Take the 10  Comedy   \n",
       "48                                     The Main Event  Comedy   \n",
       "54                                      Airplane Mode  Comedy   \n",
       "65                                       #REALITYHIGH  Comedy   \n",
       "69                                 Father of the Year  Comedy   \n",
       "72                                   Girlfriend's Day  Comedy   \n",
       "73                  Handsome: A Netflix Mystery Movie  Comedy   \n",
       "74                                    Hubie Halloween  Comedy   \n",
       "75                                              Ibiza  Comedy   \n",
       "77                                       Sandy Wexler  Comedy   \n",
       "83                                        The Week Of  Comedy   \n",
       "85                                     Back to School  Comedy   \n",
       "96                                 Despite Everything  Comedy   \n",
       "103                                             Naked  Comedy   \n",
       "110                                     Get the Grift  Comedy   \n",
       "112                                      House Arrest  Comedy   \n",
       "119                                      Step Sisters  Comedy   \n",
       "124                                     Unicorn Store  Comedy   \n",
       "125                                      Wine Country  Comedy   \n",
       "127                                     Brahman Naman  Comedy   \n",
       "138                                     The Sleepover  Comedy   \n",
       "149                                         Lionheart  Comedy   \n",
       "158                                   The Wrong Missy  Comedy   \n",
       "160                                           Yes Day  Comedy   \n",
       "167                                         Candy Jar  Comedy   \n",
       "184                                   The After Party  Comedy   \n",
       "221                      Between Two Ferns: The Movie  Comedy   \n",
       "229                                       Like Father  Comedy   \n",
       "231                                         Otherhood  Comedy   \n",
       "249                     Have You Ever Seen Fireflies?  Comedy   \n",
       "261                                        Win It All  Comedy   \n",
       "271                                      Get the Goat  Comedy   \n",
       "278               Porta dos Fundos: The Last Hangover  Comedy   \n",
       "327                                        Chopsticks  Comedy   \n",
       "342                      The Incredible Jessica James  Comedy   \n",
       "377                            Just Another Christmas  Comedy   \n",
       "397                              Long Live Brij Mohan  Comedy   \n",
       "399                                     Death to 2020  Comedy   \n",
       "447                                       Rose Island  Comedy   \n",
       "492                           The 40-Year-Old Version  Comedy   \n",
       "\n",
       "               Premiere  Runtime  IMDB Score    Language  \n",
       "6      December 4, 2020      112         3.7     Turkish  \n",
       "9          May 18, 2021      139         4.1       Hindi  \n",
       "18      January 1, 2021      102         4.3      Korean  \n",
       "22      August 16, 2019       99         4.4     English  \n",
       "27        July 31, 2020      107         4.5     English  \n",
       "28    February 10, 2021       99         4.5      French  \n",
       "29     December 7, 2018       95         4.6     Italian  \n",
       "33     December 3, 2019       46         4.6  Portuguese  \n",
       "35        July 15, 2020       88         4.6     Italian  \n",
       "47     January 20, 2017       80         4.8     English  \n",
       "48       April 10, 2020      101         4.8     English  \n",
       "54     January 23, 2020       96         5.0  Portuguese  \n",
       "65    September 8, 2017       99         5.2     English  \n",
       "69        July 20, 2018       94         5.2     English  \n",
       "72    February 14, 2017       70         5.2     English  \n",
       "73          May 5, 2017       81         5.2     English  \n",
       "74      October 7, 2020      103         5.2     English  \n",
       "75         May 25, 2018       94         5.2     English  \n",
       "77       April 14, 2017      131         5.2     English  \n",
       "83       April 27, 2018      116         5.2     English  \n",
       "85      August 30, 2019       83         5.3      French  \n",
       "96          May 3, 2019       78         5.4     Spanish  \n",
       "103     August 11, 2017       96         5.4     English  \n",
       "110      April 28, 2021       94         5.5  Portuguese  \n",
       "112   November 15, 2019      104         5.5       Hindi  \n",
       "119    January 19, 2018      108         5.5     English  \n",
       "124       April 5, 2019       92         5.5     English  \n",
       "125        May 10, 2019      103         5.5     English  \n",
       "127        July 7, 2016       95         5.6     English  \n",
       "138     August 21, 2020      103         5.6     English  \n",
       "149     January 4, 2019       94         5.7     English  \n",
       "158        May 13, 2020       90         5.7     English  \n",
       "160      March 12, 2021       86         5.7     English  \n",
       "167      April 27, 2018       92         5.8     English  \n",
       "184     August 24, 2018       89         5.8     English  \n",
       "221  September 20, 2019       82         6.1     English  \n",
       "229      August 3, 2018      103         6.1     English  \n",
       "231      August 2, 2019      100         6.1     English  \n",
       "249       April 9, 2021      114         6.2     Turkish  \n",
       "261       April 7, 2017       88         6.2     English  \n",
       "271      March 18, 2021       97         6.3  Portuguese  \n",
       "278   December 21, 2018       44         6.3  Portuguese  \n",
       "327        May 31, 2019      100         6.5       Hindi  \n",
       "342       July 28, 2017       83         6.5     English  \n",
       "377    December 3, 2020      101         6.7  Portuguese  \n",
       "397      August 3, 2018      105         6.8       Hindi  \n",
       "399   December 27, 2020       70         6.8     English  \n",
       "447    December 9, 2020      117         7.0     Italian  \n",
       "492     October 9, 2020      124         7.2     English  "
      ]
     },
     "execution_count": 15,
     "metadata": {},
     "output_type": "execute_result"
    }
   ],
   "source": [
    "n[n['Genre']=='Comedy']"
   ]
  },
  {
   "cell_type": "code",
   "execution_count": 16,
   "metadata": {},
   "outputs": [],
   "source": [
    "# Mask Filter\n",
    "genre_mask = n['Genre'] == 'Comedy'\n",
    "imdb_mask = n['IMDB Score'] > 6"
   ]
  },
  {
   "cell_type": "code",
   "execution_count": 17,
   "metadata": {},
   "outputs": [
    {
     "data": {
      "text/html": [
       "<div>\n",
       "<style scoped>\n",
       "    .dataframe tbody tr th:only-of-type {\n",
       "        vertical-align: middle;\n",
       "    }\n",
       "\n",
       "    .dataframe tbody tr th {\n",
       "        vertical-align: top;\n",
       "    }\n",
       "\n",
       "    .dataframe thead th {\n",
       "        text-align: right;\n",
       "    }\n",
       "</style>\n",
       "<table border=\"1\" class=\"dataframe\">\n",
       "  <thead>\n",
       "    <tr style=\"text-align: right;\">\n",
       "      <th></th>\n",
       "      <th>Title</th>\n",
       "      <th>Genre</th>\n",
       "      <th>Premiere</th>\n",
       "      <th>Runtime</th>\n",
       "      <th>IMDB Score</th>\n",
       "      <th>Language</th>\n",
       "    </tr>\n",
       "  </thead>\n",
       "  <tbody>\n",
       "    <tr>\n",
       "      <th>221</th>\n",
       "      <td>Between Two Ferns: The Movie</td>\n",
       "      <td>Comedy</td>\n",
       "      <td>September 20, 2019</td>\n",
       "      <td>82</td>\n",
       "      <td>6.1</td>\n",
       "      <td>English</td>\n",
       "    </tr>\n",
       "    <tr>\n",
       "      <th>229</th>\n",
       "      <td>Like Father</td>\n",
       "      <td>Comedy</td>\n",
       "      <td>August 3, 2018</td>\n",
       "      <td>103</td>\n",
       "      <td>6.1</td>\n",
       "      <td>English</td>\n",
       "    </tr>\n",
       "    <tr>\n",
       "      <th>231</th>\n",
       "      <td>Otherhood</td>\n",
       "      <td>Comedy</td>\n",
       "      <td>August 2, 2019</td>\n",
       "      <td>100</td>\n",
       "      <td>6.1</td>\n",
       "      <td>English</td>\n",
       "    </tr>\n",
       "    <tr>\n",
       "      <th>249</th>\n",
       "      <td>Have You Ever Seen Fireflies?</td>\n",
       "      <td>Comedy</td>\n",
       "      <td>April 9, 2021</td>\n",
       "      <td>114</td>\n",
       "      <td>6.2</td>\n",
       "      <td>Turkish</td>\n",
       "    </tr>\n",
       "    <tr>\n",
       "      <th>261</th>\n",
       "      <td>Win It All</td>\n",
       "      <td>Comedy</td>\n",
       "      <td>April 7, 2017</td>\n",
       "      <td>88</td>\n",
       "      <td>6.2</td>\n",
       "      <td>English</td>\n",
       "    </tr>\n",
       "    <tr>\n",
       "      <th>271</th>\n",
       "      <td>Get the Goat</td>\n",
       "      <td>Comedy</td>\n",
       "      <td>March 18, 2021</td>\n",
       "      <td>97</td>\n",
       "      <td>6.3</td>\n",
       "      <td>Portuguese</td>\n",
       "    </tr>\n",
       "    <tr>\n",
       "      <th>278</th>\n",
       "      <td>Porta dos Fundos: The Last Hangover</td>\n",
       "      <td>Comedy</td>\n",
       "      <td>December 21, 2018</td>\n",
       "      <td>44</td>\n",
       "      <td>6.3</td>\n",
       "      <td>Portuguese</td>\n",
       "    </tr>\n",
       "    <tr>\n",
       "      <th>327</th>\n",
       "      <td>Chopsticks</td>\n",
       "      <td>Comedy</td>\n",
       "      <td>May 31, 2019</td>\n",
       "      <td>100</td>\n",
       "      <td>6.5</td>\n",
       "      <td>Hindi</td>\n",
       "    </tr>\n",
       "    <tr>\n",
       "      <th>342</th>\n",
       "      <td>The Incredible Jessica James</td>\n",
       "      <td>Comedy</td>\n",
       "      <td>July 28, 2017</td>\n",
       "      <td>83</td>\n",
       "      <td>6.5</td>\n",
       "      <td>English</td>\n",
       "    </tr>\n",
       "    <tr>\n",
       "      <th>377</th>\n",
       "      <td>Just Another Christmas</td>\n",
       "      <td>Comedy</td>\n",
       "      <td>December 3, 2020</td>\n",
       "      <td>101</td>\n",
       "      <td>6.7</td>\n",
       "      <td>Portuguese</td>\n",
       "    </tr>\n",
       "    <tr>\n",
       "      <th>397</th>\n",
       "      <td>Long Live Brij Mohan</td>\n",
       "      <td>Comedy</td>\n",
       "      <td>August 3, 2018</td>\n",
       "      <td>105</td>\n",
       "      <td>6.8</td>\n",
       "      <td>Hindi</td>\n",
       "    </tr>\n",
       "    <tr>\n",
       "      <th>399</th>\n",
       "      <td>Death to 2020</td>\n",
       "      <td>Comedy</td>\n",
       "      <td>December 27, 2020</td>\n",
       "      <td>70</td>\n",
       "      <td>6.8</td>\n",
       "      <td>English</td>\n",
       "    </tr>\n",
       "    <tr>\n",
       "      <th>447</th>\n",
       "      <td>Rose Island</td>\n",
       "      <td>Comedy</td>\n",
       "      <td>December 9, 2020</td>\n",
       "      <td>117</td>\n",
       "      <td>7.0</td>\n",
       "      <td>Italian</td>\n",
       "    </tr>\n",
       "    <tr>\n",
       "      <th>492</th>\n",
       "      <td>The 40-Year-Old Version</td>\n",
       "      <td>Comedy</td>\n",
       "      <td>October 9, 2020</td>\n",
       "      <td>124</td>\n",
       "      <td>7.2</td>\n",
       "      <td>English</td>\n",
       "    </tr>\n",
       "  </tbody>\n",
       "</table>\n",
       "</div>"
      ],
      "text/plain": [
       "                                   Title   Genre            Premiere  Runtime  \\\n",
       "221         Between Two Ferns: The Movie  Comedy  September 20, 2019       82   \n",
       "229                          Like Father  Comedy      August 3, 2018      103   \n",
       "231                            Otherhood  Comedy      August 2, 2019      100   \n",
       "249        Have You Ever Seen Fireflies?  Comedy       April 9, 2021      114   \n",
       "261                           Win It All  Comedy       April 7, 2017       88   \n",
       "271                         Get the Goat  Comedy      March 18, 2021       97   \n",
       "278  Porta dos Fundos: The Last Hangover  Comedy   December 21, 2018       44   \n",
       "327                           Chopsticks  Comedy        May 31, 2019      100   \n",
       "342         The Incredible Jessica James  Comedy       July 28, 2017       83   \n",
       "377               Just Another Christmas  Comedy    December 3, 2020      101   \n",
       "397                 Long Live Brij Mohan  Comedy      August 3, 2018      105   \n",
       "399                        Death to 2020  Comedy   December 27, 2020       70   \n",
       "447                          Rose Island  Comedy    December 9, 2020      117   \n",
       "492              The 40-Year-Old Version  Comedy     October 9, 2020      124   \n",
       "\n",
       "     IMDB Score    Language  \n",
       "221         6.1     English  \n",
       "229         6.1     English  \n",
       "231         6.1     English  \n",
       "249         6.2     Turkish  \n",
       "261         6.2     English  \n",
       "271         6.3  Portuguese  \n",
       "278         6.3  Portuguese  \n",
       "327         6.5       Hindi  \n",
       "342         6.5     English  \n",
       "377         6.7  Portuguese  \n",
       "397         6.8       Hindi  \n",
       "399         6.8     English  \n",
       "447         7.0     Italian  \n",
       "492         7.2     English  "
      ]
     },
     "execution_count": 17,
     "metadata": {},
     "output_type": "execute_result"
    }
   ],
   "source": [
    "#and\n",
    "n[genre_mask & imdb_mask]"
   ]
  },
  {
   "cell_type": "code",
   "execution_count": 18,
   "metadata": {},
   "outputs": [
    {
     "data": {
      "text/html": [
       "<div>\n",
       "<style scoped>\n",
       "    .dataframe tbody tr th:only-of-type {\n",
       "        vertical-align: middle;\n",
       "    }\n",
       "\n",
       "    .dataframe tbody tr th {\n",
       "        vertical-align: top;\n",
       "    }\n",
       "\n",
       "    .dataframe thead th {\n",
       "        text-align: right;\n",
       "    }\n",
       "</style>\n",
       "<table border=\"1\" class=\"dataframe\">\n",
       "  <thead>\n",
       "    <tr style=\"text-align: right;\">\n",
       "      <th></th>\n",
       "      <th>Title</th>\n",
       "      <th>Genre</th>\n",
       "      <th>Premiere</th>\n",
       "      <th>Runtime</th>\n",
       "      <th>IMDB Score</th>\n",
       "      <th>Language</th>\n",
       "    </tr>\n",
       "  </thead>\n",
       "  <tbody>\n",
       "    <tr>\n",
       "      <th>6</th>\n",
       "      <td>Leyla Everlasting</td>\n",
       "      <td>Comedy</td>\n",
       "      <td>December 4, 2020</td>\n",
       "      <td>112</td>\n",
       "      <td>3.7</td>\n",
       "      <td>Turkish</td>\n",
       "    </tr>\n",
       "    <tr>\n",
       "      <th>9</th>\n",
       "      <td>Sardar Ka Grandson</td>\n",
       "      <td>Comedy</td>\n",
       "      <td>May 18, 2021</td>\n",
       "      <td>139</td>\n",
       "      <td>4.1</td>\n",
       "      <td>Hindi</td>\n",
       "    </tr>\n",
       "    <tr>\n",
       "      <th>18</th>\n",
       "      <td>What Happened to Mr. Cha?</td>\n",
       "      <td>Comedy</td>\n",
       "      <td>January 1, 2021</td>\n",
       "      <td>102</td>\n",
       "      <td>4.3</td>\n",
       "      <td>Korean</td>\n",
       "    </tr>\n",
       "    <tr>\n",
       "      <th>22</th>\n",
       "      <td>Sextuplets</td>\n",
       "      <td>Comedy</td>\n",
       "      <td>August 16, 2019</td>\n",
       "      <td>99</td>\n",
       "      <td>4.4</td>\n",
       "      <td>English</td>\n",
       "    </tr>\n",
       "    <tr>\n",
       "      <th>27</th>\n",
       "      <td>Seriously Single</td>\n",
       "      <td>Comedy</td>\n",
       "      <td>July 31, 2020</td>\n",
       "      <td>107</td>\n",
       "      <td>4.5</td>\n",
       "      <td>English</td>\n",
       "    </tr>\n",
       "    <tr>\n",
       "      <th>...</th>\n",
       "      <td>...</td>\n",
       "      <td>...</td>\n",
       "      <td>...</td>\n",
       "      <td>...</td>\n",
       "      <td>...</td>\n",
       "      <td>...</td>\n",
       "    </tr>\n",
       "    <tr>\n",
       "      <th>579</th>\n",
       "      <td>Taylor Swift: Reputation Stadium Tour</td>\n",
       "      <td>Concert Film</td>\n",
       "      <td>December 31, 2018</td>\n",
       "      <td>125</td>\n",
       "      <td>8.4</td>\n",
       "      <td>English</td>\n",
       "    </tr>\n",
       "    <tr>\n",
       "      <th>580</th>\n",
       "      <td>Winter on Fire: Ukraine's Fight for Freedom</td>\n",
       "      <td>Documentary</td>\n",
       "      <td>October 9, 2015</td>\n",
       "      <td>91</td>\n",
       "      <td>8.4</td>\n",
       "      <td>English/Ukranian/Russian</td>\n",
       "    </tr>\n",
       "    <tr>\n",
       "      <th>581</th>\n",
       "      <td>Springsteen on Broadway</td>\n",
       "      <td>One-man show</td>\n",
       "      <td>December 16, 2018</td>\n",
       "      <td>153</td>\n",
       "      <td>8.5</td>\n",
       "      <td>English</td>\n",
       "    </tr>\n",
       "    <tr>\n",
       "      <th>582</th>\n",
       "      <td>Emicida: AmarElo - It's All For Yesterday</td>\n",
       "      <td>Documentary</td>\n",
       "      <td>December 8, 2020</td>\n",
       "      <td>89</td>\n",
       "      <td>8.6</td>\n",
       "      <td>Portuguese</td>\n",
       "    </tr>\n",
       "    <tr>\n",
       "      <th>583</th>\n",
       "      <td>David Attenborough: A Life on Our Planet</td>\n",
       "      <td>Documentary</td>\n",
       "      <td>October 4, 2020</td>\n",
       "      <td>83</td>\n",
       "      <td>9.0</td>\n",
       "      <td>English</td>\n",
       "    </tr>\n",
       "  </tbody>\n",
       "</table>\n",
       "<p>399 rows × 6 columns</p>\n",
       "</div>"
      ],
      "text/plain": [
       "                                           Title         Genre  \\\n",
       "6                              Leyla Everlasting        Comedy   \n",
       "9                             Sardar Ka Grandson        Comedy   \n",
       "18                     What Happened to Mr. Cha?        Comedy   \n",
       "22                                    Sextuplets        Comedy   \n",
       "27                              Seriously Single        Comedy   \n",
       "..                                           ...           ...   \n",
       "579        Taylor Swift: Reputation Stadium Tour  Concert Film   \n",
       "580  Winter on Fire: Ukraine's Fight for Freedom   Documentary   \n",
       "581                      Springsteen on Broadway  One-man show   \n",
       "582    Emicida: AmarElo - It's All For Yesterday   Documentary   \n",
       "583     David Attenborough: A Life on Our Planet   Documentary   \n",
       "\n",
       "              Premiere  Runtime  IMDB Score                  Language  \n",
       "6     December 4, 2020      112         3.7                   Turkish  \n",
       "9         May 18, 2021      139         4.1                     Hindi  \n",
       "18     January 1, 2021      102         4.3                    Korean  \n",
       "22     August 16, 2019       99         4.4                   English  \n",
       "27       July 31, 2020      107         4.5                   English  \n",
       "..                 ...      ...         ...                       ...  \n",
       "579  December 31, 2018      125         8.4                   English  \n",
       "580    October 9, 2015       91         8.4  English/Ukranian/Russian  \n",
       "581  December 16, 2018      153         8.5                   English  \n",
       "582   December 8, 2020       89         8.6                Portuguese  \n",
       "583    October 4, 2020       83         9.0                   English  \n",
       "\n",
       "[399 rows x 6 columns]"
      ]
     },
     "execution_count": 18,
     "metadata": {},
     "output_type": "execute_result"
    }
   ],
   "source": [
    "#or\n",
    "n[genre_mask | imdb_mask]"
   ]
  },
  {
   "cell_type": "code",
   "execution_count": 19,
   "metadata": {},
   "outputs": [
    {
     "data": {
      "text/plain": [
       "Language\n",
       "Bengali                         1\n",
       "Dutch                           3\n",
       "English                       401\n",
       "English/Akan                    1\n",
       "English/Arabic                  1\n",
       "English/Hindi                   2\n",
       "English/Japanese                2\n",
       "English/Korean                  1\n",
       "English/Mandarin                2\n",
       "English/Russian                 1\n",
       "English/Spanish                 5\n",
       "English/Swedish                 1\n",
       "English/Taiwanese/Mandarin      1\n",
       "English/Ukranian/Russian        1\n",
       "Filipino                        2\n",
       "French                         20\n",
       "Georgian                        1\n",
       "German                          5\n",
       "Hindi                          33\n",
       "Indonesian                      9\n",
       "Italian                        14\n",
       "Japanese                        6\n",
       "Khmer/English/French            1\n",
       "Korean                          6\n",
       "Malay                           1\n",
       "Marathi                         3\n",
       "Norwegian                       1\n",
       "Polish                          3\n",
       "Portuguese                     12\n",
       "Spanish                        31\n",
       "Spanish/Basque                  1\n",
       "Spanish/Catalan                 1\n",
       "Spanish/English                 1\n",
       "Swedish                         1\n",
       "Tamil                           1\n",
       "Thai                            2\n",
       "Thia/English                    1\n",
       "Turkish                         5\n",
       "dtype: int64"
      ]
     },
     "execution_count": 19,
     "metadata": {},
     "output_type": "execute_result"
    }
   ],
   "source": [
    "n.groupby('Language').size() #/.value_counts()"
   ]
  },
  {
   "cell_type": "code",
   "execution_count": 20,
   "metadata": {},
   "outputs": [
    {
     "data": {
      "text/plain": [
       "Genre\n",
       "Action              756\n",
       "Action comedy       506\n",
       "Action thriller      82\n",
       "Action-adventure    121\n",
       "Action-thriller     359\n",
       "                   ... \n",
       "War                 221\n",
       "War drama           291\n",
       "War-Comedy          122\n",
       "Western             350\n",
       "Zombie/Heist        148\n",
       "Name: Runtime, Length: 115, dtype: int64"
      ]
     },
     "execution_count": 20,
     "metadata": {},
     "output_type": "execute_result"
    }
   ],
   "source": [
    "n.groupby('Genre')['Runtime'].sum()"
   ]
  },
  {
   "cell_type": "code",
   "execution_count": 21,
   "metadata": {},
   "outputs": [
    {
     "data": {
      "text/plain": [
       "Genre\n",
       "Action                                Extraction\n",
       "Action comedy               Spenser Confidential\n",
       "Action thriller                         Wheelman\n",
       "Action-adventure                            Okja\n",
       "Action-thriller           The Night Comes for Us\n",
       "                                ...             \n",
       "War                      The Siege of Jadotville\n",
       "War drama                    Beasts of No Nation\n",
       "War-Comedy                           War Machine\n",
       "Western             The Ballad of Buster Scruggs\n",
       "Zombie/Heist                    Army of the Dead\n",
       "Name: Title, Length: 115, dtype: object"
      ]
     },
     "execution_count": 21,
     "metadata": {},
     "output_type": "execute_result"
    }
   ],
   "source": [
    "# Determine the top rated movie (by star rating) for each genre.\n",
    "n.sort_values(by = 'IMDB Score', ascending = False).groupby('Genre')['Title'].first()"
   ]
  },
  {
   "cell_type": "code",
   "execution_count": 81,
   "metadata": {},
   "outputs": [
    {
     "data": {
      "text/html": [
       "<div>\n",
       "<style scoped>\n",
       "    .dataframe tbody tr th:only-of-type {\n",
       "        vertical-align: middle;\n",
       "    }\n",
       "\n",
       "    .dataframe tbody tr th {\n",
       "        vertical-align: top;\n",
       "    }\n",
       "\n",
       "    .dataframe thead th {\n",
       "        text-align: right;\n",
       "    }\n",
       "</style>\n",
       "<table border=\"1\" class=\"dataframe\">\n",
       "  <thead>\n",
       "    <tr style=\"text-align: right;\">\n",
       "      <th></th>\n",
       "      <th>count</th>\n",
       "      <th>min</th>\n",
       "      <th>mean</th>\n",
       "    </tr>\n",
       "    <tr>\n",
       "      <th>Genre</th>\n",
       "      <th></th>\n",
       "      <th></th>\n",
       "      <th></th>\n",
       "    </tr>\n",
       "  </thead>\n",
       "  <tbody>\n",
       "    <tr>\n",
       "      <th>Action</th>\n",
       "      <td>7</td>\n",
       "      <td>3.5</td>\n",
       "      <td>5.414286</td>\n",
       "    </tr>\n",
       "    <tr>\n",
       "      <th>Action comedy</th>\n",
       "      <td>5</td>\n",
       "      <td>4.2</td>\n",
       "      <td>5.420000</td>\n",
       "    </tr>\n",
       "    <tr>\n",
       "      <th>Action thriller</th>\n",
       "      <td>1</td>\n",
       "      <td>6.4</td>\n",
       "      <td>6.400000</td>\n",
       "    </tr>\n",
       "    <tr>\n",
       "      <th>Action-adventure</th>\n",
       "      <td>1</td>\n",
       "      <td>7.3</td>\n",
       "      <td>7.300000</td>\n",
       "    </tr>\n",
       "    <tr>\n",
       "      <th>Action-thriller</th>\n",
       "      <td>3</td>\n",
       "      <td>5.0</td>\n",
       "      <td>6.133333</td>\n",
       "    </tr>\n",
       "    <tr>\n",
       "      <th>...</th>\n",
       "      <td>...</td>\n",
       "      <td>...</td>\n",
       "      <td>...</td>\n",
       "    </tr>\n",
       "    <tr>\n",
       "      <th>War</th>\n",
       "      <td>2</td>\n",
       "      <td>6.3</td>\n",
       "      <td>6.750000</td>\n",
       "    </tr>\n",
       "    <tr>\n",
       "      <th>War drama</th>\n",
       "      <td>2</td>\n",
       "      <td>6.5</td>\n",
       "      <td>7.100000</td>\n",
       "    </tr>\n",
       "    <tr>\n",
       "      <th>War-Comedy</th>\n",
       "      <td>1</td>\n",
       "      <td>6.0</td>\n",
       "      <td>6.000000</td>\n",
       "    </tr>\n",
       "    <tr>\n",
       "      <th>Western</th>\n",
       "      <td>3</td>\n",
       "      <td>4.8</td>\n",
       "      <td>6.066667</td>\n",
       "    </tr>\n",
       "    <tr>\n",
       "      <th>Zombie/Heist</th>\n",
       "      <td>1</td>\n",
       "      <td>5.9</td>\n",
       "      <td>5.900000</td>\n",
       "    </tr>\n",
       "  </tbody>\n",
       "</table>\n",
       "<p>115 rows × 3 columns</p>\n",
       "</div>"
      ],
      "text/plain": [
       "                  count  min      mean\n",
       "Genre                                 \n",
       "Action                7  3.5  5.414286\n",
       "Action comedy         5  4.2  5.420000\n",
       "Action thriller       1  6.4  6.400000\n",
       "Action-adventure      1  7.3  7.300000\n",
       "Action-thriller       3  5.0  6.133333\n",
       "...                 ...  ...       ...\n",
       "War                   2  6.3  6.750000\n",
       "War drama             2  6.5  7.100000\n",
       "War-Comedy            1  6.0  6.000000\n",
       "Western               3  4.8  6.066667\n",
       "Zombie/Heist          1  5.9  5.900000\n",
       "\n",
       "[115 rows x 3 columns]"
      ]
     },
     "execution_count": 81,
     "metadata": {},
     "output_type": "execute_result"
    }
   ],
   "source": [
    "n.groupby('Genre')['IMDB Score'].agg(['count', 'min', 'mean'])"
   ]
  },
  {
   "cell_type": "markdown",
   "metadata": {},
   "source": [
    "### Visualizing the data"
   ]
  },
  {
   "cell_type": "code",
   "execution_count": 22,
   "metadata": {},
   "outputs": [
    {
     "data": {
      "image/png": "[encoded data removed]",
      "text/plain": [
       "<Figure size 640x480 with 1 Axes>"
      ]
     },
     "metadata": {},
     "output_type": "display_data"
    }
   ],
   "source": [
    "n['Genre'].value_counts().sort_values(ascending = False).head(10).plot(kind = 'barh', color = 'green', title = \"Top 10 Movie Genres, by Count of Movies\");"
   ]
  },
  {
   "cell_type": "code",
   "execution_count": 23,
   "metadata": {},
   "outputs": [
    {
     "data": {
      "image/png": "[encoded data removed]",
      "text/plain": [
       "<Figure size 640x480 with 1 Axes>"
      ]
     },
     "metadata": {},
     "output_type": "display_data"
    }
   ],
   "source": [
    "n['Runtime'].plot(kind = 'box');"
   ]
  },
  {
   "cell_type": "code",
   "execution_count": 24,
   "metadata": {},
   "outputs": [
    {
     "data": {
      "image/png": "[encoded data removed]",
      "text/plain": [
       "<Figure size 640x480 with 1 Axes>"
      ]
     },
     "metadata": {},
     "output_type": "display_data"
    }
   ],
   "source": [
    "n['IMDB Score'].plot(kind = 'box');"
   ]
  },
  {
   "cell_type": "code",
   "execution_count": 60,
   "metadata": {},
   "outputs": [
    {
     "data": {
      "application/vnd.plotly.v1+json": {
       "config": {
        "plotlyServerURL": "https://plot.ly"
       },
       "data": [
        {
         "alignmentgroup": "True",
         "hovertemplate": "Premiere Year=%{x}<br>Runtime=%{y}<extra></extra>",
         "legendgroup": "2019",
         "marker": {
          "color": "rgb(102, 197, 204)"
         },
         "name": "2019",
         "notched": false,
         "offsetgroup": "2019",
         "orientation": "v",
         "showlegend": true,
         "type": "box",
         "x": [
          2019,
          2019,
          2019,
          2019,
          2019,
          2019,
          2019,
          2019,
          2019,
          2019,
          2019,
          2019,
          2019,
          2019,
          2019,
          2019,
          2019,
          2019,
          2019,
          2019,
          2019,
          2019,
          2019,
          2019,
          2019,
          2019,
          2019,
          2019,
          2019,
          2019,
          2019,
          2019,
          2019,
          2019,
          2019,
          2019,
          2019,
          2019,
          2019,
          2019,
          2019,
          2019,
          2019,
          2019,
          2019,
          2019,
          2019,
          2019,
          2019,
          2019,
          2019,
          2019,
          2019,
          2019,
          2019,
          2019,
          2019,
          2019,
          2019,
          2019,
          2019,
          2019,
          2019,
          2019,
          2019,
          2019,
          2019,
          2019,
          2019,
          2019,
          2019,
          2019,
          2019,
          2019,
          2019,
          2019,
          2019,
          2019,
          2019,
          2019,
          2019,
          2019,
          2019,
          2019,
          2019,
          2019,
          2019,
          2019,
          2019,
          2019,
          2019,
          2019,
          2019,
          2019,
          2019,
          2019,
          2019,
          2019,
          2019,
          2019,
          2019,
          2019,
          2019,
          2019,
          2019,
          2019,
          2019,
          2019,
          2019,
          2019,
          2019,
          2019,
          2019,
          2019,
          2019,
          2019,
          2019,
          2019,
          2019,
          2019,
          2019,
          2019,
          2019,
          2019,
          2019
         ],
         "x0": " ",
         "xaxis": "x",
         "y": [
          58,
          79,
          147,
          25,
          64,
          97,
          99,
          37,
          83,
          46,
          85,
          95,
          94,
          10,
          112,
          98,
          87,
          60,
          102,
          83,
          93,
          85,
          78,
          101,
          94,
          21,
          104,
          63,
          92,
          92,
          103,
          97,
          98,
          98,
          89,
          94,
          86,
          112,
          124,
          90,
          92,
          89,
          107,
          32,
          106,
          90,
          97,
          128,
          82,
          85,
          100,
          90,
          90,
          115,
          92,
          30,
          101,
          118,
          151,
          98,
          87,
          85,
          37,
          112,
          100,
          96,
          41,
          125,
          99,
          28,
          60,
          100,
          40,
          118,
          126,
          130,
          86,
          19,
          106,
          112,
          39,
          102,
          131,
          30,
          28,
          64,
          48,
          84,
          70,
          45,
          108,
          110,
          73,
          96,
          97,
          87,
          114,
          97,
          89,
          99,
          97,
          121,
          140,
          13,
          118,
          121,
          64,
          64,
          110,
          39,
          26,
          118,
          23,
          137,
          71,
          70,
          144,
          85,
          125,
          15,
          76,
          209,
          136,
          97,
          51
         ],
         "y0": " ",
         "yaxis": "y"
        },
        {
         "alignmentgroup": "True",
         "hovertemplate": "Premiere Year=%{x}<br>Runtime=%{y}<extra></extra>",
         "legendgroup": "2020",
         "marker": {
          "color": "rgb(246, 207, 113)"
         },
         "name": "2020",
         "notched": false,
         "offsetgroup": "2020",
         "orientation": "v",
         "showlegend": true,
         "type": "box",
         "x": [
          2020,
          2020,
          2020,
          2020,
          2020,
          2020,
          2020,
          2020,
          2020,
          2020,
          2020,
          2020,
          2020,
          2020,
          2020,
          2020,
          2020,
          2020,
          2020,
          2020,
          2020,
          2020,
          2020,
          2020,
          2020,
          2020,
          2020,
          2020,
          2020,
          2020,
          2020,
          2020,
          2020,
          2020,
          2020,
          2020,
          2020,
          2020,
          2020,
          2020,
          2020,
          2020,
          2020,
          2020,
          2020,
          2020,
          2020,
          2020,
          2020,
          2020,
          2020,
          2020,
          2020,
          2020,
          2020,
          2020,
          2020,
          2020,
          2020,
          2020,
          2020,
          2020,
          2020,
          2020,
          2020,
          2020,
          2020,
          2020,
          2020,
          2020,
          2020,
          2020,
          2020,
          2020,
          2020,
          2020,
          2020,
          2020,
          2020,
          2020,
          2020,
          2020,
          2020,
          2020,
          2020,
          2020,
          2020,
          2020,
          2020,
          2020,
          2020,
          2020,
          2020,
          2020,
          2020,
          2020,
          2020,
          2020,
          2020,
          2020,
          2020,
          2020,
          2020,
          2020,
          2020,
          2020,
          2020,
          2020,
          2020,
          2020,
          2020,
          2020,
          2020,
          2020,
          2020,
          2020,
          2020,
          2020,
          2020,
          2020,
          2020,
          2020,
          2020,
          2020,
          2020,
          2020,
          2020,
          2020,
          2020,
          2020,
          2020,
          2020,
          2020,
          2020,
          2020,
          2020,
          2020,
          2020,
          2020,
          2020,
          2020,
          2020,
          2020,
          2020,
          2020,
          2020,
          2020,
          2020,
          2020,
          2020,
          2020,
          2020,
          2020,
          2020,
          2020,
          2020,
          2020,
          2020,
          2020,
          2020,
          2020,
          2020,
          2020,
          2020,
          2020,
          2020,
          2020,
          2020,
          2020,
          2020,
          2020,
          2020,
          2020,
          2020,
          2020,
          2020,
          2020,
          2020,
          2020,
          2020,
          2020,
          2020,
          2020
         ],
         "x0": " ",
         "xaxis": "x",
         "y": [
          81,
          90,
          112,
          149,
          112,
          97,
          101,
          144,
          115,
          89,
          107,
          88,
          86,
          105,
          4,
          93,
          100,
          106,
          106,
          103,
          101,
          80,
          89,
          93,
          96,
          86,
          86,
          88,
          90,
          106,
          98,
          103,
          99,
          97,
          112,
          116,
          98,
          120,
          92,
          119,
          97,
          101,
          100,
          106,
          91,
          90,
          49,
          118,
          94,
          103,
          86,
          102,
          125,
          85,
          90,
          107,
          121,
          114,
          98,
          96,
          105,
          94,
          102,
          96,
          131,
          93,
          111,
          120,
          104,
          111,
          83,
          132,
          108,
          113,
          123,
          115,
          102,
          104,
          95,
          116,
          118,
          87,
          96,
          93,
          42,
          151,
          101,
          92,
          72,
          139,
          111,
          107,
          83,
          134,
          103,
          94,
          97,
          113,
          16,
          97,
          95,
          103,
          90,
          108,
          93,
          74,
          9,
          155,
          123,
          93,
          119,
          91,
          91,
          17,
          94,
          134,
          83,
          99,
          104,
          117,
          90,
          117,
          80,
          101,
          124,
          92,
          19,
          89,
          70,
          96,
          85,
          114,
          121,
          28,
          95,
          108,
          100,
          7,
          132,
          83,
          17,
          105,
          14,
          94,
          31,
          117,
          47,
          92,
          80,
          94,
          41,
          138,
          82,
          92,
          124,
          100,
          105,
          96,
          47,
          149,
          114,
          15,
          85,
          87,
          40,
          79,
          90,
          104,
          149,
          94,
          117,
          108,
          72,
          12,
          130,
          82,
          85,
          106,
          107,
          109,
          85,
          89,
          83
         ],
         "y0": " ",
         "yaxis": "y"
        },
        {
         "alignmentgroup": "True",
         "hovertemplate": "Premiere Year=%{x}<br>Runtime=%{y}<extra></extra>",
         "legendgroup": "2018",
         "marker": {
          "color": "rgb(248, 156, 116)"
         },
         "name": "2018",
         "notched": false,
         "offsetgroup": "2018",
         "orientation": "v",
         "showlegend": true,
         "type": "box",
         "x": [
          2018,
          2018,
          2018,
          2018,
          2018,
          2018,
          2018,
          2018,
          2018,
          2018,
          2018,
          2018,
          2018,
          2018,
          2018,
          2018,
          2018,
          2018,
          2018,
          2018,
          2018,
          2018,
          2018,
          2018,
          2018,
          2018,
          2018,
          2018,
          2018,
          2018,
          2018,
          2018,
          2018,
          2018,
          2018,
          2018,
          2018,
          2018,
          2018,
          2018,
          2018,
          2018,
          2018,
          2018,
          2018,
          2018,
          2018,
          2018,
          2018,
          2018,
          2018,
          2018,
          2018,
          2018,
          2018,
          2018,
          2018,
          2018,
          2018,
          2018,
          2018,
          2018,
          2018,
          2018,
          2018,
          2018,
          2018,
          2018,
          2018,
          2018,
          2018,
          2018,
          2018,
          2018,
          2018,
          2018,
          2018,
          2018,
          2018,
          2018,
          2018,
          2018,
          2018,
          2018,
          2018,
          2018,
          2018,
          2018,
          2018,
          2018,
          2018,
          2018,
          2018,
          2018,
          2018,
          2018,
          2018,
          2018,
          2018
         ],
         "x0": " ",
         "xaxis": "x",
         "y": [
          94,
          73,
          95,
          113,
          97,
          94,
          94,
          116,
          92,
          102,
          95,
          101,
          100,
          126,
          108,
          102,
          83,
          94,
          125,
          34,
          95,
          92,
          95,
          78,
          118,
          105,
          97,
          89,
          75,
          96,
          94,
          23,
          95,
          106,
          104,
          105,
          101,
          103,
          98,
          98,
          104,
          99,
          129,
          87,
          104,
          98,
          44,
          120,
          102,
          96,
          98,
          87,
          116,
          97,
          120,
          104,
          105,
          124,
          89,
          58,
          98,
          114,
          144,
          101,
          105,
          101,
          79,
          122,
          23,
          121,
          57,
          95,
          86,
          104,
          121,
          30,
          49,
          40,
          91,
          31,
          58,
          99,
          39,
          133,
          124,
          101,
          11,
          100,
          132,
          97,
          98,
          74,
          99,
          124,
          100,
          135,
          105,
          125,
          153
         ],
         "y0": " ",
         "yaxis": "y"
        },
        {
         "alignmentgroup": "True",
         "hovertemplate": "Premiere Year=%{x}<br>Runtime=%{y}<extra></extra>",
         "legendgroup": "2021",
         "marker": {
          "color": "rgb(220, 176, 242)"
         },
         "name": "2021",
         "notched": false,
         "offsetgroup": "2021",
         "orientation": "v",
         "showlegend": true,
         "type": "box",
         "x": [
          2021,
          2021,
          2021,
          2021,
          2021,
          2021,
          2021,
          2021,
          2021,
          2021,
          2021,
          2021,
          2021,
          2021,
          2021,
          2021,
          2021,
          2021,
          2021,
          2021,
          2021,
          2021,
          2021,
          2021,
          2021,
          2021,
          2021,
          2021,
          2021,
          2021,
          2021,
          2021,
          2021,
          2021,
          2021,
          2021,
          2021,
          2021,
          2021,
          2021,
          2021,
          2021,
          2021,
          2021,
          2021,
          2021,
          2021,
          2021,
          2021,
          2021,
          2021,
          2021,
          2021,
          2021,
          2021,
          2021,
          2021,
          2021,
          2021,
          2021,
          2021,
          2021,
          2021,
          2021,
          2021,
          2021,
          2021,
          2021,
          2021,
          2021,
          2021
         ],
         "x0": " ",
         "xaxis": "x",
         "y": [
          139,
          58,
          102,
          120,
          105,
          97,
          99,
          80,
          102,
          105,
          117,
          112,
          121,
          112,
          114,
          94,
          86,
          142,
          103,
          107,
          83,
          97,
          99,
          91,
          100,
          86,
          107,
          148,
          53,
          123,
          96,
          114,
          95,
          92,
          106,
          114,
          111,
          97,
          90,
          72,
          109,
          119,
          101,
          21,
          55,
          98,
          101,
          86,
          102,
          98,
          136,
          32,
          142,
          92,
          95,
          89,
          106,
          111,
          132,
          97,
          98,
          97,
          114,
          99,
          108,
          106,
          126,
          112,
          125,
          129,
          89
         ],
         "y0": " ",
         "yaxis": "y"
        },
        {
         "alignmentgroup": "True",
         "hovertemplate": "Premiere Year=%{x}<br>Runtime=%{y}<extra></extra>",
         "legendgroup": "2016",
         "marker": {
          "color": "rgb(135, 197, 95)"
         },
         "name": "2016",
         "notched": false,
         "offsetgroup": "2016",
         "orientation": "v",
         "showlegend": true,
         "type": "box",
         "x": [
          2016,
          2016,
          2016,
          2016,
          2016,
          2016,
          2016,
          2016,
          2016,
          2016,
          2016,
          2016,
          2016,
          2016,
          2016,
          2016,
          2016,
          2016,
          2016,
          2016,
          2016,
          2016,
          2016,
          2016,
          2016,
          2016,
          2016,
          2016,
          2016,
          2016
         ],
         "x0": " ",
         "xaxis": "x",
         "y": [
          90,
          89,
          100,
          92,
          95,
          108,
          104,
          95,
          100,
          98,
          89,
          108,
          88,
          79,
          111,
          116,
          76,
          92,
          91,
          98,
          107,
          108,
          24,
          79,
          90,
          97,
          40,
          90,
          112,
          100
         ],
         "y0": " ",
         "yaxis": "y"
        },
        {
         "alignmentgroup": "True",
         "hovertemplate": "Premiere Year=%{x}<br>Runtime=%{y}<extra></extra>",
         "legendgroup": "2017",
         "marker": {
          "color": "rgb(158, 185, 243)"
         },
         "name": "2017",
         "notched": false,
         "offsetgroup": "2017",
         "orientation": "v",
         "showlegend": true,
         "type": "box",
         "x": [
          2017,
          2017,
          2017,
          2017,
          2017,
          2017,
          2017,
          2017,
          2017,
          2017,
          2017,
          2017,
          2017,
          2017,
          2017,
          2017,
          2017,
          2017,
          2017,
          2017,
          2017,
          2017,
          2017,
          2017,
          2017,
          2017,
          2017,
          2017,
          2017,
          2017,
          2017,
          2017,
          2017,
          2017,
          2017,
          2017,
          2017,
          2017,
          2017,
          2017,
          2017,
          2017,
          2017,
          2017,
          2017,
          2017,
          2017,
          2017,
          2017,
          2017,
          2017,
          2017,
          2017,
          2017,
          2017,
          2017,
          2017,
          2017,
          2017,
          2017,
          2017,
          2017,
          2017,
          2017,
          2017,
          2017
         ],
         "x0": " ",
         "xaxis": "x",
         "y": [
          100,
          97,
          80,
          104,
          99,
          70,
          81,
          131,
          96,
          89,
          104,
          89,
          94,
          92,
          52,
          95,
          90,
          122,
          102,
          80,
          94,
          99,
          92,
          95,
          88,
          102,
          117,
          113,
          86,
          85,
          102,
          107,
          97,
          82,
          103,
          95,
          83,
          83,
          106,
          91,
          87,
          54,
          39,
          73,
          107,
          96,
          100,
          103,
          112,
          100,
          109,
          27,
          36,
          78,
          95,
          136,
          101,
          121,
          105,
          40,
          108,
          98,
          94,
          120,
          89,
          114
         ],
         "y0": " ",
         "yaxis": "y"
        },
        {
         "alignmentgroup": "True",
         "hovertemplate": "Premiere Year=%{x}<br>Runtime=%{y}<extra></extra>",
         "legendgroup": "2015",
         "marker": {
          "color": "rgb(254, 136, 177)"
         },
         "name": "2015",
         "notched": false,
         "offsetgroup": "2015",
         "orientation": "v",
         "showlegend": true,
         "type": "box",
         "x": [
          2015,
          2015,
          2015,
          2015,
          2015,
          2015,
          2015,
          2015,
          2015
         ],
         "x0": " ",
         "xaxis": "x",
         "y": [
          119,
          56,
          84,
          81,
          83,
          80,
          84,
          136,
          91
         ],
         "y0": " ",
         "yaxis": "y"
        },
        {
         "alignmentgroup": "True",
         "hovertemplate": "Premiere Year=%{x}<br>Runtime=%{y}<extra></extra>",
         "legendgroup": "2014",
         "marker": {
          "color": "rgb(201, 219, 116)"
         },
         "name": "2014",
         "notched": false,
         "offsetgroup": "2014",
         "orientation": "v",
         "showlegend": true,
         "type": "box",
         "x": [
          2014
         ],
         "x0": " ",
         "xaxis": "x",
         "y": [
          81
         ],
         "y0": " ",
         "yaxis": "y"
        }
       ],
       "layout": {
        "boxmode": "overlay",
        "legend": {
         "title": {
          "text": "Premiere Year"
         },
         "tracegroupgap": 0
        },
        "margin": {
         "t": 60
        },
        "template": {
         "data": {
          "bar": [
           {
            "error_x": {
             "color": "#2a3f5f"
            },
            "error_y": {
             "color": "#2a3f5f"
            },
            "marker": {
             "line": {
              "color": "#E5ECF6",
              "width": 0.5
             },
             "pattern": {
              "fillmode": "overlay",
              "size": 10,
              "solidity": 0.2
             }
            },
            "type": "bar"
           }
          ],
          "barpolar": [
           {
            "marker": {
             "line": {
              "color": "#E5ECF6",
              "width": 0.5
             },
             "pattern": {
              "fillmode": "overlay",
              "size": 10,
              "solidity": 0.2
             }
            },
            "type": "barpolar"
           }
          ],
          "carpet": [
           {
            "aaxis": {
             "endlinecolor": "#2a3f5f",
             "gridcolor": "white",
             "linecolor": "white",
             "minorgridcolor": "white",
             "startlinecolor": "#2a3f5f"
            },
            "baxis": {
             "endlinecolor": "#2a3f5f",
             "gridcolor": "white",
             "linecolor": "white",
             "minorgridcolor": "white",
             "startlinecolor": "#2a3f5f"
            },
            "type": "carpet"
           }
          ],
          "choropleth": [
           {
            "colorbar": {
             "outlinewidth": 0,
             "ticks": ""
            },
            "type": "choropleth"
           }
          ],
          "contour": [
           {
            "colorbar": {
             "outlinewidth": 0,
             "ticks": ""
            },
            "colorscale": [
             [
              0,
              "#0d0887"
             ],
             [
              0.1111111111111111,
              "#46039f"
             ],
             [
              0.2222222222222222,
              "#7201a8"
             ],
             [
              0.3333333333333333,
              "#9c179e"
             ],
             [
              0.4444444444444444,
              "#bd3786"
             ],
             [
              0.5555555555555556,
              "#d8576b"
             ],
             [
              0.6666666666666666,
              "#ed7953"
             ],
             [
              0.7777777777777778,
              "#fb9f3a"
             ],
             [
              0.8888888888888888,
              "#fdca26"
             ],
             [
              1,
              "#f0f921"
             ]
            ],
            "type": "contour"
           }
          ],
          "contourcarpet": [
           {
            "colorbar": {
             "outlinewidth": 0,
             "ticks": ""
            },
            "type": "contourcarpet"
           }
          ],
          "heatmap": [
           {
            "colorbar": {
             "outlinewidth": 0,
             "ticks": ""
            },
            "colorscale": [
             [
              0,
              "#0d0887"
             ],
             [
              0.1111111111111111,
              "#46039f"
             ],
             [
              0.2222222222222222,
              "#7201a8"
             ],
             [
              0.3333333333333333,
              "#9c179e"
             ],
             [
              0.4444444444444444,
              "#bd3786"
             ],
             [
              0.5555555555555556,
              "#d8576b"
             ],
             [
              0.6666666666666666,
              "#ed7953"
             ],
             [
              0.7777777777777778,
              "#fb9f3a"
             ],
             [
              0.8888888888888888,
              "#fdca26"
             ],
             [
              1,
              "#f0f921"
             ]
            ],
            "type": "heatmap"
           }
          ],
          "heatmapgl": [
           {
            "colorbar": {
             "outlinewidth": 0,
             "ticks": ""
            },
            "colorscale": [
             [
              0,
              "#0d0887"
             ],
             [
              0.1111111111111111,
              "#46039f"
             ],
             [
              0.2222222222222222,
              "#7201a8"
             ],
             [
              0.3333333333333333,
              "#9c179e"
             ],
             [
              0.4444444444444444,
              "#bd3786"
             ],
             [
              0.5555555555555556,
              "#d8576b"
             ],
             [
              0.6666666666666666,
              "#ed7953"
             ],
             [
              0.7777777777777778,
              "#fb9f3a"
             ],
             [
              0.8888888888888888,
              "#fdca26"
             ],
             [
              1,
              "#f0f921"
             ]
            ],
            "type": "heatmapgl"
           }
          ],
          "histogram": [
           {
            "marker": {
             "pattern": {
              "fillmode": "overlay",
              "size": 10,
              "solidity": 0.2
             }
            },
            "type": "histogram"
           }
          ],
          "histogram2d": [
           {
            "colorbar": {
             "outlinewidth": 0,
             "ticks": ""
            },
            "colorscale": [
             [
              0,
              "#0d0887"
             ],
             [
              0.1111111111111111,
              "#46039f"
             ],
             [
              0.2222222222222222,
              "#7201a8"
             ],
             [
              0.3333333333333333,
              "#9c179e"
             ],
             [
              0.4444444444444444,
              "#bd3786"
             ],
             [
              0.5555555555555556,
              "#d8576b"
             ],
             [
              0.6666666666666666,
              "#ed7953"
             ],
             [
              0.7777777777777778,
              "#fb9f3a"
             ],
             [
              0.8888888888888888,
              "#fdca26"
             ],
             [
              1,
              "#f0f921"
             ]
            ],
            "type": "histogram2d"
           }
          ],
          "histogram2dcontour": [
           {
            "colorbar": {
             "outlinewidth": 0,
             "ticks": ""
            },
            "colorscale": [
             [
              0,
              "#0d0887"
             ],
             [
              0.1111111111111111,
              "#46039f"
             ],
             [
              0.2222222222222222,
              "#7201a8"
             ],
             [
              0.3333333333333333,
              "#9c179e"
             ],
             [
              0.4444444444444444,
              "#bd3786"
             ],
             [
              0.5555555555555556,
              "#d8576b"
             ],
             [
              0.6666666666666666,
              "#ed7953"
             ],
             [
              0.7777777777777778,
              "#fb9f3a"
             ],
             [
              0.8888888888888888,
              "#fdca26"
             ],
             [
              1,
              "#f0f921"
             ]
            ],
            "type": "histogram2dcontour"
           }
          ],
          "mesh3d": [
           {
            "colorbar": {
             "outlinewidth": 0,
             "ticks": ""
            },
            "type": "mesh3d"
           }
          ],
          "parcoords": [
           {
            "line": {
             "colorbar": {
              "outlinewidth": 0,
              "ticks": ""
             }
            },
            "type": "parcoords"
           }
          ],
          "pie": [
           {
            "automargin": true,
            "type": "pie"
           }
          ],
          "scatter": [
           {
            "fillpattern": {
             "fillmode": "overlay",
             "size": 10,
             "solidity": 0.2
            },
            "type": "scatter"
           }
          ],
          "scatter3d": [
           {
            "line": {
             "colorbar": {
              "outlinewidth": 0,
              "ticks": ""
             }
            },
            "marker": {
             "colorbar": {
              "outlinewidth": 0,
              "ticks": ""
             }
            },
            "type": "scatter3d"
           }
          ],
          "scattercarpet": [
           {
            "marker": {
             "colorbar": {
              "outlinewidth": 0,
              "ticks": ""
             }
            },
            "type": "scattercarpet"
           }
          ],
          "scattergeo": [
           {
            "marker": {
             "colorbar": {
              "outlinewidth": 0,
              "ticks": ""
             }
            },
            "type": "scattergeo"
           }
          ],
          "scattergl": [
           {
            "marker": {
             "colorbar": {
              "outlinewidth": 0,
              "ticks": ""
             }
            },
            "type": "scattergl"
           }
          ],
          "scattermapbox": [
           {
            "marker": {
             "colorbar": {
              "outlinewidth": 0,
              "ticks": ""
             }
            },
            "type": "scattermapbox"
           }
          ],
          "scatterpolar": [
           {
            "marker": {
             "colorbar": {
              "outlinewidth": 0,
              "ticks": ""
             }
            },
            "type": "scatterpolar"
           }
          ],
          "scatterpolargl": [
           {
            "marker": {
             "colorbar": {
              "outlinewidth": 0,
              "ticks": ""
             }
            },
            "type": "scatterpolargl"
           }
          ],
          "scatterternary": [
           {
            "marker": {
             "colorbar": {
              "outlinewidth": 0,
              "ticks": ""
             }
            },
            "type": "scatterternary"
           }
          ],
          "surface": [
           {
            "colorbar": {
             "outlinewidth": 0,
             "ticks": ""
            },
            "colorscale": [
             [
              0,
              "#0d0887"
             ],
             [
              0.1111111111111111,
              "#46039f"
             ],
             [
              0.2222222222222222,
              "#7201a8"
             ],
             [
              0.3333333333333333,
              "#9c179e"
             ],
             [
              0.4444444444444444,
              "#bd3786"
             ],
             [
              0.5555555555555556,
              "#d8576b"
             ],
             [
              0.6666666666666666,
              "#ed7953"
             ],
             [
              0.7777777777777778,
              "#fb9f3a"
             ],
             [
              0.8888888888888888,
              "#fdca26"
             ],
             [
              1,
              "#f0f921"
             ]
            ],
            "type": "surface"
           }
          ],
          "table": [
           {
            "cells": {
             "fill": {
              "color": "#EBF0F8"
             },
             "line": {
              "color": "white"
             }
            },
            "header": {
             "fill": {
              "color": "#C8D4E3"
             },
             "line": {
              "color": "white"
             }
            },
            "type": "table"
           }
          ]
         },
         "layout": {
          "annotationdefaults": {
           "arrowcolor": "#2a3f5f",
           "arrowhead": 0,
           "arrowwidth": 1
          },
          "autotypenumbers": "strict",
          "coloraxis": {
           "colorbar": {
            "outlinewidth": 0,
            "ticks": ""
           }
          },
          "colorscale": {
           "diverging": [
            [
             0,
             "#8e0152"
            ],
            [
             0.1,
             "#c51b7d"
            ],
            [
             0.2,
             "#de77ae"
            ],
            [
             0.3,
             "#f1b6da"
            ],
            [
             0.4,
             "#fde0ef"
            ],
            [
             0.5,
             "#f7f7f7"
            ],
            [
             0.6,
             "#e6f5d0"
            ],
            [
             0.7,
             "#b8e186"
            ],
            [
             0.8,
             "#7fbc41"
            ],
            [
             0.9,
             "#4d9221"
            ],
            [
             1,
             "#276419"
            ]
           ],
           "sequential": [
            [
             0,
             "#0d0887"
            ],
            [
             0.1111111111111111,
             "#46039f"
            ],
            [
             0.2222222222222222,
             "#7201a8"
            ],
            [
             0.3333333333333333,
             "#9c179e"
            ],
            [
             0.4444444444444444,
             "#bd3786"
            ],
            [
             0.5555555555555556,
             "#d8576b"
            ],
            [
             0.6666666666666666,
             "#ed7953"
            ],
            [
             0.7777777777777778,
             "#fb9f3a"
            ],
            [
             0.8888888888888888,
             "#fdca26"
            ],
            [
             1,
             "#f0f921"
            ]
           ],
           "sequentialminus": [
            [
             0,
             "#0d0887"
            ],
            [
             0.1111111111111111,
             "#46039f"
            ],
            [
             0.2222222222222222,
             "#7201a8"
            ],
            [
             0.3333333333333333,
             "#9c179e"
            ],
            [
             0.4444444444444444,
             "#bd3786"
            ],
            [
             0.5555555555555556,
             "#d8576b"
            ],
            [
             0.6666666666666666,
             "#ed7953"
            ],
            [
             0.7777777777777778,
             "#fb9f3a"
            ],
            [
             0.8888888888888888,
             "#fdca26"
            ],
            [
             1,
             "#f0f921"
            ]
           ]
          },
          "colorway": [
           "#636efa",
           "#EF553B",
           "#00cc96",
           "#ab63fa",
           "#FFA15A",
           "#19d3f3",
           "#FF6692",
           "#B6E880",
           "#FF97FF",
           "#FECB52"
          ],
          "font": {
           "color": "#2a3f5f"
          },
          "geo": {
           "bgcolor": "white",
           "lakecolor": "white",
           "landcolor": "#E5ECF6",
           "showlakes": true,
           "showland": true,
           "subunitcolor": "white"
          },
          "hoverlabel": {
           "align": "left"
          },
          "hovermode": "closest",
          "mapbox": {
           "style": "light"
          },
          "paper_bgcolor": "white",
          "plot_bgcolor": "#E5ECF6",
          "polar": {
           "angularaxis": {
            "gridcolor": "white",
            "linecolor": "white",
            "ticks": ""
           },
           "bgcolor": "#E5ECF6",
           "radialaxis": {
            "gridcolor": "white",
            "linecolor": "white",
            "ticks": ""
           }
          },
          "scene": {
           "xaxis": {
            "backgroundcolor": "#E5ECF6",
            "gridcolor": "white",
            "gridwidth": 2,
            "linecolor": "white",
            "showbackground": true,
            "ticks": "",
            "zerolinecolor": "white"
           },
           "yaxis": {
            "backgroundcolor": "#E5ECF6",
            "gridcolor": "white",
            "gridwidth": 2,
            "linecolor": "white",
            "showbackground": true,
            "ticks": "",
            "zerolinecolor": "white"
           },
           "zaxis": {
            "backgroundcolor": "#E5ECF6",
            "gridcolor": "white",
            "gridwidth": 2,
            "linecolor": "white",
            "showbackground": true,
            "ticks": "",
            "zerolinecolor": "white"
           }
          },
          "shapedefaults": {
           "line": {
            "color": "#2a3f5f"
           }
          },
          "ternary": {
           "aaxis": {
            "gridcolor": "white",
            "linecolor": "white",
            "ticks": ""
           },
           "baxis": {
            "gridcolor": "white",
            "linecolor": "white",
            "ticks": ""
           },
           "bgcolor": "#E5ECF6",
           "caxis": {
            "gridcolor": "white",
            "linecolor": "white",
            "ticks": ""
           }
          },
          "title": {
           "x": 0.05
          },
          "xaxis": {
           "automargin": true,
           "gridcolor": "white",
           "linecolor": "white",
           "ticks": "",
           "title": {
            "standoff": 15
           },
           "zerolinecolor": "white",
           "zerolinewidth": 2
          },
          "yaxis": {
           "automargin": true,
           "gridcolor": "white",
           "linecolor": "white",
           "ticks": "",
           "title": {
            "standoff": 15
           },
           "zerolinecolor": "white",
           "zerolinewidth": 2
          }
         }
        },
        "xaxis": {
         "anchor": "y",
         "categoryarray": [
          2019,
          2020,
          2018,
          2021,
          2016,
          2017,
          2015,
          2014
         ],
         "categoryorder": "array",
         "domain": [
          0,
          1
         ],
         "title": {
          "text": "Premiere Year"
         }
        },
        "yaxis": {
         "anchor": "x",
         "domain": [
          0,
          1
         ],
         "title": {
          "text": "Runtime"
         }
        }
       }
      }
     },
     "metadata": {},
     "output_type": "display_data"
    }
   ],
   "source": [
    "px.box(n, x=\"Premiere Year\", y=\"Runtime\", color = 'Premiere Year', color_discrete_sequence = px.colors.qualitative.Pastel)"
   ]
  },
  {
   "cell_type": "code",
   "execution_count": 57,
   "metadata": {},
   "outputs": [
    {
     "data": {
      "image/png": "[encoded data removed]",
      "text/plain": [
       "<Figure size 640x480 with 1 Axes>"
      ]
     },
     "metadata": {},
     "output_type": "display_data"
    }
   ],
   "source": [
    "n['Premiere Year'].value_counts().sort_index().plot();"
   ]
  },
  {
   "cell_type": "code",
   "execution_count": 61,
   "metadata": {},
   "outputs": [
    {
     "data": {
      "text/plain": [
       "Genre\n",
       "Comedy    49\n",
       "Name: count, dtype: int64"
      ]
     },
     "execution_count": 61,
     "metadata": {},
     "output_type": "execute_result"
    }
   ],
   "source": [
    "comedy = n['Genre'] == 'Comedy'\n",
    "n[comedy]['Genre'].value_counts()"
   ]
  },
  {
   "cell_type": "code",
   "execution_count": 63,
   "metadata": {},
   "outputs": [
    {
     "data": {
      "image/png": "[encoded data removed]",
      "text/plain": [
       "<Figure size 640x480 with 1 Axes>"
      ]
     },
     "metadata": {},
     "output_type": "display_data"
    }
   ],
   "source": [
    "n[comedy]['Premiere Year'].value_counts().sort_index().plot();"
   ]
  },
  {
   "cell_type": "code",
   "execution_count": 64,
   "metadata": {},
   "outputs": [
    {
     "data": {
      "text/plain": [
       "<Axes: xlabel='Premiere Year'>"
      ]
     },
     "execution_count": 64,
     "metadata": {},
     "output_type": "execute_result"
    },
    {
     "data": {
      "image/png": "[encoded data removed]",
      "text/plain": [
       "<Figure size 640x480 with 1 Axes>"
      ]
     },
     "metadata": {},
     "output_type": "display_data"
    }
   ],
   "source": [
    "n['Premiere Year'].value_counts().sort_index().plot()\n",
    "n[comedy]['Premiere Year'].value_counts().sort_index().plot()"
   ]
  },
  {
   "cell_type": "code",
   "execution_count": 65,
   "metadata": {},
   "outputs": [
    {
     "data": {
      "image/png": "[encoded data removed]",
      "text/plain": [
       "<Figure size 640x480 with 1 Axes>"
      ]
     },
     "metadata": {},
     "output_type": "display_data"
    }
   ],
   "source": [
    "n['Runtime'].plot(kind = 'hist');"
   ]
  },
  {
   "cell_type": "code",
   "execution_count": 66,
   "metadata": {},
   "outputs": [
    {
     "data": {
      "image/png": "[encoded data removed]",
      "text/plain": [
       "<Figure size 640x480 with 1 Axes>"
      ]
     },
     "metadata": {},
     "output_type": "display_data"
    }
   ],
   "source": [
    "n['IMDB Score'].plot(kind = 'hist', alpha = .4);"
   ]
  },
  {
   "cell_type": "code",
   "execution_count": 67,
   "metadata": {},
   "outputs": [
    {
     "data": {
      "text/plain": [
       "Genre\n",
       "Animation/Christmas/Comedy/Adventure    8.200000\n",
       "Musical / Short                         7.700000\n",
       "Concert Film                            7.633333\n",
       "Anthology/Dark comedy                   7.600000\n",
       "Animation / Science Fiction             7.500000\n",
       "Making-of                               7.450000\n",
       "Action-adventure                        7.300000\n",
       "Historical drama                        7.200000\n",
       "Coming-of-age comedy-drama              7.200000\n",
       "Drama-Comedy                            7.200000\n",
       "Name: IMDB Score, dtype: float64"
      ]
     },
     "execution_count": 67,
     "metadata": {},
     "output_type": "execute_result"
    }
   ],
   "source": [
    "n.groupby('Genre')['IMDB Score'].mean().sort_values(ascending = False).head(10)"
   ]
  },
  {
   "cell_type": "code",
   "execution_count": 120,
   "metadata": {},
   "outputs": [
    {
     "data": {
      "image/png": "[encoded data removed]",
      "text/plain": [
       "<Figure size 640x480 with 1 Axes>"
      ]
     },
     "metadata": {},
     "output_type": "display_data"
    }
   ],
   "source": [
    "n.groupby('Genre')['IMDB Score'].hist();"
   ]
  },
  {
   "cell_type": "markdown",
   "metadata": {},
   "source": [
    "### Begin to filter for top ten genres (by count of movies)"
   ]
  },
  {
   "cell_type": "code",
   "execution_count": 107,
   "metadata": {},
   "outputs": [],
   "source": [
    "topten = n['Genre'].value_counts().sort_values(ascending = False).head(10).index"
   ]
  },
  {
   "cell_type": "code",
   "execution_count": 108,
   "metadata": {},
   "outputs": [
    {
     "data": {
      "text/plain": [
       "Index(['Documentary', 'Drama', 'Comedy', 'Romantic comedy', 'Thriller',\n",
       "       'Comedy-drama', 'Crime drama', 'Biopic', 'Horror', 'Action'],\n",
       "      dtype='object', name='Genre')"
      ]
     },
     "execution_count": 108,
     "metadata": {},
     "output_type": "execute_result"
    }
   ],
   "source": [
    "topten"
   ]
  },
  {
   "cell_type": "code",
   "execution_count": 113,
   "metadata": {},
   "outputs": [],
   "source": [
    "n_topten = n[n['Genre'].isin(topten)]"
   ]
  },
  {
   "cell_type": "code",
   "execution_count": 127,
   "metadata": {},
   "outputs": [
    {
     "data": {
      "image/png": "[encoded data removed]",
      "text/plain": [
       "<Figure size 640x480 with 1 Axes>"
      ]
     },
     "metadata": {},
     "output_type": "display_data"
    }
   ],
   "source": [
    "n_topten.groupby('Genre')['IMDB Score'].hist(alpha=0.5, legend = True);\n",
    "plt.title('IMDB Score Distribution by Top 10 Genres');\n",
    "\n",
    "plt.xlabel('IMDB Score')\n",
    "plt.ylabel('Frequency');"
   ]
  },
  {
   "cell_type": "code",
   "execution_count": 128,
   "metadata": {},
   "outputs": [
    {
     "data": {
      "application/vnd.plotly.v1+json": {
       "config": {
        "plotlyServerURL": "https://plot.ly"
       },
       "data": [
        {
         "customdata": [
          [
           "Enter the Anime",
           "2019-08-05T00:00:00"
          ],
          [
           "Searching for Sheela",
           "2021-04-22T00:00:00"
          ],
          [
           "After the Raid",
           "2019-12-19T00:00:00"
          ],
          [
           "Hello Privilege. It's Me, Chelsea",
           "2019-09-13T00:00:00"
          ],
          [
           "After Maria",
           "2019-05-24T00:00:00"
          ],
          [
           "We Are One",
           "2020-07-14T00:00:00"
          ],
          [
           "Strip Down, Rise Up",
           "2021-02-05T00:00:00"
          ],
          [
           "Ghosts of Sugar Land",
           "2019-10-16T00:00:00"
          ],
          [
           "Why Did You Kill Me?",
           "2021-04-14T00:00:00"
          ],
          [
           "One Take",
           "2020-06-18T00:00:00"
          ],
          [
           "Out of Many, One",
           "2018-12-12T00:00:00"
          ],
          [
           "Notes from Dunblane: Lesson from a School Shooting",
           "2018-09-28T00:00:00"
          ],
          [
           "The Minimalists: Less Is Now",
           "2021-01-01T00:00:00"
          ],
          [
           "Casting JonBenet",
           "2017-04-28T00:00:00"
          ],
          [
           "Hot Girls Wanted",
           "2015-05-29T00:00:00"
          ],
          [
           "The Rachel Divide",
           "2018-04-27T00:00:00"
          ],
          [
           "Voyuer ",
           "2017-12-01T00:00:00"
          ],
          [
           "A Tale of Two Kitchens",
           "2019-05-22T00:00:00"
          ],
          [
           "Nail Bomber: Manhunt",
           "2021-05-26T00:00:00"
          ],
          [
           "The Legend of Cocaine Island",
           "2019-03-29T00:00:00"
          ],
          [
           "Travis Scott: Look Mom I Can Fly",
           "2019-08-28T00:00:00"
          ],
          [
           "Anelka: Misunderstood",
           "2020-08-05T00:00:00"
          ],
          [
           "Birders",
           "2019-09-25T00:00:00"
          ],
          [
           "John Was Trying to Contact Aliens",
           "2020-08-20T00:00:00"
          ],
          [
           "Murder to Mercy: The Cyntoia Brown Story",
           "2020-04-29T00:00:00"
          ],
          [
           "My Own Man",
           "2014-12-13T00:00:00"
          ],
          [
           "Strong Island",
           "2017-09-15T00:00:00"
          ],
          [
           "Take Your Pills",
           "2018-03-16T00:00:00"
          ],
          [
           "The Mars Generation",
           "2017-05-05T00:00:00"
          ],
          [
           "Two Catalonias",
           "2018-09-28T00:00:00"
          ],
          [
           "A 3 Minute Hug",
           "2019-10-28T00:00:00"
          ],
          [
           "Antoine Griezmann: The Making of a Legend",
           "2019-03-21T00:00:00"
          ],
          [
           "Chadwick Boseman: Portrait of an Artist",
           "2021-04-17T00:00:00"
          ],
          [
           "Dolly Parton: A MusiCares Tribute",
           "2021-04-07T00:00:00"
          ],
          [
           "Life Overtakes Me",
           "2019-06-14T00:00:00"
          ],
          [
           "Nobody Speak: Trials of the Free Press",
           "2017-06-23T00:00:00"
          ],
          [
           "I'll Sleep When I'm Dead",
           "2016-08-19T00:00:00"
          ],
          [
           "It Takes a Lunatic",
           "2019-10-25T00:00:00"
          ],
          [
           "Recovery Boys",
           "2018-06-29T00:00:00"
          ],
          [
           "ReMastered: Who Killed Jam Master Jay?",
           "2018-12-07T00:00:00"
          ],
          [
           "Shawn Mendes: In Wonder",
           "2020-11-23T00:00:00"
          ],
          [
           "The American Meme",
           "2018-12-07T00:00:00"
          ],
          [
           "What Would Sophia Loren Do?",
           "2021-01-15T00:00:00"
          ],
          [
           "Bikram: Yogi, Guru, Predator",
           "2019-11-20T00:00:00"
          ],
          [
           "CounterPunch ",
           "2017-06-16T00:00:00"
          ],
          [
           "Crack: Cocaine, Corruption & Conspiracy",
           "2021-01-11T00:00:00"
          ],
          [
           "Giving Voice",
           "2020-12-11T00:00:00"
          ],
          [
           "Hope Frozen: A Quest to Live Twice",
           "2020-09-15T00:00:00"
          ],
          [
           "Little Miss Sumo",
           "2019-10-28T00:00:00"
          ],
          [
           "Parchis: The Documentary",
           "2019-07-10T00:00:00"
          ],
          [
           "Tony Robbins: I Am Not Your Guru",
           "2016-07-15T00:00:00"
          ],
          [
           "A Life of Speed: The Juan Manuel Fangio Story",
           "2020-03-20T00:00:00"
          ],
          [
           "A Love Song for Latasha",
           "2020-09-21T00:00:00"
          ],
          [
           "All in My Family",
           "2019-05-03T00:00:00"
          ],
          [
           "Becoming",
           "2020-05-06T00:00:00"
          ],
          [
           "GIMS: On the Record",
           "2020-09-17T00:00:00"
          ],
          [
           "Have a Good Trip: Adventures in Psychedelics",
           "2020-05-11T00:00:00"
          ],
          [
           "Heroin(e) ",
           "2017-09-12T00:00:00"
          ],
          [
           "Mercury 13",
           "2018-04-20T00:00:00"
          ],
          [
           "Saving Capitalism",
           "2017-11-21T00:00:00"
          ],
          [
           "The Trader",
           "2018-02-09T00:00:00"
          ],
          [
           "Tony Parker: The Final Shot",
           "2021-01-06T00:00:00"
          ],
          [
           "Amanda Knox",
           "2016-09-30T00:00:00"
          ],
          [
           "Bigflo & Oil: Hip Hop Frenzy",
           "2020-10-08T00:00:00"
          ],
          [
           "Biggie: I Got a Story to Tell",
           "2021-03-01T00:00:00"
          ],
          [
           "Laerte-se",
           "2017-05-19T00:00:00"
          ],
          [
           "ReMastered: Who Shot the Sheriff?",
           "2018-10-12T00:00:00"
          ],
          [
           "Seeing Allred",
           "2018-02-09T00:00:00"
          ],
          [
           "Spelling the Dream",
           "2020-06-03T00:00:00"
          ],
          [
           "The Claudia Kishi Club",
           "2020-07-10T00:00:00"
          ],
          [
           "Feminists: What Were They Thinking?",
           "2018-10-12T00:00:00"
          ],
          [
           "Gaga: Five Foot Two",
           "2017-09-22T00:00:00"
          ],
          [
           "Kingdom of Us",
           "2017-10-13T00:00:00"
          ],
          [
           "Lorena, Light-Footed Woman",
           "2019-11-20T00:00:00"
          ],
          [
           "Los Tigres del Norte at Folsom Prison",
           "2019-09-15T00:00:00"
          ],
          [
           "Operation Varsity Blues: The College Admissions Scandal",
           "2021-03-17T00:00:00"
          ],
          [
           "Pele",
           "2021-02-23T00:00:00"
          ],
          [
           "ReMastered: Devil at the Crossroads",
           "2019-04-26T00:00:00"
          ],
          [
           "ReMastered: The Lion's Share",
           "2019-05-17T00:00:00"
          ],
          [
           "ReMastered: The Miami Showband Massacre",
           "2019-03-22T00:00:00"
          ],
          [
           "Resurface",
           "2017-09-01T00:00:00"
          ],
          [
           "Circus of Books",
           "2020-04-22T00:00:00"
          ],
          [
           "Dance Dreams: Hot Chocolate Nutcracker",
           "2020-11-27T00:00:00"
          ],
          [
           "El Pepe: A Supreme Life",
           "2019-12-27T00:00:00"
          ],
          [
           "End Game",
           "2018-05-04T00:00:00"
          ],
          [
           "Evelyn",
           "2019-09-10T00:00:00"
          ],
          [
           "Grass Is Greener",
           "2019-04-20T00:00:00"
          ],
          [
           "Guillermo Vilas: Settling the Score",
           "2020-10-27T00:00:00"
          ],
          [
           "Joshua: Teenager vs. Superpower",
           "2017-05-26T00:00:00"
          ],
          [
           "Keith Richards: Under the Influence",
           "2015-09-18T00:00:00"
          ],
          [
           "Knock Down the House",
           "2019-05-01T00:00:00"
          ],
          [
           "My Beautiful Broken Brain",
           "2016-03-18T00:00:00"
          ],
          [
           "One of Us",
           "2017-10-20T00:00:00"
          ],
          [
           "Ram Dass, Going Home",
           "2018-04-06T00:00:00"
          ],
          [
           "ReMastered: Tricky Dick & the Man in Black",
           "2018-11-02T00:00:00"
          ],
          [
           "Rooting for Roona",
           "2020-10-15T00:00:00"
          ],
          [
           "The Great Hack",
           "2019-07-24T00:00:00"
          ],
          [
           "American Murder: The Family Next Door",
           "2020-09-30T00:00:00"
          ],
          [
           "Audrie & Daisy",
           "2016-09-23T00:00:00"
          ],
          [
           "Fyre: The Greatest Party That Never Happened",
           "2019-01-18T00:00:00"
          ],
          [
           "Into the Inferno",
           "2016-10-28T00:00:00"
          ],
          [
           "LA Originals",
           "2020-04-10T00:00:00"
          ],
          [
           "Ladies First",
           "2018-03-08T00:00:00"
          ],
          [
           "The Edge of Democracy",
           "2019-06-19T00:00:00"
          ],
          [
           "Zion ",
           "2018-08-10T00:00:00"
          ],
          [
           "Extremis",
           "2016-09-13T00:00:00"
          ],
          [
           "Father Soldier Son",
           "2020-07-17T00:00:00"
          ],
          [
           "Get Me Roger Stone",
           "2017-05-12T00:00:00"
          ],
          [
           "Mucho Mucho Amor: The Legend of Walter Mercado ",
           "2020-07-08T00:00:00"
          ],
          [
           "ReMastered: Massacre at the Stadium",
           "2019-01-11T00:00:00"
          ],
          [
           "ReMastered: The Two Killings of Sam Cooke",
           "2019-02-08T00:00:00"
          ],
          [
           "Secrets of the Saqqara Tomb",
           "2020-10-28T00:00:00"
          ],
          [
           "Sky Ladder: The Art of Cai Guo-Qiang",
           "2016-10-14T00:00:00"
          ],
          [
           "Team Foxcatcher",
           "2016-04-29T00:00:00"
          ],
          [
           "The Death and Life of Marsha P. Johnson",
           "2017-10-06T00:00:00"
          ],
          [
           "The Other One: The Long Strange Trip of Bob Weir",
           "2015-05-22T00:00:00"
          ],
          [
           "American Factory",
           "2019-08-21T00:00:00"
          ],
          [
           "Fire in Paradise",
           "2019-11-01T00:00:00"
          ],
          [
           "Long Shot",
           "2017-09-29T00:00:00"
          ],
          [
           "Miss Americana",
           "2020-01-31T00:00:00"
          ],
          [
           "Period. End of Sentence.",
           "2019-02-12T00:00:00"
          ],
          [
           "Shirkers",
           "2018-10-26T00:00:00"
          ],
          [
           "The Black Godfather",
           "2019-06-07T00:00:00"
          ],
          [
           "The Speed Cubers",
           "2020-07-29T00:00:00"
          ],
          [
           "They'll Love Me When I'm Dead",
           "2018-11-02T00:00:00"
          ],
          [
           "Tig",
           "2015-07-17T00:00:00"
          ],
          [
           "Blackpink: Light Up the Sky",
           "2020-10-14T00:00:00"
          ],
          [
           "City of Joy",
           "2018-09-07T00:00:00"
          ],
          [
           "Dick Johnson Is Dead",
           "2020-10-02T00:00:00"
          ],
          [
           "Homecoming: A Film by Beyonce ",
           "2019-04-17T00:00:00"
          ],
          [
           "Joan Didion: The Center Will Not Hold",
           "2017-10-27T00:00:00"
          ],
          [
           "Reversing Roe",
           "2018-09-13T00:00:00"
          ],
          [
           "The White Helmets",
           "2016-09-16T00:00:00"
          ],
          [
           "Athlete A",
           "2020-06-24T00:00:00"
          ],
          [
           "Quincy",
           "2018-09-21T00:00:00"
          ],
          [
           "Rolling Thunder Revue: A bob Dylan Story by Martin Scorsere",
           "2019-06-12T00:00:00"
          ],
          [
           "Tell Me Who I Am",
           "2019-10-18T00:00:00"
          ],
          [
           "The Bleeding Edge",
           "2018-07-27T00:00:00"
          ],
          [
           "The Social Dilemma",
           "2020-09-09T00:00:00"
          ],
          [
           "What Happened, Miss Simone?",
           "2015-06-26T00:00:00"
          ],
          [
           "Brene Brown: The Call to Courage",
           "2019-04-19T00:00:00"
          ],
          [
           "Crip Camp: A Disability Revolution",
           "2020-03-25T00:00:00"
          ],
          [
           "Jim & Andy: The Great Beyond - Featuring a Very Special, Contractually Obligated Mention of Tony Cliffton ",
           "2017-11-17T00:00:00"
          ],
          [
           "A Secret Love",
           "2020-04-29T00:00:00"
          ],
          [
           "Icarus",
           "2017-08-04T00:00:00"
          ],
          [
           "The Ivory Game",
           "2016-11-04T00:00:00"
          ],
          [
           "Struggle: The Life and Lost Art of Szukaiski",
           "2018-12-21T00:00:00"
          ],
          [
           "Chasing Coral ",
           "2017-07-14T00:00:00"
          ],
          [
           "My Octopus Teacher",
           "2020-09-07T00:00:00"
          ],
          [
           "Rising Phoenix",
           "2020-08-26T00:00:00"
          ],
          [
           "13th",
           "2016-10-07T00:00:00"
          ],
          [
           "Disclosure: Trans Lives on Screen",
           "2020-06-19T00:00:00"
          ],
          [
           "Seaspiracy",
           "2021-03-24T00:00:00"
          ],
          [
           "The Three Deaths of Marisela Escobedo",
           "2020-10-14T00:00:00"
          ],
          [
           "Cuba and the Cameraman ",
           "2017-11-24T00:00:00"
          ],
          [
           "Dancing with the Birds",
           "2019-10-23T00:00:00"
          ],
          [
           "Winter on Fire: Ukraine's Fight for Freedom",
           "2015-10-09T00:00:00"
          ],
          [
           "Emicida: AmarElo - It's All For Yesterday",
           "2020-12-08T00:00:00"
          ],
          [
           "David Attenborough: A Life on Our Planet",
           "2020-10-04T00:00:00"
          ]
         ],
         "hovertemplate": "Genre=Documentary<br>IMDB Score=%{x}<br>Runtime=%{y}<br>Title=%{customdata[0]}<br>Premiere=%{customdata[1]}<extra></extra>",
         "legendgroup": "Documentary",
         "marker": {
          "color": "rgb(102, 197, 204)",
          "symbol": "circle"
         },
         "mode": "markers",
         "name": "Documentary",
         "orientation": "v",
         "showlegend": true,
         "type": "scatter",
         "x": [
          2.5,
          4.1,
          4.3,
          4.4,
          4.6,
          4.6,
          5.2,
          5.5,
          5.6,
          5.7,
          5.7,
          5.9,
          5.9,
          6.1,
          6.1,
          6.2,
          6.2,
          6.3,
          6.3,
          6.3,
          6.3,
          6.4,
          6.4,
          6.4,
          6.4,
          6.4,
          6.4,
          6.4,
          6.4,
          6.4,
          6.5,
          6.5,
          6.5,
          6.5,
          6.5,
          6.5,
          6.6,
          6.6,
          6.6,
          6.6,
          6.6,
          6.6,
          6.6,
          6.7,
          6.7,
          6.7,
          6.7,
          6.7,
          6.7,
          6.7,
          6.7,
          6.8,
          6.8,
          6.8,
          6.8,
          6.8,
          6.8,
          6.8,
          6.8,
          6.8,
          6.8,
          6.8,
          6.9,
          6.9,
          6.9,
          6.9,
          6.9,
          6.9,
          6.9,
          6.9,
          7,
          7,
          7,
          7,
          7,
          7,
          7,
          7,
          7,
          7,
          7,
          7.1,
          7.1,
          7.1,
          7.1,
          7.1,
          7.1,
          7.1,
          7.1,
          7.1,
          7.1,
          7.1,
          7.1,
          7.1,
          7.1,
          7.1,
          7.1,
          7.2,
          7.2,
          7.2,
          7.2,
          7.2,
          7.2,
          7.2,
          7.2,
          7.3,
          7.3,
          7.3,
          7.3,
          7.3,
          7.3,
          7.3,
          7.3,
          7.3,
          7.3,
          7.3,
          7.4,
          7.4,
          7.4,
          7.4,
          7.4,
          7.4,
          7.4,
          7.4,
          7.4,
          7.4,
          7.5,
          7.5,
          7.5,
          7.5,
          7.5,
          7.5,
          7.5,
          7.6,
          7.6,
          7.6,
          7.6,
          7.6,
          7.6,
          7.6,
          7.7,
          7.7,
          7.7,
          7.9,
          7.9,
          7.9,
          8,
          8.1,
          8.1,
          8.1,
          8.2,
          8.2,
          8.2,
          8.2,
          8.3,
          8.3,
          8.4,
          8.6,
          9
         ],
         "xaxis": "x",
         "y": [
          58,
          58,
          25,
          64,
          37,
          86,
          112,
          21,
          83,
          85,
          34,
          23,
          53,
          80,
          84,
          104,
          95,
          30,
          72,
          87,
          85,
          94,
          37,
          16,
          97,
          81,
          107,
          87,
          97,
          116,
          28,
          60,
          21,
          55,
          40,
          95,
          79,
          126,
          89,
          58,
          83,
          98,
          32,
          86,
          91,
          89,
          90,
          80,
          19,
          106,
          116,
          92,
          19,
          39,
          89,
          96,
          85,
          39,
          79,
          73,
          23,
          98,
          92,
          100,
          97,
          100,
          57,
          95,
          83,
          17,
          86,
          100,
          109,
          28,
          64,
          99,
          108,
          48,
          84,
          70,
          27,
          92,
          80,
          73,
          40,
          96,
          97,
          94,
          78,
          81,
          87,
          91,
          95,
          31,
          58,
          41,
          114,
          82,
          98,
          97,
          107,
          92,
          39,
          121,
          11,
          24,
          100,
          101,
          96,
          64,
          64,
          114,
          79,
          90,
          105,
          83,
          110,
          39,
          40,
          85,
          26,
          97,
          118,
          40,
          98,
          80,
          79,
          74,
          90,
          137,
          98,
          99,
          40,
          104,
          124,
          144,
          85,
          100,
          94,
          84,
          76,
          108,
          94,
          82,
          120,
          112,
          105,
          89,
          85,
          106,
          100,
          107,
          89,
          109,
          114,
          51,
          91,
          89,
          83
         ],
         "yaxis": "y"
        },
        {
         "customdata": [
          [
           "Dark Forces",
           "2020-08-21T00:00:00"
          ],
          [
           "Mercy",
           "2016-11-22T00:00:00"
          ],
          [
           "Secret Obsession",
           "2019-07-18T00:00:00"
          ],
          [
           "The Girl on the Train",
           "2021-02-26T00:00:00"
          ],
          [
           "Fatal Affair",
           "2020-07-16T00:00:00"
          ],
          [
           "Christmas Crossfire",
           "2020-12-04T00:00:00"
          ],
          [
           "Mrs. Serial Killer",
           "2020-05-01T00:00:00"
          ],
          [
           "Rebirth",
           "2016-07-15T00:00:00"
          ],
          [
           "Clinical",
           "2017-01-13T00:00:00"
          ],
          [
           "Dangerous Lies",
           "2020-04-30T00:00:00"
          ],
          [
           "Intuition",
           "2020-05-28T00:00:00"
          ],
          [
           "The Most Assassinated Woman in the World",
           "2018-09-07T00:00:00"
          ],
          [
           "Guilty",
           "2020-03-06T00:00:00"
          ],
          [
           "Dead Kids",
           "2019-12-01T00:00:00"
          ],
          [
           "Red Dot",
           "2021-02-11T00:00:00"
          ],
          [
           "Hold the Dark",
           "2018-09-28T00:00:00"
          ],
          [
           "The Paramedic",
           "2020-09-16T00:00:00"
          ],
          [
           "Prime Time",
           "2021-04-14T00:00:00"
          ],
          [
           "Velvet Buzzsaw",
           "2019-02-01T00:00:00"
          ],
          [
           "I Am All Girls",
           "2021-05-14T00:00:00"
          ],
          [
           "A Fall from Grace",
           "2020-01-17T00:00:00"
          ],
          [
           "The Decline",
           "2020-03-27T00:00:00"
          ],
          [
           "Unknown Origins",
           "2020-08-28T00:00:00"
          ],
          [
           "In the Shadow of the Moon",
           "2019-09-27T00:00:00"
          ],
          [
           "Lost Bullet",
           "2020-06-19T00:00:00"
          ],
          [
           "Offering to the Storm",
           "2020-07-24T00:00:00"
          ],
          [
           "Time to Hunt",
           "2020-04-23T00:00:00"
          ],
          [
           "Fractured",
           "2019-10-11T00:00:00"
          ],
          [
           "The Occupant",
           "2020-03-25T00:00:00"
          ],
          [
           "His House",
           "2020-10-30T00:00:00"
          ],
          [
           "Calibre",
           "2018-06-29T00:00:00"
          ],
          [
           "AK vs AK",
           "2020-12-24T00:00:00"
          ],
          [
           "Raat Akeli Hai",
           "2020-07-31T00:00:00"
          ]
         ],
         "hovertemplate": "Genre=Thriller<br>IMDB Score=%{x}<br>Runtime=%{y}<br>Title=%{customdata[0]}<br>Premiere=%{customdata[1]}<extra></extra>",
         "legendgroup": "Thriller",
         "marker": {
          "color": "rgb(246, 207, 113)",
          "symbol": "circle"
         },
         "mode": "markers",
         "name": "Thriller",
         "orientation": "v",
         "showlegend": true,
         "type": "scatter",
         "x": [
          2.6,
          4.2,
          4.4,
          4.4,
          4.5,
          4.8,
          4.8,
          5,
          5.1,
          5.3,
          5.3,
          5.3,
          5.4,
          5.5,
          5.5,
          5.6,
          5.6,
          5.7,
          5.7,
          5.8,
          5.9,
          5.9,
          6.1,
          6.2,
          6.2,
          6.2,
          6.3,
          6.4,
          6.4,
          6.5,
          6.8,
          6.9,
          7.3
         ],
         "xaxis": "x",
         "y": [
          81,
          90,
          97,
          120,
          89,
          106,
          106,
          100,
          104,
          97,
          116,
          102,
          119,
          94,
          86,
          125,
          94,
          91,
          112,
          107,
          120,
          83,
          96,
          115,
          92,
          139,
          134,
          100,
          103,
          93,
          101,
          108,
          149
         ],
         "yaxis": "y"
        },
        {
         "customdata": [
          [
           "Drive",
           "2019-11-01T00:00:00"
          ],
          [
           "Sentinelle",
           "2021-03-05T00:00:00"
          ],
          [
           "Earth and Blood",
           "2020-04-17T00:00:00"
          ],
          [
           "Point Blank",
           "2019-07-12T00:00:00"
          ],
          [
           "6 Underground",
           "2019-12-13T00:00:00"
          ],
          [
           "Polar",
           "2019-01-25T00:00:00"
          ],
          [
           "Extraction",
           "2020-04-24T00:00:00"
          ]
         ],
         "hovertemplate": "Genre=Action<br>IMDB Score=%{x}<br>Runtime=%{y}<br>Title=%{customdata[0]}<br>Premiere=%{customdata[1]}<extra></extra>",
         "legendgroup": "Action",
         "marker": {
          "color": "rgb(248, 156, 116)",
          "symbol": "circle"
         },
         "mode": "markers",
         "name": "Action",
         "orientation": "v",
         "showlegend": true,
         "type": "scatter",
         "x": [
          3.5,
          4.7,
          4.9,
          5.7,
          6.1,
          6.3,
          6.7
         ],
         "xaxis": "x",
         "y": [
          147,
          80,
          80,
          86,
          128,
          118,
          117
         ],
         "yaxis": "y"
        },
        {
         "customdata": [
          [
           "Leyla Everlasting",
           "2020-12-04T00:00:00"
          ],
          [
           "Sardar Ka Grandson",
           "2021-05-18T00:00:00"
          ],
          [
           "What Happened to Mr. Cha?",
           "2021-01-01T00:00:00"
          ],
          [
           "Sextuplets",
           "2019-08-16T00:00:00"
          ],
          [
           "Seriously Single",
           "2020-07-31T00:00:00"
          ],
          [
           "The Misadventures of Hedi and Cokeman",
           "2021-02-10T00:00:00"
          ],
          [
           "5 Star Christmas",
           "2018-12-07T00:00:00"
          ],
          [
           "Porta dos Fundos: The First Temptation of Christ",
           "2019-12-03T00:00:00"
          ],
          [
           "The Players",
           "2020-07-15T00:00:00"
          ],
          [
           "Take the 10",
           "2017-01-20T00:00:00"
          ],
          [
           "The Main Event",
           "2020-04-10T00:00:00"
          ],
          [
           "Airplane Mode",
           "2020-01-23T00:00:00"
          ],
          [
           "#REALITYHIGH",
           "2017-09-08T00:00:00"
          ],
          [
           "Father of the Year",
           "2018-07-20T00:00:00"
          ],
          [
           "Girlfriend's Day",
           "2017-02-14T00:00:00"
          ],
          [
           "Handsome: A Netflix Mystery Movie",
           "2017-05-05T00:00:00"
          ],
          [
           "Hubie Halloween",
           "2020-10-07T00:00:00"
          ],
          [
           "Ibiza",
           "2018-05-25T00:00:00"
          ],
          [
           "Sandy Wexler",
           "2017-04-14T00:00:00"
          ],
          [
           "The Week Of",
           "2018-04-27T00:00:00"
          ],
          [
           "Back to School",
           "2019-08-30T00:00:00"
          ],
          [
           "Despite Everything",
           "2019-05-03T00:00:00"
          ],
          [
           "Naked",
           "2017-08-11T00:00:00"
          ],
          [
           "Get the Grift",
           "2021-04-28T00:00:00"
          ],
          [
           "House Arrest",
           "2019-11-15T00:00:00"
          ],
          [
           "Step Sisters",
           "2018-01-19T00:00:00"
          ],
          [
           "Unicorn Store",
           "2019-04-05T00:00:00"
          ],
          [
           "Wine Country",
           "2019-05-10T00:00:00"
          ],
          [
           "Brahman Naman",
           "2016-07-07T00:00:00"
          ],
          [
           "The Sleepover",
           "2020-08-21T00:00:00"
          ],
          [
           "Lionheart",
           "2019-01-04T00:00:00"
          ],
          [
           "The Wrong Missy",
           "2020-05-13T00:00:00"
          ],
          [
           "Yes Day",
           "2021-03-12T00:00:00"
          ],
          [
           "Candy Jar",
           "2018-04-27T00:00:00"
          ],
          [
           "The After Party",
           "2018-08-24T00:00:00"
          ],
          [
           "Between Two Ferns: The Movie",
           "2019-09-20T00:00:00"
          ],
          [
           "Like Father",
           "2018-08-03T00:00:00"
          ],
          [
           "Otherhood",
           "2019-08-02T00:00:00"
          ],
          [
           "Have You Ever Seen Fireflies?",
           "2021-04-09T00:00:00"
          ],
          [
           "Win It All",
           "2017-04-07T00:00:00"
          ],
          [
           "Get the Goat",
           "2021-03-18T00:00:00"
          ],
          [
           "Porta dos Fundos: The Last Hangover",
           "2018-12-21T00:00:00"
          ],
          [
           "Chopsticks",
           "2019-05-31T00:00:00"
          ],
          [
           "The Incredible Jessica James",
           "2017-07-28T00:00:00"
          ],
          [
           "Just Another Christmas",
           "2020-12-03T00:00:00"
          ],
          [
           "Long Live Brij Mohan",
           "2018-08-03T00:00:00"
          ],
          [
           "Death to 2020",
           "2020-12-27T00:00:00"
          ],
          [
           "Rose Island",
           "2020-12-09T00:00:00"
          ],
          [
           "The 40-Year-Old Version",
           "2020-10-09T00:00:00"
          ]
         ],
         "hovertemplate": "Genre=Comedy<br>IMDB Score=%{x}<br>Runtime=%{y}<br>Title=%{customdata[0]}<br>Premiere=%{customdata[1]}<extra></extra>",
         "legendgroup": "Comedy",
         "marker": {
          "color": "rgb(220, 176, 242)",
          "symbol": "circle"
         },
         "mode": "markers",
         "name": "Comedy",
         "orientation": "v",
         "showlegend": true,
         "type": "scatter",
         "x": [
          3.7,
          4.1,
          4.3,
          4.4,
          4.5,
          4.5,
          4.6,
          4.6,
          4.6,
          4.8,
          4.8,
          5,
          5.2,
          5.2,
          5.2,
          5.2,
          5.2,
          5.2,
          5.2,
          5.2,
          5.3,
          5.4,
          5.4,
          5.5,
          5.5,
          5.5,
          5.5,
          5.5,
          5.6,
          5.6,
          5.7,
          5.7,
          5.7,
          5.8,
          5.8,
          6.1,
          6.1,
          6.1,
          6.2,
          6.2,
          6.3,
          6.3,
          6.5,
          6.5,
          6.7,
          6.8,
          6.8,
          7,
          7.2
         ],
         "xaxis": "x",
         "y": [
          112,
          139,
          102,
          99,
          107,
          99,
          95,
          46,
          88,
          80,
          101,
          96,
          99,
          94,
          70,
          81,
          103,
          94,
          131,
          116,
          83,
          78,
          96,
          94,
          104,
          108,
          92,
          103,
          95,
          103,
          94,
          90,
          86,
          92,
          89,
          82,
          103,
          100,
          114,
          88,
          97,
          44,
          100,
          83,
          101,
          105,
          70,
          117,
          124
         ],
         "yaxis": "y"
        },
        {
         "customdata": [
          [
           "The Call",
           "2020-11-27T00:00:00"
          ],
          [
           "Finding Agnes",
           "2020-11-30T00:00:00"
          ],
          [
           "The Binding",
           "2020-10-02T00:00:00"
          ],
          [
           "The Day of the Lord",
           "2020-10-30T00:00:00"
          ],
          [
           "Love Like the Falling Rain",
           "2020-10-15T00:00:00"
          ],
          [
           "Firebrand",
           "2019-02-22T00:00:00"
          ],
          [
           "The Beast",
           "2020-11-27T00:00:00"
          ],
          [
           "Gunjan Saxena: The Kargil Girl",
           "2020-08-12T00:00:00"
          ],
          [
           "Who Would You Take to a Deserted Island?",
           "2019-04-12T00:00:00"
          ],
          [
           "XOXO",
           "2016-08-26T00:00:00"
          ],
          [
           "Dolly Kitty and Those Twinkling Stars",
           "2020-09-18T00:00:00"
          ],
          [
           "Madame Claude",
           "2021-04-02T00:00:00"
          ],
          [
           "Good Sam",
           "2019-05-16T00:00:00"
          ],
          [
           "All Day and a Night",
           "2020-05-01T00:00:00"
          ],
          [
           "American Son",
           "2019-11-01T00:00:00"
          ],
          [
           "Choked: Paisa Bolta Hai",
           "2020-06-05T00:00:00"
          ],
          [
           "Class of '83",
           "2020-08-21T00:00:00"
          ],
          [
           "What We Wanted",
           "2020-11-11T00:00:00"
          ],
          [
           "6 Balloons",
           "2018-04-06T00:00:00"
          ],
          [
           "Horse Girl",
           "2020-02-07T00:00:00"
          ],
          [
           "Forgive Us Our Debts",
           "2018-05-04T00:00:00"
          ],
          [
           "Lovefucked",
           "2019-08-09T00:00:00"
          ],
          [
           "Juanita",
           "2019-03-08T00:00:00"
          ],
          [
           "Burning Sands",
           "2017-03-10T00:00:00"
          ],
          [
           "Deidra & Laney Rob a Train",
           "2017-03-17T00:00:00"
          ],
          [
           "Stuck Apart",
           "2021-01-08T00:00:00"
          ],
          [
           "Tersanjung the Movie",
           "2021-04-01T00:00:00"
          ],
          [
           "Tribhanga  Tedhi Medhi Crazy",
           "2021-01-15T00:00:00"
          ],
          [
           "Below Zero",
           "2021-01-29T00:00:00"
          ],
          [
           "Citation",
           "2020-11-06T00:00:00"
          ],
          [
           "The Land of Steady Habits",
           "2018-09-14T00:00:00"
          ],
          [
           "Concrete Cowboy",
           "2021-04-02T00:00:00"
          ],
          [
           "June & Kopi",
           "2021-01-28T00:00:00"
          ],
          [
           "Music Teacher",
           "2019-04-19T00:00:00"
          ],
          [
           "Notes for My Son",
           "2020-11-24T00:00:00"
          ],
          [
           "The Forest of Love",
           "2019-10-11T00:00:00"
          ],
          [
           "Uncorked",
           "2020-03-27T00:00:00"
          ],
          [
           "Irreplaceable You",
           "2018-02-16T00:00:00"
          ],
          [
           "Street Flow",
           "2019-10-12T00:00:00"
          ],
          [
           "Walk. Ride. Rodeo.",
           "2019-03-08T00:00:00"
          ],
          [
           "All Together Now",
           "2020-08-28T00:00:00"
          ],
          [
           "Lust Stories",
           "2018-06-15T00:00:00"
          ],
          [
           "Monster",
           "2021-05-07T00:00:00"
          ],
          [
           "Nobody Knows I'm Here",
           "2020-06-24T00:00:00"
          ],
          [
           "Tigertail",
           "2020-04-10T00:00:00"
          ],
          [
           "Milestone",
           "2021-05-07T00:00:00"
          ],
          [
           "Ajeeb Daastaans",
           "2021-04-16T00:00:00"
          ],
          [
           "Blue Miracle",
           "2021-05-27T00:00:00"
          ],
          [
           "Hillbilly Elegy",
           "2020-11-24T00:00:00"
          ],
          [
           "Imperial Dreams",
           "2017-02-03T00:00:00"
          ],
          [
           "Moxie",
           "2021-03-03T00:00:00"
          ],
          [
           "Night in Paradise",
           "2021-04-09T00:00:00"
          ],
          [
           "Paper Lives",
           "2021-03-12T00:00:00"
          ],
          [
           "Upstarts",
           "2019-10-18T00:00:00"
          ],
          [
           "22 July",
           "2018-10-10T00:00:00"
          ],
          [
           "7 años",
           "2016-10-28T00:00:00"
          ],
          [
           "Serious Men",
           "2020-10-02T00:00:00"
          ],
          [
           "The Boys in the Band",
           "2020-09-30T00:00:00"
          ],
          [
           "The Life Ahead",
           "2020-11-13T00:00:00"
          ],
          [
           "The Other Side of the Wind",
           "2018-11-02T00:00:00"
          ],
          [
           "To the Bone",
           "2017-07-14T00:00:00"
          ],
          [
           "I Don't Feel at Home in This World Anymore",
           "2017-02-24T00:00:00"
          ],
          [
           "Ma Rainey's Black Bottom",
           "2020-12-18T00:00:00"
          ],
          [
           "Beats",
           "2019-06-19T00:00:00"
          ],
          [
           "Pieces of a Woman",
           "2021-01-07T00:00:00"
          ],
          [
           "The Dig",
           "2021-01-29T00:00:00"
          ],
          [
           "The White Tiger",
           "2021-01-22T00:00:00"
          ],
          [
           "First They Killed My Father",
           "2017-09-15T00:00:00"
          ],
          [
           "Private Life",
           "2018-10-05T00:00:00"
          ],
          [
           "Sometimes",
           "2018-05-01T00:00:00"
          ],
          [
           "The Disciple",
           "2021-04-30T00:00:00"
          ],
          [
           "I'm No Longer Here",
           "2020-05-27T00:00:00"
          ],
          [
           "The Two Popes",
           "2019-12-20T00:00:00"
          ],
          [
           "Yeh Ballet",
           "2020-02-21T00:00:00"
          ],
          [
           "Roma",
           "2018-12-14T00:00:00"
          ],
          [
           "The Trial of the Chicago 7",
           "2020-10-16T00:00:00"
          ],
          [
           "Marriage Story",
           "2019-12-06T00:00:00"
          ]
         ],
         "hovertemplate": "Genre=Drama<br>IMDB Score=%{x}<br>Runtime=%{y}<br>Title=%{customdata[0]}<br>Premiere=%{customdata[1]}<extra></extra>",
         "legendgroup": "Drama",
         "marker": {
          "color": "rgb(135, 197, 95)",
          "symbol": "circle"
         },
         "mode": "markers",
         "name": "Drama",
         "orientation": "v",
         "showlegend": true,
         "type": "scatter",
         "x": [
          4.1,
          4.7,
          4.7,
          4.9,
          5,
          5.2,
          5.2,
          5.3,
          5.3,
          5.3,
          5.4,
          5.4,
          5.7,
          5.8,
          5.8,
          5.8,
          5.8,
          5.8,
          5.9,
          5.9,
          6,
          6,
          6,
          6.1,
          6.1,
          6.1,
          6.1,
          6.1,
          6.2,
          6.2,
          6.2,
          6.3,
          6.3,
          6.3,
          6.3,
          6.3,
          6.3,
          6.4,
          6.4,
          6.4,
          6.5,
          6.5,
          6.5,
          6.5,
          6.5,
          6.6,
          6.7,
          6.7,
          6.7,
          6.7,
          6.7,
          6.7,
          6.7,
          6.7,
          6.8,
          6.8,
          6.8,
          6.8,
          6.8,
          6.8,
          6.8,
          6.9,
          7,
          7.1,
          7.1,
          7.1,
          7.1,
          7.2,
          7.2,
          7.2,
          7.2,
          7.3,
          7.6,
          7.6,
          7.7,
          7.8,
          7.9
         ],
         "xaxis": "x",
         "y": [
          112,
          105,
          93,
          93,
          86,
          112,
          99,
          112,
          93,
          92,
          120,
          112,
          89,
          121,
          90,
          114,
          98,
          93,
          75,
          104,
          104,
          106,
          90,
          102,
          94,
          96,
          114,
          95,
          106,
          151,
          98,
          111,
          90,
          101,
          83,
          151,
          103,
          96,
          96,
          99,
          93,
          120,
          98,
          91,
          91,
          98,
          142,
          95,
          117,
          87,
          111,
          132,
          97,
          112,
          144,
          76,
          114,
          121,
          95,
          122,
          107,
          96,
          94,
          110,
          126,
          112,
          125,
          136,
          124,
          101,
          129,
          105,
          125,
          117,
          135,
          130,
          136
         ],
         "yaxis": "y"
        },
        {
         "customdata": [
          [
           "Whipped",
           "2020-09-18T00:00:00"
          ],
          [
           "Just Say Yes",
           "2021-04-02T00:00:00"
          ],
          [
           "Squared Love",
           "2021-02-11T00:00:00"
          ],
          [
           "Desperados",
           "2020-07-03T00:00:00"
          ],
          [
           "A Christmas Prince: The Royal Wedding",
           "2018-11-30T00:00:00"
          ],
          [
           "To Each, Her Own",
           "2018-06-24T00:00:00"
          ],
          [
           "A Christmas Prince: The Royal Baby",
           "2019-12-05T00:00:00"
          ],
          [
           "The Princess Switch: Switched Again",
           "2020-11-19T00:00:00"
          ],
          [
           "Love Wedding Repeat",
           "2020-04-10T00:00:00"
          ],
          [
           "The Knight Before Christmas",
           "2019-11-21T00:00:00"
          ],
          [
           "Falling Inn Love",
           "2019-08-29T00:00:00"
          ],
          [
           "Love, Guaranteed",
           "2020-09-03T00:00:00"
          ],
          [
           "Ginny Weds Sunny",
           "2020-10-09T00:00:00"
          ],
          [
           "The Holiday Calendar",
           "2018-11-02T00:00:00"
          ],
          [
           "A California Christmas",
           "2020-12-14T00:00:00"
          ],
          [
           "A Christmas Prince",
           "2017-11-17T00:00:00"
          ],
          [
           "Happy Anniversary",
           "2018-03-30T00:00:00"
          ],
          [
           "Let It Snow",
           "2019-11-08T00:00:00"
          ],
          [
           "Operation Christmas Drop",
           "2020-11-05T00:00:00"
          ],
          [
           "Rich in Love",
           "2020-04-30T00:00:00"
          ],
          [
           "The Kissing Booth 2",
           "2020-07-24T00:00:00"
          ],
          [
           "The Perfect Date",
           "2019-04-12T00:00:00"
          ],
          [
           "You've Got This",
           "2020-10-02T00:00:00"
          ],
          [
           "Maska",
           "2020-03-27T00:00:00"
          ],
          [
           "The Kissing Booth",
           "2018-05-11T00:00:00"
          ],
          [
           "The Princess Switch",
           "2018-11-16T00:00:00"
          ],
          [
           "To All the Boys: P.S. I Still Love You",
           "2020-02-12T00:00:00"
          ],
          [
           "The Lovebirds",
           "2020-05-22T00:00:00"
          ],
          [
           "Someone Great",
           "2019-04-19T00:00:00"
          ],
          [
           "Alex Strangelove",
           "2018-06-08T00:00:00"
          ],
          [
           "I Am Not an Easy Man",
           "2018-04-13T00:00:00"
          ],
          [
           "To All the Boys: Always and Forever",
           "2021-02-12T00:00:00"
          ],
          [
           "Isi & Ossi",
           "2020-02-14T00:00:00"
          ],
          [
           "When We First Met",
           "2018-02-09T00:00:00"
          ],
          [
           "Set It Up",
           "2018-06-15T00:00:00"
          ],
          [
           "Crazy About Her",
           "2021-02-26T00:00:00"
          ],
          [
           "Always Be My Maybe",
           "2019-05-31T00:00:00"
          ],
          [
           "To All the Boys I've Loved Before",
           "2018-08-17T00:00:00"
          ],
          [
           "Love per Square Foot",
           "2018-02-14T00:00:00"
          ]
         ],
         "hovertemplate": "Genre=Romantic comedy<br>IMDB Score=%{x}<br>Runtime=%{y}<br>Title=%{customdata[0]}<br>Premiere=%{customdata[1]}<extra></extra>",
         "legendgroup": "Romantic comedy",
         "marker": {
          "color": "rgb(158, 185, 243)",
          "symbol": "circle"
         },
         "mode": "markers",
         "name": "Romantic comedy",
         "orientation": "v",
         "showlegend": true,
         "type": "scatter",
         "x": [
          4.1,
          4.5,
          5,
          5.2,
          5.3,
          5.3,
          5.4,
          5.4,
          5.5,
          5.5,
          5.6,
          5.6,
          5.7,
          5.7,
          5.8,
          5.8,
          5.8,
          5.8,
          5.8,
          5.8,
          5.8,
          5.8,
          5.8,
          5.9,
          6,
          6,
          6,
          6.1,
          6.2,
          6.3,
          6.3,
          6.3,
          6.4,
          6.4,
          6.5,
          6.6,
          6.8,
          7.1,
          7.2
         ],
         "xaxis": "x",
         "y": [
          97,
          97,
          102,
          106,
          92,
          95,
          85,
          97,
          100,
          92,
          97,
          91,
          125,
          95,
          107,
          92,
          78,
          92,
          96,
          105,
          131,
          89,
          111,
          111,
          105,
          101,
          102,
          87,
          92,
          99,
          98,
          109,
          113,
          97,
          105,
          102,
          102,
          99,
          133
         ],
         "yaxis": "y"
        },
        {
         "customdata": [
          [
           "I Am the Pretty Thing That Lives in the House",
           "2016-10-28T00:00:00"
          ],
          [
           "Rattlesnake",
           "2019-10-25T00:00:00"
          ],
          [
           "Nobody Sleeps in the Woods Tonight",
           "2020-10-28T00:00:00"
          ],
          [
           "Cadaver",
           "2020-10-22T00:00:00"
          ],
          [
           "Ghost Lab",
           "2021-05-26T00:00:00"
          ],
          [
           "Things Heard & Seen",
           "2021-04-29T00:00:00"
          ],
          [
           "In the Tall Grass",
           "2019-10-04T00:00:00"
          ],
          [
           "Eli",
           "2019-10-18T00:00:00"
          ],
          [
           "Bulbbul",
           "2020-06-24T00:00:00"
          ]
         ],
         "hovertemplate": "Genre=Horror<br>IMDB Score=%{x}<br>Runtime=%{y}<br>Title=%{customdata[0]}<br>Premiere=%{customdata[1]}<extra></extra>",
         "legendgroup": "Horror",
         "marker": {
          "color": "rgb(254, 136, 177)",
          "symbol": "circle"
         },
         "mode": "markers",
         "name": "Horror",
         "orientation": "v",
         "showlegend": true,
         "type": "scatter",
         "x": [
          4.6,
          4.6,
          4.8,
          5.1,
          5.2,
          5.3,
          5.4,
          5.7,
          6.6
         ],
         "xaxis": "x",
         "y": [
          89,
          85,
          103,
          86,
          117,
          121,
          101,
          98,
          94
         ],
         "yaxis": "y"
        },
        {
         "customdata": [
          [
           "Tall Girl",
           "2019-09-13T00:00:00"
          ],
          [
           "Double Dad",
           "2021-01-15T00:00:00"
          ],
          [
           "The Last Laugh",
           "2019-01-11T00:00:00"
          ],
          [
           "15 August",
           "2019-03-29T00:00:00"
          ],
          [
           "Rajma Chawal",
           "2018-11-30T00:00:00"
          ],
          [
           "The Polka King",
           "2018-01-12T00:00:00"
          ],
          [
           "Crazy Awesome Teachers",
           "2020-08-17T00:00:00"
          ],
          [
           "The Laundromat",
           "2019-10-18T00:00:00"
          ],
          [
           "Nappily Ever After",
           "2018-09-21T00:00:00"
          ],
          [
           "The Heartbreak Club",
           "2021-01-14T00:00:00"
          ],
          [
           "Tallulah",
           "2016-07-29T00:00:00"
          ],
          [
           "Pagglait",
           "2021-03-26T00:00:00"
          ],
          [
           "The Meyerowitz Stories (New and Selected)",
           "2017-10-13T00:00:00"
          ],
          [
           "The Fundamentals of Caring",
           "2016-06-24T00:00:00"
          ]
         ],
         "hovertemplate": "Genre=Comedy-drama<br>IMDB Score=%{x}<br>Runtime=%{y}<br>Title=%{customdata[0]}<br>Premiere=%{customdata[1]}<extra></extra>",
         "legendgroup": "Comedy-drama",
         "marker": {
          "color": "rgb(201, 219, 116)",
          "symbol": "circle"
         },
         "mode": "markers",
         "name": "Comedy-drama",
         "orientation": "v",
         "showlegend": true,
         "type": "scatter",
         "x": [
          5.2,
          5.6,
          5.6,
          5.8,
          5.8,
          5.9,
          6.2,
          6.3,
          6.4,
          6.4,
          6.7,
          6.9,
          6.9,
          7.3
         ],
         "xaxis": "x",
         "y": [
          102,
          103,
          98,
          124,
          118,
          95,
          101,
          98,
          98,
          101,
          111,
          114,
          112,
          97
         ],
         "yaxis": "y"
        },
        {
         "customdata": [
          [
           "Òlòt?ré",
           "2020-10-02T00:00:00"
          ],
          [
           "Lost Girls",
           "2020-03-13T00:00:00"
          ],
          [
           "Rogue City",
           "2020-10-30T00:00:00"
          ],
          [
           "The Outsider",
           "2018-03-09T00:00:00"
          ],
          [
           "The Crimes That Bind",
           "2020-08-20T00:00:00"
          ],
          [
           "The Highwaymen",
           "2019-03-29T00:00:00"
          ],
          [
           "Ferry",
           "2021-05-14T00:00:00"
          ],
          [
           "Soni",
           "2019-01-18T00:00:00"
          ],
          [
           "El Camino: A Breaking Bad Movie",
           "2019-10-11T00:00:00"
          ],
          [
           "On My Skin",
           "2018-09-12T00:00:00"
          ],
          [
           "The Irishman",
           "2019-11-27T00:00:00"
          ]
         ],
         "hovertemplate": "Genre=Crime drama<br>IMDB Score=%{x}<br>Runtime=%{y}<br>Title=%{customdata[0]}<br>Premiere=%{customdata[1]}<extra></extra>",
         "legendgroup": "Crime drama",
         "marker": {
          "color": "rgb(139, 224, 164)",
          "symbol": "circle"
         },
         "mode": "markers",
         "name": "Crime drama",
         "orientation": "v",
         "showlegend": true,
         "type": "scatter",
         "x": [
          5.5,
          6.1,
          6.1,
          6.3,
          6.6,
          6.9,
          7.1,
          7.2,
          7.3,
          7.3,
          7.8
         ],
         "xaxis": "x",
         "y": [
          106,
          95,
          116,
          120,
          99,
          131,
          106,
          97,
          121,
          100,
          209
         ],
         "yaxis": "y"
        },
        {
         "customdata": [
          [
           "Barry",
           "2016-12-16T00:00:00"
          ],
          [
           "Come Sunday",
           "2018-04-13T00:00:00"
          ],
          [
           "Sergio",
           "2020-04-17T00:00:00"
          ],
          [
           "The Most Hated Woman in America",
           "2017-03-24T00:00:00"
          ],
          [
           "Baggio: The Divine Ponytail",
           "2021-05-26T00:00:00"
          ],
          [
           "Roxanne Roxanne",
           "2018-03-23T00:00:00"
          ],
          [
           "Mank",
           "2020-12-04T00:00:00"
          ],
          [
           "The Dirt",
           "2019-03-22T00:00:00"
          ],
          [
           "Dolemite Is My Name",
           "2019-10-25T00:00:00"
          ]
         ],
         "hovertemplate": "Genre=Biopic<br>IMDB Score=%{x}<br>Runtime=%{y}<br>Title=%{customdata[0]}<br>Premiere=%{customdata[1]}<extra></extra>",
         "legendgroup": "Biopic",
         "marker": {
          "color": "rgb(180, 151, 231)",
          "symbol": "circle"
         },
         "mode": "markers",
         "name": "Biopic",
         "orientation": "v",
         "showlegend": true,
         "type": "scatter",
         "x": [
          5.8,
          6,
          6.1,
          6.1,
          6.2,
          6.2,
          6.9,
          7,
          7.3
         ],
         "xaxis": "x",
         "y": [
          104,
          106,
          118,
          92,
          92,
          98,
          132,
          108,
          118
         ],
         "yaxis": "y"
        }
       ],
       "layout": {
        "legend": {
         "title": {
          "text": "Genre"
         },
         "tracegroupgap": 0
        },
        "template": {
         "data": {
          "bar": [
           {
            "error_x": {
             "color": "#2a3f5f"
            },
            "error_y": {
             "color": "#2a3f5f"
            },
            "marker": {
             "line": {
              "color": "#E5ECF6",
              "width": 0.5
             },
             "pattern": {
              "fillmode": "overlay",
              "size": 10,
              "solidity": 0.2
             }
            },
            "type": "bar"
           }
          ],
          "barpolar": [
           {
            "marker": {
             "line": {
              "color": "#E5ECF6",
              "width": 0.5
             },
             "pattern": {
              "fillmode": "overlay",
              "size": 10,
              "solidity": 0.2
             }
            },
            "type": "barpolar"
           }
          ],
          "carpet": [
           {
            "aaxis": {
             "endlinecolor": "#2a3f5f",
             "gridcolor": "white",
             "linecolor": "white",
             "minorgridcolor": "white",
             "startlinecolor": "#2a3f5f"
            },
            "baxis": {
             "endlinecolor": "#2a3f5f",
             "gridcolor": "white",
             "linecolor": "white",
             "minorgridcolor": "white",
             "startlinecolor": "#2a3f5f"
            },
            "type": "carpet"
           }
          ],
          "choropleth": [
           {
            "colorbar": {
             "outlinewidth": 0,
             "ticks": ""
            },
            "type": "choropleth"
           }
          ],
          "contour": [
           {
            "colorbar": {
             "outlinewidth": 0,
             "ticks": ""
            },
            "colorscale": [
             [
              0,
              "#0d0887"
             ],
             [
              0.1111111111111111,
              "#46039f"
             ],
             [
              0.2222222222222222,
              "#7201a8"
             ],
             [
              0.3333333333333333,
              "#9c179e"
             ],
             [
              0.4444444444444444,
              "#bd3786"
             ],
             [
              0.5555555555555556,
              "#d8576b"
             ],
             [
              0.6666666666666666,
              "#ed7953"
             ],
             [
              0.7777777777777778,
              "#fb9f3a"
             ],
             [
              0.8888888888888888,
              "#fdca26"
             ],
             [
              1,
              "#f0f921"
             ]
            ],
            "type": "contour"
           }
          ],
          "contourcarpet": [
           {
            "colorbar": {
             "outlinewidth": 0,
             "ticks": ""
            },
            "type": "contourcarpet"
           }
          ],
          "heatmap": [
           {
            "colorbar": {
             "outlinewidth": 0,
             "ticks": ""
            },
            "colorscale": [
             [
              0,
              "#0d0887"
             ],
             [
              0.1111111111111111,
              "#46039f"
             ],
             [
              0.2222222222222222,
              "#7201a8"
             ],
             [
              0.3333333333333333,
              "#9c179e"
             ],
             [
              0.4444444444444444,
              "#bd3786"
             ],
             [
              0.5555555555555556,
              "#d8576b"
             ],
             [
              0.6666666666666666,
              "#ed7953"
             ],
             [
              0.7777777777777778,
              "#fb9f3a"
             ],
             [
              0.8888888888888888,
              "#fdca26"
             ],
             [
              1,
              "#f0f921"
             ]
            ],
            "type": "heatmap"
           }
          ],
          "heatmapgl": [
           {
            "colorbar": {
             "outlinewidth": 0,
             "ticks": ""
            },
            "colorscale": [
             [
              0,
              "#0d0887"
             ],
             [
              0.1111111111111111,
              "#46039f"
             ],
             [
              0.2222222222222222,
              "#7201a8"
             ],
             [
              0.3333333333333333,
              "#9c179e"
             ],
             [
              0.4444444444444444,
              "#bd3786"
             ],
             [
              0.5555555555555556,
              "#d8576b"
             ],
             [
              0.6666666666666666,
              "#ed7953"
             ],
             [
              0.7777777777777778,
              "#fb9f3a"
             ],
             [
              0.8888888888888888,
              "#fdca26"
             ],
             [
              1,
              "#f0f921"
             ]
            ],
            "type": "heatmapgl"
           }
          ],
          "histogram": [
           {
            "marker": {
             "pattern": {
              "fillmode": "overlay",
              "size": 10,
              "solidity": 0.2
             }
            },
            "type": "histogram"
           }
          ],
          "histogram2d": [
           {
            "colorbar": {
             "outlinewidth": 0,
             "ticks": ""
            },
            "colorscale": [
             [
              0,
              "#0d0887"
             ],
             [
              0.1111111111111111,
              "#46039f"
             ],
             [
              0.2222222222222222,
              "#7201a8"
             ],
             [
              0.3333333333333333,
              "#9c179e"
             ],
             [
              0.4444444444444444,
              "#bd3786"
             ],
             [
              0.5555555555555556,
              "#d8576b"
             ],
             [
              0.6666666666666666,
              "#ed7953"
             ],
             [
              0.7777777777777778,
              "#fb9f3a"
             ],
             [
              0.8888888888888888,
              "#fdca26"
             ],
             [
              1,
              "#f0f921"
             ]
            ],
            "type": "histogram2d"
           }
          ],
          "histogram2dcontour": [
           {
            "colorbar": {
             "outlinewidth": 0,
             "ticks": ""
            },
            "colorscale": [
             [
              0,
              "#0d0887"
             ],
             [
              0.1111111111111111,
              "#46039f"
             ],
             [
              0.2222222222222222,
              "#7201a8"
             ],
             [
              0.3333333333333333,
              "#9c179e"
             ],
             [
              0.4444444444444444,
              "#bd3786"
             ],
             [
              0.5555555555555556,
              "#d8576b"
             ],
             [
              0.6666666666666666,
              "#ed7953"
             ],
             [
              0.7777777777777778,
              "#fb9f3a"
             ],
             [
              0.8888888888888888,
              "#fdca26"
             ],
             [
              1,
              "#f0f921"
             ]
            ],
            "type": "histogram2dcontour"
           }
          ],
          "mesh3d": [
           {
            "colorbar": {
             "outlinewidth": 0,
             "ticks": ""
            },
            "type": "mesh3d"
           }
          ],
          "parcoords": [
           {
            "line": {
             "colorbar": {
              "outlinewidth": 0,
              "ticks": ""
             }
            },
            "type": "parcoords"
           }
          ],
          "pie": [
           {
            "automargin": true,
            "type": "pie"
           }
          ],
          "scatter": [
           {
            "fillpattern": {
             "fillmode": "overlay",
             "size": 10,
             "solidity": 0.2
            },
            "type": "scatter"
           }
          ],
          "scatter3d": [
           {
            "line": {
             "colorbar": {
              "outlinewidth": 0,
              "ticks": ""
             }
            },
            "marker": {
             "colorbar": {
              "outlinewidth": 0,
              "ticks": ""
             }
            },
            "type": "scatter3d"
           }
          ],
          "scattercarpet": [
           {
            "marker": {
             "colorbar": {
              "outlinewidth": 0,
              "ticks": ""
             }
            },
            "type": "scattercarpet"
           }
          ],
          "scattergeo": [
           {
            "marker": {
             "colorbar": {
              "outlinewidth": 0,
              "ticks": ""
             }
            },
            "type": "scattergeo"
           }
          ],
          "scattergl": [
           {
            "marker": {
             "colorbar": {
              "outlinewidth": 0,
              "ticks": ""
             }
            },
            "type": "scattergl"
           }
          ],
          "scattermapbox": [
           {
            "marker": {
             "colorbar": {
              "outlinewidth": 0,
              "ticks": ""
             }
            },
            "type": "scattermapbox"
           }
          ],
          "scatterpolar": [
           {
            "marker": {
             "colorbar": {
              "outlinewidth": 0,
              "ticks": ""
             }
            },
            "type": "scatterpolar"
           }
          ],
          "scatterpolargl": [
           {
            "marker": {
             "colorbar": {
              "outlinewidth": 0,
              "ticks": ""
             }
            },
            "type": "scatterpolargl"
           }
          ],
          "scatterternary": [
           {
            "marker": {
             "colorbar": {
              "outlinewidth": 0,
              "ticks": ""
             }
            },
            "type": "scatterternary"
           }
          ],
          "surface": [
           {
            "colorbar": {
             "outlinewidth": 0,
             "ticks": ""
            },
            "colorscale": [
             [
              0,
              "#0d0887"
             ],
             [
              0.1111111111111111,
              "#46039f"
             ],
             [
              0.2222222222222222,
              "#7201a8"
             ],
             [
              0.3333333333333333,
              "#9c179e"
             ],
             [
              0.4444444444444444,
              "#bd3786"
             ],
             [
              0.5555555555555556,
              "#d8576b"
             ],
             [
              0.6666666666666666,
              "#ed7953"
             ],
             [
              0.7777777777777778,
              "#fb9f3a"
             ],
             [
              0.8888888888888888,
              "#fdca26"
             ],
             [
              1,
              "#f0f921"
             ]
            ],
            "type": "surface"
           }
          ],
          "table": [
           {
            "cells": {
             "fill": {
              "color": "#EBF0F8"
             },
             "line": {
              "color": "white"
             }
            },
            "header": {
             "fill": {
              "color": "#C8D4E3"
             },
             "line": {
              "color": "white"
             }
            },
            "type": "table"
           }
          ]
         },
         "layout": {
          "annotationdefaults": {
           "arrowcolor": "#2a3f5f",
           "arrowhead": 0,
           "arrowwidth": 1
          },
          "autotypenumbers": "strict",
          "coloraxis": {
           "colorbar": {
            "outlinewidth": 0,
            "ticks": ""
           }
          },
          "colorscale": {
           "diverging": [
            [
             0,
             "#8e0152"
            ],
            [
             0.1,
             "#c51b7d"
            ],
            [
             0.2,
             "#de77ae"
            ],
            [
             0.3,
             "#f1b6da"
            ],
            [
             0.4,
             "#fde0ef"
            ],
            [
             0.5,
             "#f7f7f7"
            ],
            [
             0.6,
             "#e6f5d0"
            ],
            [
             0.7,
             "#b8e186"
            ],
            [
             0.8,
             "#7fbc41"
            ],
            [
             0.9,
             "#4d9221"
            ],
            [
             1,
             "#276419"
            ]
           ],
           "sequential": [
            [
             0,
             "#0d0887"
            ],
            [
             0.1111111111111111,
             "#46039f"
            ],
            [
             0.2222222222222222,
             "#7201a8"
            ],
            [
             0.3333333333333333,
             "#9c179e"
            ],
            [
             0.4444444444444444,
             "#bd3786"
            ],
            [
             0.5555555555555556,
             "#d8576b"
            ],
            [
             0.6666666666666666,
             "#ed7953"
            ],
            [
             0.7777777777777778,
             "#fb9f3a"
            ],
            [
             0.8888888888888888,
             "#fdca26"
            ],
            [
             1,
             "#f0f921"
            ]
           ],
           "sequentialminus": [
            [
             0,
             "#0d0887"
            ],
            [
             0.1111111111111111,
             "#46039f"
            ],
            [
             0.2222222222222222,
             "#7201a8"
            ],
            [
             0.3333333333333333,
             "#9c179e"
            ],
            [
             0.4444444444444444,
             "#bd3786"
            ],
            [
             0.5555555555555556,
             "#d8576b"
            ],
            [
             0.6666666666666666,
             "#ed7953"
            ],
            [
             0.7777777777777778,
             "#fb9f3a"
            ],
            [
             0.8888888888888888,
             "#fdca26"
            ],
            [
             1,
             "#f0f921"
            ]
           ]
          },
          "colorway": [
           "#636efa",
           "#EF553B",
           "#00cc96",
           "#ab63fa",
           "#FFA15A",
           "#19d3f3",
           "#FF6692",
           "#B6E880",
           "#FF97FF",
           "#FECB52"
          ],
          "font": {
           "color": "#2a3f5f"
          },
          "geo": {
           "bgcolor": "white",
           "lakecolor": "white",
           "landcolor": "#E5ECF6",
           "showlakes": true,
           "showland": true,
           "subunitcolor": "white"
          },
          "hoverlabel": {
           "align": "left"
          },
          "hovermode": "closest",
          "mapbox": {
           "style": "light"
          },
          "paper_bgcolor": "white",
          "plot_bgcolor": "#E5ECF6",
          "polar": {
           "angularaxis": {
            "gridcolor": "white",
            "linecolor": "white",
            "ticks": ""
           },
           "bgcolor": "#E5ECF6",
           "radialaxis": {
            "gridcolor": "white",
            "linecolor": "white",
            "ticks": ""
           }
          },
          "scene": {
           "xaxis": {
            "backgroundcolor": "#E5ECF6",
            "gridcolor": "white",
            "gridwidth": 2,
            "linecolor": "white",
            "showbackground": true,
            "ticks": "",
            "zerolinecolor": "white"
           },
           "yaxis": {
            "backgroundcolor": "#E5ECF6",
            "gridcolor": "white",
            "gridwidth": 2,
            "linecolor": "white",
            "showbackground": true,
            "ticks": "",
            "zerolinecolor": "white"
           },
           "zaxis": {
            "backgroundcolor": "#E5ECF6",
            "gridcolor": "white",
            "gridwidth": 2,
            "linecolor": "white",
            "showbackground": true,
            "ticks": "",
            "zerolinecolor": "white"
           }
          },
          "shapedefaults": {
           "line": {
            "color": "#2a3f5f"
           }
          },
          "ternary": {
           "aaxis": {
            "gridcolor": "white",
            "linecolor": "white",
            "ticks": ""
           },
           "baxis": {
            "gridcolor": "white",
            "linecolor": "white",
            "ticks": ""
           },
           "bgcolor": "#E5ECF6",
           "caxis": {
            "gridcolor": "white",
            "linecolor": "white",
            "ticks": ""
           }
          },
          "title": {
           "x": 0.05
          },
          "xaxis": {
           "automargin": true,
           "gridcolor": "white",
           "linecolor": "white",
           "ticks": "",
           "title": {
            "standoff": 15
           },
           "zerolinecolor": "white",
           "zerolinewidth": 2
          },
          "yaxis": {
           "automargin": true,
           "gridcolor": "white",
           "linecolor": "white",
           "ticks": "",
           "title": {
            "standoff": 15
           },
           "zerolinecolor": "white",
           "zerolinewidth": 2
          }
         }
        },
        "title": {
         "text": "IMDB Score VS Runtime"
        },
        "xaxis": {
         "anchor": "y",
         "domain": [
          0,
          1
         ],
         "title": {
          "text": "IMDB Score"
         }
        },
        "yaxis": {
         "anchor": "x",
         "domain": [
          0,
          1
         ],
         "title": {
          "text": "Runtime"
         }
        }
       }
      }
     },
     "metadata": {},
     "output_type": "display_data"
    }
   ],
   "source": [
    "# Scatter plot showing correlation between runtime and IMDB Score of movies, colored by Genere\n",
    "\n",
    "px.scatter(n_topten, x = 'IMDB Score', \n",
    "                  y = 'Runtime', \n",
    "                  color = 'Genre', \n",
    "                  hover_data = ['Title', 'Premiere'],\n",
    "                  title = \"IMDB Score VS Runtime\",\n",
    "                  color_discrete_sequence=px.colors.qualitative.Pastel)"
   ]
  },
  {
   "cell_type": "code",
   "execution_count": 142,
   "metadata": {},
   "outputs": [
    {
     "data": {
      "application/vnd.plotly.v1+json": {
       "config": {
        "plotlyServerURL": "https://plot.ly"
       },
       "data": [
        {
         "branchvalues": "total",
         "domain": {
          "x": [
           0,
           1
          ],
          "y": [
           0,
           1
          ]
         },
         "hovertemplate": "labels=%{label}<br>count=%{value}<br>parent=%{parent}<br>id=%{id}<extra></extra>",
         "ids": [
          "Action",
          "Biopic",
          "Comedy",
          "Comedy-drama",
          "Crime drama",
          "Documentary",
          "Drama",
          "Horror",
          "Romantic comedy",
          "Thriller"
         ],
         "labels": [
          "Action",
          "Biopic",
          "Comedy",
          "Comedy-drama",
          "Crime drama",
          "Documentary",
          "Drama",
          "Horror",
          "Romantic comedy",
          "Thriller"
         ],
         "name": "",
         "parents": [
          "",
          "",
          "",
          "",
          "",
          "",
          "",
          "",
          "",
          ""
         ],
         "type": "treemap",
         "values": [
          7,
          9,
          49,
          14,
          11,
          159,
          77,
          9,
          39,
          33
         ]
        }
       ],
       "layout": {
        "legend": {
         "tracegroupgap": 0
        },
        "template": {
         "data": {
          "bar": [
           {
            "error_x": {
             "color": "#2a3f5f"
            },
            "error_y": {
             "color": "#2a3f5f"
            },
            "marker": {
             "line": {
              "color": "#E5ECF6",
              "width": 0.5
             },
             "pattern": {
              "fillmode": "overlay",
              "size": 10,
              "solidity": 0.2
             }
            },
            "type": "bar"
           }
          ],
          "barpolar": [
           {
            "marker": {
             "line": {
              "color": "#E5ECF6",
              "width": 0.5
             },
             "pattern": {
              "fillmode": "overlay",
              "size": 10,
              "solidity": 0.2
             }
            },
            "type": "barpolar"
           }
          ],
          "carpet": [
           {
            "aaxis": {
             "endlinecolor": "#2a3f5f",
             "gridcolor": "white",
             "linecolor": "white",
             "minorgridcolor": "white",
             "startlinecolor": "#2a3f5f"
            },
            "baxis": {
             "endlinecolor": "#2a3f5f",
             "gridcolor": "white",
             "linecolor": "white",
             "minorgridcolor": "white",
             "startlinecolor": "#2a3f5f"
            },
            "type": "carpet"
           }
          ],
          "choropleth": [
           {
            "colorbar": {
             "outlinewidth": 0,
             "ticks": ""
            },
            "type": "choropleth"
           }
          ],
          "contour": [
           {
            "colorbar": {
             "outlinewidth": 0,
             "ticks": ""
            },
            "colorscale": [
             [
              0,
              "#0d0887"
             ],
             [
              0.1111111111111111,
              "#46039f"
             ],
             [
              0.2222222222222222,
              "#7201a8"
             ],
             [
              0.3333333333333333,
              "#9c179e"
             ],
             [
              0.4444444444444444,
              "#bd3786"
             ],
             [
              0.5555555555555556,
              "#d8576b"
             ],
             [
              0.6666666666666666,
              "#ed7953"
             ],
             [
              0.7777777777777778,
              "#fb9f3a"
             ],
             [
              0.8888888888888888,
              "#fdca26"
             ],
             [
              1,
              "#f0f921"
             ]
            ],
            "type": "contour"
           }
          ],
          "contourcarpet": [
           {
            "colorbar": {
             "outlinewidth": 0,
             "ticks": ""
            },
            "type": "contourcarpet"
           }
          ],
          "heatmap": [
           {
            "colorbar": {
             "outlinewidth": 0,
             "ticks": ""
            },
            "colorscale": [
             [
              0,
              "#0d0887"
             ],
             [
              0.1111111111111111,
              "#46039f"
             ],
             [
              0.2222222222222222,
              "#7201a8"
             ],
             [
              0.3333333333333333,
              "#9c179e"
             ],
             [
              0.4444444444444444,
              "#bd3786"
             ],
             [
              0.5555555555555556,
              "#d8576b"
             ],
             [
              0.6666666666666666,
              "#ed7953"
             ],
             [
              0.7777777777777778,
              "#fb9f3a"
             ],
             [
              0.8888888888888888,
              "#fdca26"
             ],
             [
              1,
              "#f0f921"
             ]
            ],
            "type": "heatmap"
           }
          ],
          "heatmapgl": [
           {
            "colorbar": {
             "outlinewidth": 0,
             "ticks": ""
            },
            "colorscale": [
             [
              0,
              "#0d0887"
             ],
             [
              0.1111111111111111,
              "#46039f"
             ],
             [
              0.2222222222222222,
              "#7201a8"
             ],
             [
              0.3333333333333333,
              "#9c179e"
             ],
             [
              0.4444444444444444,
              "#bd3786"
             ],
             [
              0.5555555555555556,
              "#d8576b"
             ],
             [
              0.6666666666666666,
              "#ed7953"
             ],
             [
              0.7777777777777778,
              "#fb9f3a"
             ],
             [
              0.8888888888888888,
              "#fdca26"
             ],
             [
              1,
              "#f0f921"
             ]
            ],
            "type": "heatmapgl"
           }
          ],
          "histogram": [
           {
            "marker": {
             "pattern": {
              "fillmode": "overlay",
              "size": 10,
              "solidity": 0.2
             }
            },
            "type": "histogram"
           }
          ],
          "histogram2d": [
           {
            "colorbar": {
             "outlinewidth": 0,
             "ticks": ""
            },
            "colorscale": [
             [
              0,
              "#0d0887"
             ],
             [
              0.1111111111111111,
              "#46039f"
             ],
             [
              0.2222222222222222,
              "#7201a8"
             ],
             [
              0.3333333333333333,
              "#9c179e"
             ],
             [
              0.4444444444444444,
              "#bd3786"
             ],
             [
              0.5555555555555556,
              "#d8576b"
             ],
             [
              0.6666666666666666,
              "#ed7953"
             ],
             [
              0.7777777777777778,
              "#fb9f3a"
             ],
             [
              0.8888888888888888,
              "#fdca26"
             ],
             [
              1,
              "#f0f921"
             ]
            ],
            "type": "histogram2d"
           }
          ],
          "histogram2dcontour": [
           {
            "colorbar": {
             "outlinewidth": 0,
             "ticks": ""
            },
            "colorscale": [
             [
              0,
              "#0d0887"
             ],
             [
              0.1111111111111111,
              "#46039f"
             ],
             [
              0.2222222222222222,
              "#7201a8"
             ],
             [
              0.3333333333333333,
              "#9c179e"
             ],
             [
              0.4444444444444444,
              "#bd3786"
             ],
             [
              0.5555555555555556,
              "#d8576b"
             ],
             [
              0.6666666666666666,
              "#ed7953"
             ],
             [
              0.7777777777777778,
              "#fb9f3a"
             ],
             [
              0.8888888888888888,
              "#fdca26"
             ],
             [
              1,
              "#f0f921"
             ]
            ],
            "type": "histogram2dcontour"
           }
          ],
          "mesh3d": [
           {
            "colorbar": {
             "outlinewidth": 0,
             "ticks": ""
            },
            "type": "mesh3d"
           }
          ],
          "parcoords": [
           {
            "line": {
             "colorbar": {
              "outlinewidth": 0,
              "ticks": ""
             }
            },
            "type": "parcoords"
           }
          ],
          "pie": [
           {
            "automargin": true,
            "type": "pie"
           }
          ],
          "scatter": [
           {
            "fillpattern": {
             "fillmode": "overlay",
             "size": 10,
             "solidity": 0.2
            },
            "type": "scatter"
           }
          ],
          "scatter3d": [
           {
            "line": {
             "colorbar": {
              "outlinewidth": 0,
              "ticks": ""
             }
            },
            "marker": {
             "colorbar": {
              "outlinewidth": 0,
              "ticks": ""
             }
            },
            "type": "scatter3d"
           }
          ],
          "scattercarpet": [
           {
            "marker": {
             "colorbar": {
              "outlinewidth": 0,
              "ticks": ""
             }
            },
            "type": "scattercarpet"
           }
          ],
          "scattergeo": [
           {
            "marker": {
             "colorbar": {
              "outlinewidth": 0,
              "ticks": ""
             }
            },
            "type": "scattergeo"
           }
          ],
          "scattergl": [
           {
            "marker": {
             "colorbar": {
              "outlinewidth": 0,
              "ticks": ""
             }
            },
            "type": "scattergl"
           }
          ],
          "scattermapbox": [
           {
            "marker": {
             "colorbar": {
              "outlinewidth": 0,
              "ticks": ""
             }
            },
            "type": "scattermapbox"
           }
          ],
          "scatterpolar": [
           {
            "marker": {
             "colorbar": {
              "outlinewidth": 0,
              "ticks": ""
             }
            },
            "type": "scatterpolar"
           }
          ],
          "scatterpolargl": [
           {
            "marker": {
             "colorbar": {
              "outlinewidth": 0,
              "ticks": ""
             }
            },
            "type": "scatterpolargl"
           }
          ],
          "scatterternary": [
           {
            "marker": {
             "colorbar": {
              "outlinewidth": 0,
              "ticks": ""
             }
            },
            "type": "scatterternary"
           }
          ],
          "surface": [
           {
            "colorbar": {
             "outlinewidth": 0,
             "ticks": ""
            },
            "colorscale": [
             [
              0,
              "#0d0887"
             ],
             [
              0.1111111111111111,
              "#46039f"
             ],
             [
              0.2222222222222222,
              "#7201a8"
             ],
             [
              0.3333333333333333,
              "#9c179e"
             ],
             [
              0.4444444444444444,
              "#bd3786"
             ],
             [
              0.5555555555555556,
              "#d8576b"
             ],
             [
              0.6666666666666666,
              "#ed7953"
             ],
             [
              0.7777777777777778,
              "#fb9f3a"
             ],
             [
              0.8888888888888888,
              "#fdca26"
             ],
             [
              1,
              "#f0f921"
             ]
            ],
            "type": "surface"
           }
          ],
          "table": [
           {
            "cells": {
             "fill": {
              "color": "#EBF0F8"
             },
             "line": {
              "color": "white"
             }
            },
            "header": {
             "fill": {
              "color": "#C8D4E3"
             },
             "line": {
              "color": "white"
             }
            },
            "type": "table"
           }
          ]
         },
         "layout": {
          "annotationdefaults": {
           "arrowcolor": "#2a3f5f",
           "arrowhead": 0,
           "arrowwidth": 1
          },
          "autotypenumbers": "strict",
          "coloraxis": {
           "colorbar": {
            "outlinewidth": 0,
            "ticks": ""
           }
          },
          "colorscale": {
           "diverging": [
            [
             0,
             "#8e0152"
            ],
            [
             0.1,
             "#c51b7d"
            ],
            [
             0.2,
             "#de77ae"
            ],
            [
             0.3,
             "#f1b6da"
            ],
            [
             0.4,
             "#fde0ef"
            ],
            [
             0.5,
             "#f7f7f7"
            ],
            [
             0.6,
             "#e6f5d0"
            ],
            [
             0.7,
             "#b8e186"
            ],
            [
             0.8,
             "#7fbc41"
            ],
            [
             0.9,
             "#4d9221"
            ],
            [
             1,
             "#276419"
            ]
           ],
           "sequential": [
            [
             0,
             "#0d0887"
            ],
            [
             0.1111111111111111,
             "#46039f"
            ],
            [
             0.2222222222222222,
             "#7201a8"
            ],
            [
             0.3333333333333333,
             "#9c179e"
            ],
            [
             0.4444444444444444,
             "#bd3786"
            ],
            [
             0.5555555555555556,
             "#d8576b"
            ],
            [
             0.6666666666666666,
             "#ed7953"
            ],
            [
             0.7777777777777778,
             "#fb9f3a"
            ],
            [
             0.8888888888888888,
             "#fdca26"
            ],
            [
             1,
             "#f0f921"
            ]
           ],
           "sequentialminus": [
            [
             0,
             "#0d0887"
            ],
            [
             0.1111111111111111,
             "#46039f"
            ],
            [
             0.2222222222222222,
             "#7201a8"
            ],
            [
             0.3333333333333333,
             "#9c179e"
            ],
            [
             0.4444444444444444,
             "#bd3786"
            ],
            [
             0.5555555555555556,
             "#d8576b"
            ],
            [
             0.6666666666666666,
             "#ed7953"
            ],
            [
             0.7777777777777778,
             "#fb9f3a"
            ],
            [
             0.8888888888888888,
             "#fdca26"
            ],
            [
             1,
             "#f0f921"
            ]
           ]
          },
          "colorway": [
           "#636efa",
           "#EF553B",
           "#00cc96",
           "#ab63fa",
           "#FFA15A",
           "#19d3f3",
           "#FF6692",
           "#B6E880",
           "#FF97FF",
           "#FECB52"
          ],
          "font": {
           "color": "#2a3f5f"
          },
          "geo": {
           "bgcolor": "white",
           "lakecolor": "white",
           "landcolor": "#E5ECF6",
           "showlakes": true,
           "showland": true,
           "subunitcolor": "white"
          },
          "hoverlabel": {
           "align": "left"
          },
          "hovermode": "closest",
          "mapbox": {
           "style": "light"
          },
          "paper_bgcolor": "white",
          "plot_bgcolor": "#E5ECF6",
          "polar": {
           "angularaxis": {
            "gridcolor": "white",
            "linecolor": "white",
            "ticks": ""
           },
           "bgcolor": "#E5ECF6",
           "radialaxis": {
            "gridcolor": "white",
            "linecolor": "white",
            "ticks": ""
           }
          },
          "scene": {
           "xaxis": {
            "backgroundcolor": "#E5ECF6",
            "gridcolor": "white",
            "gridwidth": 2,
            "linecolor": "white",
            "showbackground": true,
            "ticks": "",
            "zerolinecolor": "white"
           },
           "yaxis": {
            "backgroundcolor": "#E5ECF6",
            "gridcolor": "white",
            "gridwidth": 2,
            "linecolor": "white",
            "showbackground": true,
            "ticks": "",
            "zerolinecolor": "white"
           },
           "zaxis": {
            "backgroundcolor": "#E5ECF6",
            "gridcolor": "white",
            "gridwidth": 2,
            "linecolor": "white",
            "showbackground": true,
            "ticks": "",
            "zerolinecolor": "white"
           }
          },
          "shapedefaults": {
           "line": {
            "color": "#2a3f5f"
           }
          },
          "ternary": {
           "aaxis": {
            "gridcolor": "white",
            "linecolor": "white",
            "ticks": ""
           },
           "baxis": {
            "gridcolor": "white",
            "linecolor": "white",
            "ticks": ""
           },
           "bgcolor": "#E5ECF6",
           "caxis": {
            "gridcolor": "white",
            "linecolor": "white",
            "ticks": ""
           }
          },
          "title": {
           "x": 0.05
          },
          "xaxis": {
           "automargin": true,
           "gridcolor": "white",
           "linecolor": "white",
           "ticks": "",
           "title": {
            "standoff": 15
           },
           "zerolinecolor": "white",
           "zerolinewidth": 2
          },
          "yaxis": {
           "automargin": true,
           "gridcolor": "white",
           "linecolor": "white",
           "ticks": "",
           "title": {
            "standoff": 15
           },
           "zerolinecolor": "white",
           "zerolinewidth": 2
          }
         }
        },
        "title": {
         "text": "Movie Count for Top Ten Genres"
        },
        "treemapcolorway": [
         "rgb(102, 197, 204)",
         "rgb(246, 207, 113)",
         "rgb(248, 156, 116)",
         "rgb(220, 176, 242)",
         "rgb(135, 197, 95)",
         "rgb(158, 185, 243)",
         "rgb(254, 136, 177)",
         "rgb(201, 219, 116)",
         "rgb(139, 224, 164)",
         "rgb(180, 151, 231)",
         "rgb(179, 179, 179)"
        ]
       }
      }
     },
     "metadata": {},
     "output_type": "display_data"
    }
   ],
   "source": [
    "# Treemap showing count of movies per top ten category - Documentary leads the way, Action is last\n",
    "px.treemap(n_topten, path=['Genre'], title = 'Movie Count for Top Ten Genres', color_discrete_sequence=px.colors.qualitative.Pastel)"
   ]
  },
  {
   "cell_type": "code",
   "execution_count": 163,
   "metadata": {},
   "outputs": [
    {
     "name": "stderr",
     "output_type": "stream",
     "text": [
      "/var/folders/rb/qx5qmmrs6nn_8zcrwgr7ds6m0000gn/T/ipykernel_91493/2194937386.py:1: SettingWithCopyWarning:\n",
      "\n",
      "\n",
      "A value is trying to be set on a copy of a slice from a DataFrame.\n",
      "Try using .loc[row_indexer,col_indexer] = value instead\n",
      "\n",
      "See the caveats in the documentation: https://pandas.pydata.org/pandas-docs/stable/user_guide/indexing.html#returning-a-view-versus-a-copy\n",
      "\n"
     ]
    }
   ],
   "source": [
    "n_topten['Premiere Year'] = pd.Categorical(n_topten['Premiere Year'])"
   ]
  },
  {
   "cell_type": "code",
   "execution_count": 165,
   "metadata": {},
   "outputs": [
    {
     "name": "stderr",
     "output_type": "stream",
     "text": [
      "/var/folders/rb/qx5qmmrs6nn_8zcrwgr7ds6m0000gn/T/ipykernel_91493/3063829180.py:1: FutureWarning:\n",
      "\n",
      "The default of observed=False is deprecated and will be changed to True in a future version of pandas. Pass observed=False to retain current behavior or observed=True to adopt the future default and silence this warning.\n",
      "\n"
     ]
    },
    {
     "data": {
      "application/vnd.plotly.v1+json": {
       "config": {
        "plotlyServerURL": "https://plot.ly"
       },
       "data": [
        {
         "alignmentgroup": "True",
         "hovertemplate": "Premiere Year=%{x}<br>IMDB Score=%{y}<extra></extra>",
         "legendgroup": "2014",
         "marker": {
          "color": "rgb(102, 197, 204)",
          "pattern": {
           "shape": ""
          }
         },
         "name": "2014",
         "offsetgroup": "2014",
         "orientation": "v",
         "showlegend": true,
         "textposition": "auto",
         "type": "bar",
         "x": [
          2014
         ],
         "xaxis": "x",
         "y": [
          6.4
         ],
         "yaxis": "y"
        },
        {
         "alignmentgroup": "True",
         "hovertemplate": "Premiere Year=%{x}<br>IMDB Score=%{y}<extra></extra>",
         "legendgroup": "2015",
         "marker": {
          "color": "rgb(246, 207, 113)",
          "pattern": {
           "shape": ""
          }
         },
         "name": "2015",
         "offsetgroup": "2015",
         "orientation": "v",
         "showlegend": true,
         "textposition": "auto",
         "type": "bar",
         "x": [
          2015
         ],
         "xaxis": "x",
         "y": [
          7.316666666666666
         ],
         "yaxis": "y"
        },
        {
         "alignmentgroup": "True",
         "hovertemplate": "Premiere Year=%{x}<br>IMDB Score=%{y}<extra></extra>",
         "legendgroup": "2016",
         "marker": {
          "color": "rgb(248, 156, 116)",
          "pattern": {
           "shape": ""
          }
         },
         "name": "2016",
         "offsetgroup": "2016",
         "orientation": "v",
         "showlegend": true,
         "textposition": "auto",
         "type": "bar",
         "x": [
          2016
         ],
         "xaxis": "x",
         "y": [
          6.595238095238095
         ],
         "yaxis": "y"
        },
        {
         "alignmentgroup": "True",
         "hovertemplate": "Premiere Year=%{x}<br>IMDB Score=%{y}<extra></extra>",
         "legendgroup": "2017",
         "marker": {
          "color": "rgb(220, 176, 242)",
          "pattern": {
           "shape": ""
          }
         },
         "name": "2017",
         "offsetgroup": "2017",
         "orientation": "v",
         "showlegend": true,
         "textposition": "auto",
         "type": "bar",
         "x": [
          2017
         ],
         "xaxis": "x",
         "y": [
          6.5725
         ],
         "yaxis": "y"
        },
        {
         "alignmentgroup": "True",
         "hovertemplate": "Premiere Year=%{x}<br>IMDB Score=%{y}<extra></extra>",
         "legendgroup": "2018",
         "marker": {
          "color": "rgb(135, 197, 95)",
          "pattern": {
           "shape": ""
          }
         },
         "name": "2018",
         "offsetgroup": "2018",
         "orientation": "v",
         "showlegend": true,
         "textposition": "auto",
         "type": "bar",
         "x": [
          2018
         ],
         "xaxis": "x",
         "y": [
          6.450746268656716
         ],
         "yaxis": "y"
        },
        {
         "alignmentgroup": "True",
         "hovertemplate": "Premiere Year=%{x}<br>IMDB Score=%{y}<extra></extra>",
         "legendgroup": "2019",
         "marker": {
          "color": "rgb(158, 185, 243)",
          "pattern": {
           "shape": ""
          }
         },
         "name": "2019",
         "offsetgroup": "2019",
         "orientation": "v",
         "showlegend": true,
         "textposition": "auto",
         "type": "bar",
         "x": [
          2019
         ],
         "xaxis": "x",
         "y": [
          6.273404255319149
         ],
         "yaxis": "y"
        },
        {
         "alignmentgroup": "True",
         "hovertemplate": "Premiere Year=%{x}<br>IMDB Score=%{y}<extra></extra>",
         "legendgroup": "2020",
         "marker": {
          "color": "rgb(254, 136, 177)",
          "pattern": {
           "shape": ""
          }
         },
         "name": "2020",
         "offsetgroup": "2020",
         "orientation": "v",
         "showlegend": true,
         "textposition": "auto",
         "type": "bar",
         "x": [
          2020
         ],
         "xaxis": "x",
         "y": [
          6.247967479674797
         ],
         "yaxis": "y"
        },
        {
         "alignmentgroup": "True",
         "hovertemplate": "Premiere Year=%{x}<br>IMDB Score=%{y}<extra></extra>",
         "legendgroup": "2021",
         "marker": {
          "color": "rgb(201, 219, 116)",
          "pattern": {
           "shape": ""
          }
         },
         "name": "2021",
         "offsetgroup": "2021",
         "orientation": "v",
         "showlegend": true,
         "textposition": "auto",
         "type": "bar",
         "x": [
          2021
         ],
         "xaxis": "x",
         "y": [
          6.085454545454545
         ],
         "yaxis": "y"
        }
       ],
       "layout": {
        "barmode": "relative",
        "legend": {
         "title": {
          "text": "Premiere Year"
         },
         "tracegroupgap": 0
        },
        "margin": {
         "t": 60
        },
        "template": {
         "data": {
          "bar": [
           {
            "error_x": {
             "color": "#2a3f5f"
            },
            "error_y": {
             "color": "#2a3f5f"
            },
            "marker": {
             "line": {
              "color": "#E5ECF6",
              "width": 0.5
             },
             "pattern": {
              "fillmode": "overlay",
              "size": 10,
              "solidity": 0.2
             }
            },
            "type": "bar"
           }
          ],
          "barpolar": [
           {
            "marker": {
             "line": {
              "color": "#E5ECF6",
              "width": 0.5
             },
             "pattern": {
              "fillmode": "overlay",
              "size": 10,
              "solidity": 0.2
             }
            },
            "type": "barpolar"
           }
          ],
          "carpet": [
           {
            "aaxis": {
             "endlinecolor": "#2a3f5f",
             "gridcolor": "white",
             "linecolor": "white",
             "minorgridcolor": "white",
             "startlinecolor": "#2a3f5f"
            },
            "baxis": {
             "endlinecolor": "#2a3f5f",
             "gridcolor": "white",
             "linecolor": "white",
             "minorgridcolor": "white",
             "startlinecolor": "#2a3f5f"
            },
            "type": "carpet"
           }
          ],
          "choropleth": [
           {
            "colorbar": {
             "outlinewidth": 0,
             "ticks": ""
            },
            "type": "choropleth"
           }
          ],
          "contour": [
           {
            "colorbar": {
             "outlinewidth": 0,
             "ticks": ""
            },
            "colorscale": [
             [
              0,
              "#0d0887"
             ],
             [
              0.1111111111111111,
              "#46039f"
             ],
             [
              0.2222222222222222,
              "#7201a8"
             ],
             [
              0.3333333333333333,
              "#9c179e"
             ],
             [
              0.4444444444444444,
              "#bd3786"
             ],
             [
              0.5555555555555556,
              "#d8576b"
             ],
             [
              0.6666666666666666,
              "#ed7953"
             ],
             [
              0.7777777777777778,
              "#fb9f3a"
             ],
             [
              0.8888888888888888,
              "#fdca26"
             ],
             [
              1,
              "#f0f921"
             ]
            ],
            "type": "contour"
           }
          ],
          "contourcarpet": [
           {
            "colorbar": {
             "outlinewidth": 0,
             "ticks": ""
            },
            "type": "contourcarpet"
           }
          ],
          "heatmap": [
           {
            "colorbar": {
             "outlinewidth": 0,
             "ticks": ""
            },
            "colorscale": [
             [
              0,
              "#0d0887"
             ],
             [
              0.1111111111111111,
              "#46039f"
             ],
             [
              0.2222222222222222,
              "#7201a8"
             ],
             [
              0.3333333333333333,
              "#9c179e"
             ],
             [
              0.4444444444444444,
              "#bd3786"
             ],
             [
              0.5555555555555556,
              "#d8576b"
             ],
             [
              0.6666666666666666,
              "#ed7953"
             ],
             [
              0.7777777777777778,
              "#fb9f3a"
             ],
             [
              0.8888888888888888,
              "#fdca26"
             ],
             [
              1,
              "#f0f921"
             ]
            ],
            "type": "heatmap"
           }
          ],
          "heatmapgl": [
           {
            "colorbar": {
             "outlinewidth": 0,
             "ticks": ""
            },
            "colorscale": [
             [
              0,
              "#0d0887"
             ],
             [
              0.1111111111111111,
              "#46039f"
             ],
             [
              0.2222222222222222,
              "#7201a8"
             ],
             [
              0.3333333333333333,
              "#9c179e"
             ],
             [
              0.4444444444444444,
              "#bd3786"
             ],
             [
              0.5555555555555556,
              "#d8576b"
             ],
             [
              0.6666666666666666,
              "#ed7953"
             ],
             [
              0.7777777777777778,
              "#fb9f3a"
             ],
             [
              0.8888888888888888,
              "#fdca26"
             ],
             [
              1,
              "#f0f921"
             ]
            ],
            "type": "heatmapgl"
           }
          ],
          "histogram": [
           {
            "marker": {
             "pattern": {
              "fillmode": "overlay",
              "size": 10,
              "solidity": 0.2
             }
            },
            "type": "histogram"
           }
          ],
          "histogram2d": [
           {
            "colorbar": {
             "outlinewidth": 0,
             "ticks": ""
            },
            "colorscale": [
             [
              0,
              "#0d0887"
             ],
             [
              0.1111111111111111,
              "#46039f"
             ],
             [
              0.2222222222222222,
              "#7201a8"
             ],
             [
              0.3333333333333333,
              "#9c179e"
             ],
             [
              0.4444444444444444,
              "#bd3786"
             ],
             [
              0.5555555555555556,
              "#d8576b"
             ],
             [
              0.6666666666666666,
              "#ed7953"
             ],
             [
              0.7777777777777778,
              "#fb9f3a"
             ],
             [
              0.8888888888888888,
              "#fdca26"
             ],
             [
              1,
              "#f0f921"
             ]
            ],
            "type": "histogram2d"
           }
          ],
          "histogram2dcontour": [
           {
            "colorbar": {
             "outlinewidth": 0,
             "ticks": ""
            },
            "colorscale": [
             [
              0,
              "#0d0887"
             ],
             [
              0.1111111111111111,
              "#46039f"
             ],
             [
              0.2222222222222222,
              "#7201a8"
             ],
             [
              0.3333333333333333,
              "#9c179e"
             ],
             [
              0.4444444444444444,
              "#bd3786"
             ],
             [
              0.5555555555555556,
              "#d8576b"
             ],
             [
              0.6666666666666666,
              "#ed7953"
             ],
             [
              0.7777777777777778,
              "#fb9f3a"
             ],
             [
              0.8888888888888888,
              "#fdca26"
             ],
             [
              1,
              "#f0f921"
             ]
            ],
            "type": "histogram2dcontour"
           }
          ],
          "mesh3d": [
           {
            "colorbar": {
             "outlinewidth": 0,
             "ticks": ""
            },
            "type": "mesh3d"
           }
          ],
          "parcoords": [
           {
            "line": {
             "colorbar": {
              "outlinewidth": 0,
              "ticks": ""
             }
            },
            "type": "parcoords"
           }
          ],
          "pie": [
           {
            "automargin": true,
            "type": "pie"
           }
          ],
          "scatter": [
           {
            "fillpattern": {
             "fillmode": "overlay",
             "size": 10,
             "solidity": 0.2
            },
            "type": "scatter"
           }
          ],
          "scatter3d": [
           {
            "line": {
             "colorbar": {
              "outlinewidth": 0,
              "ticks": ""
             }
            },
            "marker": {
             "colorbar": {
              "outlinewidth": 0,
              "ticks": ""
             }
            },
            "type": "scatter3d"
           }
          ],
          "scattercarpet": [
           {
            "marker": {
             "colorbar": {
              "outlinewidth": 0,
              "ticks": ""
             }
            },
            "type": "scattercarpet"
           }
          ],
          "scattergeo": [
           {
            "marker": {
             "colorbar": {
              "outlinewidth": 0,
              "ticks": ""
             }
            },
            "type": "scattergeo"
           }
          ],
          "scattergl": [
           {
            "marker": {
             "colorbar": {
              "outlinewidth": 0,
              "ticks": ""
             }
            },
            "type": "scattergl"
           }
          ],
          "scattermapbox": [
           {
            "marker": {
             "colorbar": {
              "outlinewidth": 0,
              "ticks": ""
             }
            },
            "type": "scattermapbox"
           }
          ],
          "scatterpolar": [
           {
            "marker": {
             "colorbar": {
              "outlinewidth": 0,
              "ticks": ""
             }
            },
            "type": "scatterpolar"
           }
          ],
          "scatterpolargl": [
           {
            "marker": {
             "colorbar": {
              "outlinewidth": 0,
              "ticks": ""
             }
            },
            "type": "scatterpolargl"
           }
          ],
          "scatterternary": [
           {
            "marker": {
             "colorbar": {
              "outlinewidth": 0,
              "ticks": ""
             }
            },
            "type": "scatterternary"
           }
          ],
          "surface": [
           {
            "colorbar": {
             "outlinewidth": 0,
             "ticks": ""
            },
            "colorscale": [
             [
              0,
              "#0d0887"
             ],
             [
              0.1111111111111111,
              "#46039f"
             ],
             [
              0.2222222222222222,
              "#7201a8"
             ],
             [
              0.3333333333333333,
              "#9c179e"
             ],
             [
              0.4444444444444444,
              "#bd3786"
             ],
             [
              0.5555555555555556,
              "#d8576b"
             ],
             [
              0.6666666666666666,
              "#ed7953"
             ],
             [
              0.7777777777777778,
              "#fb9f3a"
             ],
             [
              0.8888888888888888,
              "#fdca26"
             ],
             [
              1,
              "#f0f921"
             ]
            ],
            "type": "surface"
           }
          ],
          "table": [
           {
            "cells": {
             "fill": {
              "color": "#EBF0F8"
             },
             "line": {
              "color": "white"
             }
            },
            "header": {
             "fill": {
              "color": "#C8D4E3"
             },
             "line": {
              "color": "white"
             }
            },
            "type": "table"
           }
          ]
         },
         "layout": {
          "annotationdefaults": {
           "arrowcolor": "#2a3f5f",
           "arrowhead": 0,
           "arrowwidth": 1
          },
          "autotypenumbers": "strict",
          "coloraxis": {
           "colorbar": {
            "outlinewidth": 0,
            "ticks": ""
           }
          },
          "colorscale": {
           "diverging": [
            [
             0,
             "#8e0152"
            ],
            [
             0.1,
             "#c51b7d"
            ],
            [
             0.2,
             "#de77ae"
            ],
            [
             0.3,
             "#f1b6da"
            ],
            [
             0.4,
             "#fde0ef"
            ],
            [
             0.5,
             "#f7f7f7"
            ],
            [
             0.6,
             "#e6f5d0"
            ],
            [
             0.7,
             "#b8e186"
            ],
            [
             0.8,
             "#7fbc41"
            ],
            [
             0.9,
             "#4d9221"
            ],
            [
             1,
             "#276419"
            ]
           ],
           "sequential": [
            [
             0,
             "#0d0887"
            ],
            [
             0.1111111111111111,
             "#46039f"
            ],
            [
             0.2222222222222222,
             "#7201a8"
            ],
            [
             0.3333333333333333,
             "#9c179e"
            ],
            [
             0.4444444444444444,
             "#bd3786"
            ],
            [
             0.5555555555555556,
             "#d8576b"
            ],
            [
             0.6666666666666666,
             "#ed7953"
            ],
            [
             0.7777777777777778,
             "#fb9f3a"
            ],
            [
             0.8888888888888888,
             "#fdca26"
            ],
            [
             1,
             "#f0f921"
            ]
           ],
           "sequentialminus": [
            [
             0,
             "#0d0887"
            ],
            [
             0.1111111111111111,
             "#46039f"
            ],
            [
             0.2222222222222222,
             "#7201a8"
            ],
            [
             0.3333333333333333,
             "#9c179e"
            ],
            [
             0.4444444444444444,
             "#bd3786"
            ],
            [
             0.5555555555555556,
             "#d8576b"
            ],
            [
             0.6666666666666666,
             "#ed7953"
            ],
            [
             0.7777777777777778,
             "#fb9f3a"
            ],
            [
             0.8888888888888888,
             "#fdca26"
            ],
            [
             1,
             "#f0f921"
            ]
           ]
          },
          "colorway": [
           "#636efa",
           "#EF553B",
           "#00cc96",
           "#ab63fa",
           "#FFA15A",
           "#19d3f3",
           "#FF6692",
           "#B6E880",
           "#FF97FF",
           "#FECB52"
          ],
          "font": {
           "color": "#2a3f5f"
          },
          "geo": {
           "bgcolor": "white",
           "lakecolor": "white",
           "landcolor": "#E5ECF6",
           "showlakes": true,
           "showland": true,
           "subunitcolor": "white"
          },
          "hoverlabel": {
           "align": "left"
          },
          "hovermode": "closest",
          "mapbox": {
           "style": "light"
          },
          "paper_bgcolor": "white",
          "plot_bgcolor": "#E5ECF6",
          "polar": {
           "angularaxis": {
            "gridcolor": "white",
            "linecolor": "white",
            "ticks": ""
           },
           "bgcolor": "#E5ECF6",
           "radialaxis": {
            "gridcolor": "white",
            "linecolor": "white",
            "ticks": ""
           }
          },
          "scene": {
           "xaxis": {
            "backgroundcolor": "#E5ECF6",
            "gridcolor": "white",
            "gridwidth": 2,
            "linecolor": "white",
            "showbackground": true,
            "ticks": "",
            "zerolinecolor": "white"
           },
           "yaxis": {
            "backgroundcolor": "#E5ECF6",
            "gridcolor": "white",
            "gridwidth": 2,
            "linecolor": "white",
            "showbackground": true,
            "ticks": "",
            "zerolinecolor": "white"
           },
           "zaxis": {
            "backgroundcolor": "#E5ECF6",
            "gridcolor": "white",
            "gridwidth": 2,
            "linecolor": "white",
            "showbackground": true,
            "ticks": "",
            "zerolinecolor": "white"
           }
          },
          "shapedefaults": {
           "line": {
            "color": "#2a3f5f"
           }
          },
          "ternary": {
           "aaxis": {
            "gridcolor": "white",
            "linecolor": "white",
            "ticks": ""
           },
           "baxis": {
            "gridcolor": "white",
            "linecolor": "white",
            "ticks": ""
           },
           "bgcolor": "#E5ECF6",
           "caxis": {
            "gridcolor": "white",
            "linecolor": "white",
            "ticks": ""
           }
          },
          "title": {
           "x": 0.05
          },
          "xaxis": {
           "automargin": true,
           "gridcolor": "white",
           "linecolor": "white",
           "ticks": "",
           "title": {
            "standoff": 15
           },
           "zerolinecolor": "white",
           "zerolinewidth": 2
          },
          "yaxis": {
           "automargin": true,
           "gridcolor": "white",
           "linecolor": "white",
           "ticks": "",
           "title": {
            "standoff": 15
           },
           "zerolinecolor": "white",
           "zerolinewidth": 2
          }
         }
        },
        "xaxis": {
         "anchor": "y",
         "categoryarray": [
          2014,
          2015,
          2016,
          2017,
          2018,
          2019,
          2020,
          2021
         ],
         "categoryorder": "array",
         "domain": [
          0,
          1
         ],
         "title": {
          "text": "Premiere Year"
         }
        },
        "yaxis": {
         "anchor": "x",
         "domain": [
          0,
          1
         ],
         "title": {
          "text": "IMDB Score"
         }
        }
       }
      }
     },
     "metadata": {},
     "output_type": "display_data"
    }
   ],
   "source": [
    "\n",
    "px.bar(n_topten.groupby('Premiere Year')['IMDB Score'].mean().reset_index(), \n",
    "       x = 'Premiere Year', \n",
    "       y = 'IMDB Score', \n",
    "       color= 'Premiere Year', \n",
    "       color_discrete_sequence=px.colors.qualitative.Pastel)"
   ]
  },
  {
   "cell_type": "code",
   "execution_count": 169,
   "metadata": {},
   "outputs": [
    {
     "name": "stderr",
     "output_type": "stream",
     "text": [
      "/var/folders/rb/qx5qmmrs6nn_8zcrwgr7ds6m0000gn/T/ipykernel_91493/1240229449.py:1: FutureWarning:\n",
      "\n",
      "The default of observed=False is deprecated and will be changed to True in a future version of pandas. Pass observed=False to retain current behavior or observed=True to adopt the future default and silence this warning.\n",
      "\n"
     ]
    },
    {
     "data": {
      "application/vnd.plotly.v1+json": {
       "config": {
        "plotlyServerURL": "https://plot.ly"
       },
       "data": [
        {
         "hovertemplate": "Premiere Year=%{x}<br>IMDB Score=%{y}<extra></extra>",
         "legendgroup": "",
         "line": {
          "color": "rgb(102, 197, 204)",
          "dash": "solid"
         },
         "marker": {
          "symbol": "circle"
         },
         "mode": "lines",
         "name": "",
         "orientation": "v",
         "showlegend": false,
         "type": "scatter",
         "x": [
          2014,
          2015,
          2016,
          2017,
          2018,
          2019,
          2020,
          2021
         ],
         "xaxis": "x",
         "y": [
          6.4,
          7.316666666666666,
          6.595238095238095,
          6.5725,
          6.450746268656716,
          6.273404255319149,
          6.247967479674797,
          6.085454545454545
         ],
         "yaxis": "y"
        }
       ],
       "layout": {
        "legend": {
         "tracegroupgap": 0
        },
        "margin": {
         "t": 60
        },
        "template": {
         "data": {
          "bar": [
           {
            "error_x": {
             "color": "#2a3f5f"
            },
            "error_y": {
             "color": "#2a3f5f"
            },
            "marker": {
             "line": {
              "color": "#E5ECF6",
              "width": 0.5
             },
             "pattern": {
              "fillmode": "overlay",
              "size": 10,
              "solidity": 0.2
             }
            },
            "type": "bar"
           }
          ],
          "barpolar": [
           {
            "marker": {
             "line": {
              "color": "#E5ECF6",
              "width": 0.5
             },
             "pattern": {
              "fillmode": "overlay",
              "size": 10,
              "solidity": 0.2
             }
            },
            "type": "barpolar"
           }
          ],
          "carpet": [
           {
            "aaxis": {
             "endlinecolor": "#2a3f5f",
             "gridcolor": "white",
             "linecolor": "white",
             "minorgridcolor": "white",
             "startlinecolor": "#2a3f5f"
            },
            "baxis": {
             "endlinecolor": "#2a3f5f",
             "gridcolor": "white",
             "linecolor": "white",
             "minorgridcolor": "white",
             "startlinecolor": "#2a3f5f"
            },
            "type": "carpet"
           }
          ],
          "choropleth": [
           {
            "colorbar": {
             "outlinewidth": 0,
             "ticks": ""
            },
            "type": "choropleth"
           }
          ],
          "contour": [
           {
            "colorbar": {
             "outlinewidth": 0,
             "ticks": ""
            },
            "colorscale": [
             [
              0,
              "#0d0887"
             ],
             [
              0.1111111111111111,
              "#46039f"
             ],
             [
              0.2222222222222222,
              "#7201a8"
             ],
             [
              0.3333333333333333,
              "#9c179e"
             ],
             [
              0.4444444444444444,
              "#bd3786"
             ],
             [
              0.5555555555555556,
              "#d8576b"
             ],
             [
              0.6666666666666666,
              "#ed7953"
             ],
             [
              0.7777777777777778,
              "#fb9f3a"
             ],
             [
              0.8888888888888888,
              "#fdca26"
             ],
             [
              1,
              "#f0f921"
             ]
            ],
            "type": "contour"
           }
          ],
          "contourcarpet": [
           {
            "colorbar": {
             "outlinewidth": 0,
             "ticks": ""
            },
            "type": "contourcarpet"
           }
          ],
          "heatmap": [
           {
            "colorbar": {
             "outlinewidth": 0,
             "ticks": ""
            },
            "colorscale": [
             [
              0,
              "#0d0887"
             ],
             [
              0.1111111111111111,
              "#46039f"
             ],
             [
              0.2222222222222222,
              "#7201a8"
             ],
             [
              0.3333333333333333,
              "#9c179e"
             ],
             [
              0.4444444444444444,
              "#bd3786"
             ],
             [
              0.5555555555555556,
              "#d8576b"
             ],
             [
              0.6666666666666666,
              "#ed7953"
             ],
             [
              0.7777777777777778,
              "#fb9f3a"
             ],
             [
              0.8888888888888888,
              "#fdca26"
             ],
             [
              1,
              "#f0f921"
             ]
            ],
            "type": "heatmap"
           }
          ],
          "heatmapgl": [
           {
            "colorbar": {
             "outlinewidth": 0,
             "ticks": ""
            },
            "colorscale": [
             [
              0,
              "#0d0887"
             ],
             [
              0.1111111111111111,
              "#46039f"
             ],
             [
              0.2222222222222222,
              "#7201a8"
             ],
             [
              0.3333333333333333,
              "#9c179e"
             ],
             [
              0.4444444444444444,
              "#bd3786"
             ],
             [
              0.5555555555555556,
              "#d8576b"
             ],
             [
              0.6666666666666666,
              "#ed7953"
             ],
             [
              0.7777777777777778,
              "#fb9f3a"
             ],
             [
              0.8888888888888888,
              "#fdca26"
             ],
             [
              1,
              "#f0f921"
             ]
            ],
            "type": "heatmapgl"
           }
          ],
          "histogram": [
           {
            "marker": {
             "pattern": {
              "fillmode": "overlay",
              "size": 10,
              "solidity": 0.2
             }
            },
            "type": "histogram"
           }
          ],
          "histogram2d": [
           {
            "colorbar": {
             "outlinewidth": 0,
             "ticks": ""
            },
            "colorscale": [
             [
              0,
              "#0d0887"
             ],
             [
              0.1111111111111111,
              "#46039f"
             ],
             [
              0.2222222222222222,
              "#7201a8"
             ],
             [
              0.3333333333333333,
              "#9c179e"
             ],
             [
              0.4444444444444444,
              "#bd3786"
             ],
             [
              0.5555555555555556,
              "#d8576b"
             ],
             [
              0.6666666666666666,
              "#ed7953"
             ],
             [
              0.7777777777777778,
              "#fb9f3a"
             ],
             [
              0.8888888888888888,
              "#fdca26"
             ],
             [
              1,
              "#f0f921"
             ]
            ],
            "type": "histogram2d"
           }
          ],
          "histogram2dcontour": [
           {
            "colorbar": {
             "outlinewidth": 0,
             "ticks": ""
            },
            "colorscale": [
             [
              0,
              "#0d0887"
             ],
             [
              0.1111111111111111,
              "#46039f"
             ],
             [
              0.2222222222222222,
              "#7201a8"
             ],
             [
              0.3333333333333333,
              "#9c179e"
             ],
             [
              0.4444444444444444,
              "#bd3786"
             ],
             [
              0.5555555555555556,
              "#d8576b"
             ],
             [
              0.6666666666666666,
              "#ed7953"
             ],
             [
              0.7777777777777778,
              "#fb9f3a"
             ],
             [
              0.8888888888888888,
              "#fdca26"
             ],
             [
              1,
              "#f0f921"
             ]
            ],
            "type": "histogram2dcontour"
           }
          ],
          "mesh3d": [
           {
            "colorbar": {
             "outlinewidth": 0,
             "ticks": ""
            },
            "type": "mesh3d"
           }
          ],
          "parcoords": [
           {
            "line": {
             "colorbar": {
              "outlinewidth": 0,
              "ticks": ""
             }
            },
            "type": "parcoords"
           }
          ],
          "pie": [
           {
            "automargin": true,
            "type": "pie"
           }
          ],
          "scatter": [
           {
            "fillpattern": {
             "fillmode": "overlay",
             "size": 10,
             "solidity": 0.2
            },
            "type": "scatter"
           }
          ],
          "scatter3d": [
           {
            "line": {
             "colorbar": {
              "outlinewidth": 0,
              "ticks": ""
             }
            },
            "marker": {
             "colorbar": {
              "outlinewidth": 0,
              "ticks": ""
             }
            },
            "type": "scatter3d"
           }
          ],
          "scattercarpet": [
           {
            "marker": {
             "colorbar": {
              "outlinewidth": 0,
              "ticks": ""
             }
            },
            "type": "scattercarpet"
           }
          ],
          "scattergeo": [
           {
            "marker": {
             "colorbar": {
              "outlinewidth": 0,
              "ticks": ""
             }
            },
            "type": "scattergeo"
           }
          ],
          "scattergl": [
           {
            "marker": {
             "colorbar": {
              "outlinewidth": 0,
              "ticks": ""
             }
            },
            "type": "scattergl"
           }
          ],
          "scattermapbox": [
           {
            "marker": {
             "colorbar": {
              "outlinewidth": 0,
              "ticks": ""
             }
            },
            "type": "scattermapbox"
           }
          ],
          "scatterpolar": [
           {
            "marker": {
             "colorbar": {
              "outlinewidth": 0,
              "ticks": ""
             }
            },
            "type": "scatterpolar"
           }
          ],
          "scatterpolargl": [
           {
            "marker": {
             "colorbar": {
              "outlinewidth": 0,
              "ticks": ""
             }
            },
            "type": "scatterpolargl"
           }
          ],
          "scatterternary": [
           {
            "marker": {
             "colorbar": {
              "outlinewidth": 0,
              "ticks": ""
             }
            },
            "type": "scatterternary"
           }
          ],
          "surface": [
           {
            "colorbar": {
             "outlinewidth": 0,
             "ticks": ""
            },
            "colorscale": [
             [
              0,
              "#0d0887"
             ],
             [
              0.1111111111111111,
              "#46039f"
             ],
             [
              0.2222222222222222,
              "#7201a8"
             ],
             [
              0.3333333333333333,
              "#9c179e"
             ],
             [
              0.4444444444444444,
              "#bd3786"
             ],
             [
              0.5555555555555556,
              "#d8576b"
             ],
             [
              0.6666666666666666,
              "#ed7953"
             ],
             [
              0.7777777777777778,
              "#fb9f3a"
             ],
             [
              0.8888888888888888,
              "#fdca26"
             ],
             [
              1,
              "#f0f921"
             ]
            ],
            "type": "surface"
           }
          ],
          "table": [
           {
            "cells": {
             "fill": {
              "color": "#EBF0F8"
             },
             "line": {
              "color": "white"
             }
            },
            "header": {
             "fill": {
              "color": "#C8D4E3"
             },
             "line": {
              "color": "white"
             }
            },
            "type": "table"
           }
          ]
         },
         "layout": {
          "annotationdefaults": {
           "arrowcolor": "#2a3f5f",
           "arrowhead": 0,
           "arrowwidth": 1
          },
          "autotypenumbers": "strict",
          "coloraxis": {
           "colorbar": {
            "outlinewidth": 0,
            "ticks": ""
           }
          },
          "colorscale": {
           "diverging": [
            [
             0,
             "#8e0152"
            ],
            [
             0.1,
             "#c51b7d"
            ],
            [
             0.2,
             "#de77ae"
            ],
            [
             0.3,
             "#f1b6da"
            ],
            [
             0.4,
             "#fde0ef"
            ],
            [
             0.5,
             "#f7f7f7"
            ],
            [
             0.6,
             "#e6f5d0"
            ],
            [
             0.7,
             "#b8e186"
            ],
            [
             0.8,
             "#7fbc41"
            ],
            [
             0.9,
             "#4d9221"
            ],
            [
             1,
             "#276419"
            ]
           ],
           "sequential": [
            [
             0,
             "#0d0887"
            ],
            [
             0.1111111111111111,
             "#46039f"
            ],
            [
             0.2222222222222222,
             "#7201a8"
            ],
            [
             0.3333333333333333,
             "#9c179e"
            ],
            [
             0.4444444444444444,
             "#bd3786"
            ],
            [
             0.5555555555555556,
             "#d8576b"
            ],
            [
             0.6666666666666666,
             "#ed7953"
            ],
            [
             0.7777777777777778,
             "#fb9f3a"
            ],
            [
             0.8888888888888888,
             "#fdca26"
            ],
            [
             1,
             "#f0f921"
            ]
           ],
           "sequentialminus": [
            [
             0,
             "#0d0887"
            ],
            [
             0.1111111111111111,
             "#46039f"
            ],
            [
             0.2222222222222222,
             "#7201a8"
            ],
            [
             0.3333333333333333,
             "#9c179e"
            ],
            [
             0.4444444444444444,
             "#bd3786"
            ],
            [
             0.5555555555555556,
             "#d8576b"
            ],
            [
             0.6666666666666666,
             "#ed7953"
            ],
            [
             0.7777777777777778,
             "#fb9f3a"
            ],
            [
             0.8888888888888888,
             "#fdca26"
            ],
            [
             1,
             "#f0f921"
            ]
           ]
          },
          "colorway": [
           "#636efa",
           "#EF553B",
           "#00cc96",
           "#ab63fa",
           "#FFA15A",
           "#19d3f3",
           "#FF6692",
           "#B6E880",
           "#FF97FF",
           "#FECB52"
          ],
          "font": {
           "color": "#2a3f5f"
          },
          "geo": {
           "bgcolor": "white",
           "lakecolor": "white",
           "landcolor": "#E5ECF6",
           "showlakes": true,
           "showland": true,
           "subunitcolor": "white"
          },
          "hoverlabel": {
           "align": "left"
          },
          "hovermode": "closest",
          "mapbox": {
           "style": "light"
          },
          "paper_bgcolor": "white",
          "plot_bgcolor": "#E5ECF6",
          "polar": {
           "angularaxis": {
            "gridcolor": "white",
            "linecolor": "white",
            "ticks": ""
           },
           "bgcolor": "#E5ECF6",
           "radialaxis": {
            "gridcolor": "white",
            "linecolor": "white",
            "ticks": ""
           }
          },
          "scene": {
           "xaxis": {
            "backgroundcolor": "#E5ECF6",
            "gridcolor": "white",
            "gridwidth": 2,
            "linecolor": "white",
            "showbackground": true,
            "ticks": "",
            "zerolinecolor": "white"
           },
           "yaxis": {
            "backgroundcolor": "#E5ECF6",
            "gridcolor": "white",
            "gridwidth": 2,
            "linecolor": "white",
            "showbackground": true,
            "ticks": "",
            "zerolinecolor": "white"
           },
           "zaxis": {
            "backgroundcolor": "#E5ECF6",
            "gridcolor": "white",
            "gridwidth": 2,
            "linecolor": "white",
            "showbackground": true,
            "ticks": "",
            "zerolinecolor": "white"
           }
          },
          "shapedefaults": {
           "line": {
            "color": "#2a3f5f"
           }
          },
          "ternary": {
           "aaxis": {
            "gridcolor": "white",
            "linecolor": "white",
            "ticks": ""
           },
           "baxis": {
            "gridcolor": "white",
            "linecolor": "white",
            "ticks": ""
           },
           "bgcolor": "#E5ECF6",
           "caxis": {
            "gridcolor": "white",
            "linecolor": "white",
            "ticks": ""
           }
          },
          "title": {
           "x": 0.05
          },
          "xaxis": {
           "automargin": true,
           "gridcolor": "white",
           "linecolor": "white",
           "ticks": "",
           "title": {
            "standoff": 15
           },
           "zerolinecolor": "white",
           "zerolinewidth": 2
          },
          "yaxis": {
           "automargin": true,
           "gridcolor": "white",
           "linecolor": "white",
           "ticks": "",
           "title": {
            "standoff": 15
           },
           "zerolinecolor": "white",
           "zerolinewidth": 2
          }
         }
        },
        "xaxis": {
         "anchor": "y",
         "domain": [
          0,
          1
         ],
         "title": {
          "text": "Premiere Year"
         }
        },
        "yaxis": {
         "anchor": "x",
         "domain": [
          0,
          1
         ],
         "title": {
          "text": "IMDB Score"
         }
        }
       }
      }
     },
     "metadata": {},
     "output_type": "display_data"
    }
   ],
   "source": [
    "px.line(n_topten.groupby('Premiere Year')['IMDB Score'].mean().reset_index(), x = \"Premiere Year\", y = \"IMDB Score\", color_discrete_sequence=px.colors.qualitative.Pastel)"
   ]
  },
  {
   "cell_type": "code",
   "execution_count": 170,
   "metadata": {},
   "outputs": [
    {
     "name": "stderr",
     "output_type": "stream",
     "text": [
      "/var/folders/rb/qx5qmmrs6nn_8zcrwgr7ds6m0000gn/T/ipykernel_91493/1526650268.py:1: FutureWarning:\n",
      "\n",
      "The default of observed=False is deprecated and will be changed to True in a future version of pandas. Pass observed=False to retain current behavior or observed=True to adopt the future default and silence this warning.\n",
      "\n"
     ]
    },
    {
     "data": {
      "application/vnd.plotly.v1+json": {
       "config": {
        "plotlyServerURL": "https://plot.ly"
       },
       "data": [
        {
         "alignmentgroup": "True",
         "hovertemplate": "Premiere Year=%{x}<br>Runtime=%{y}<extra></extra>",
         "legendgroup": "2014",
         "marker": {
          "color": "rgb(102, 197, 204)",
          "pattern": {
           "shape": ""
          }
         },
         "name": "2014",
         "offsetgroup": "2014",
         "orientation": "v",
         "showlegend": true,
         "textposition": "auto",
         "type": "bar",
         "x": [
          2014
         ],
         "xaxis": "x",
         "y": [
          81
         ],
         "yaxis": "y"
        },
        {
         "alignmentgroup": "True",
         "hovertemplate": "Premiere Year=%{x}<br>Runtime=%{y}<extra></extra>",
         "legendgroup": "2015",
         "marker": {
          "color": "rgb(246, 207, 113)",
          "pattern": {
           "shape": ""
          }
         },
         "name": "2015",
         "offsetgroup": "2015",
         "orientation": "v",
         "showlegend": true,
         "textposition": "auto",
         "type": "bar",
         "x": [
          2015
         ],
         "xaxis": "x",
         "y": [
          83.83333333333333
         ],
         "yaxis": "y"
        },
        {
         "alignmentgroup": "True",
         "hovertemplate": "Premiere Year=%{x}<br>Runtime=%{y}<extra></extra>",
         "legendgroup": "2016",
         "marker": {
          "color": "rgb(248, 156, 116)",
          "pattern": {
           "shape": ""
          }
         },
         "name": "2016",
         "offsetgroup": "2016",
         "orientation": "v",
         "showlegend": true,
         "textposition": "auto",
         "type": "bar",
         "x": [
          2016
         ],
         "xaxis": "x",
         "y": [
          89.61904761904762
         ],
         "yaxis": "y"
        },
        {
         "alignmentgroup": "True",
         "hovertemplate": "Premiere Year=%{x}<br>Runtime=%{y}<extra></extra>",
         "legendgroup": "2017",
         "marker": {
          "color": "rgb(220, 176, 242)",
          "pattern": {
           "shape": ""
          }
         },
         "name": "2017",
         "offsetgroup": "2017",
         "orientation": "v",
         "showlegend": true,
         "textposition": "auto",
         "type": "bar",
         "x": [
          2017
         ],
         "xaxis": "x",
         "y": [
          92.425
         ],
         "yaxis": "y"
        },
        {
         "alignmentgroup": "True",
         "hovertemplate": "Premiere Year=%{x}<br>Runtime=%{y}<extra></extra>",
         "legendgroup": "2018",
         "marker": {
          "color": "rgb(135, 197, 95)",
          "pattern": {
           "shape": ""
          }
         },
         "name": "2018",
         "offsetgroup": "2018",
         "orientation": "v",
         "showlegend": true,
         "textposition": "auto",
         "type": "bar",
         "x": [
          2018
         ],
         "xaxis": "x",
         "y": [
          91.70149253731343
         ],
         "yaxis": "y"
        },
        {
         "alignmentgroup": "True",
         "hovertemplate": "Premiere Year=%{x}<br>Runtime=%{y}<extra></extra>",
         "legendgroup": "2019",
         "marker": {
          "color": "rgb(158, 185, 243)",
          "pattern": {
           "shape": ""
          }
         },
         "name": "2019",
         "offsetgroup": "2019",
         "orientation": "v",
         "showlegend": true,
         "textposition": "auto",
         "type": "bar",
         "x": [
          2019
         ],
         "xaxis": "x",
         "y": [
          90.08510638297872
         ],
         "yaxis": "y"
        },
        {
         "alignmentgroup": "True",
         "hovertemplate": "Premiere Year=%{x}<br>Runtime=%{y}<extra></extra>",
         "legendgroup": "2020",
         "marker": {
          "color": "rgb(254, 136, 177)",
          "pattern": {
           "shape": ""
          }
         },
         "name": "2020",
         "offsetgroup": "2020",
         "orientation": "v",
         "showlegend": true,
         "textposition": "auto",
         "type": "bar",
         "x": [
          2020
         ],
         "xaxis": "x",
         "y": [
          98.22764227642277
         ],
         "yaxis": "y"
        },
        {
         "alignmentgroup": "True",
         "hovertemplate": "Premiere Year=%{x}<br>Runtime=%{y}<extra></extra>",
         "legendgroup": "2021",
         "marker": {
          "color": "rgb(201, 219, 116)",
          "pattern": {
           "shape": ""
          }
         },
         "name": "2021",
         "offsetgroup": "2021",
         "orientation": "v",
         "showlegend": true,
         "textposition": "auto",
         "type": "bar",
         "x": [
          2021
         ],
         "xaxis": "x",
         "y": [
          98.8
         ],
         "yaxis": "y"
        }
       ],
       "layout": {
        "barmode": "relative",
        "legend": {
         "title": {
          "text": "Premiere Year"
         },
         "tracegroupgap": 0
        },
        "margin": {
         "t": 60
        },
        "template": {
         "data": {
          "bar": [
           {
            "error_x": {
             "color": "#2a3f5f"
            },
            "error_y": {
             "color": "#2a3f5f"
            },
            "marker": {
             "line": {
              "color": "#E5ECF6",
              "width": 0.5
             },
             "pattern": {
              "fillmode": "overlay",
              "size": 10,
              "solidity": 0.2
             }
            },
            "type": "bar"
           }
          ],
          "barpolar": [
           {
            "marker": {
             "line": {
              "color": "#E5ECF6",
              "width": 0.5
             },
             "pattern": {
              "fillmode": "overlay",
              "size": 10,
              "solidity": 0.2
             }
            },
            "type": "barpolar"
           }
          ],
          "carpet": [
           {
            "aaxis": {
             "endlinecolor": "#2a3f5f",
             "gridcolor": "white",
             "linecolor": "white",
             "minorgridcolor": "white",
             "startlinecolor": "#2a3f5f"
            },
            "baxis": {
             "endlinecolor": "#2a3f5f",
             "gridcolor": "white",
             "linecolor": "white",
             "minorgridcolor": "white",
             "startlinecolor": "#2a3f5f"
            },
            "type": "carpet"
           }
          ],
          "choropleth": [
           {
            "colorbar": {
             "outlinewidth": 0,
             "ticks": ""
            },
            "type": "choropleth"
           }
          ],
          "contour": [
           {
            "colorbar": {
             "outlinewidth": 0,
             "ticks": ""
            },
            "colorscale": [
             [
              0,
              "#0d0887"
             ],
             [
              0.1111111111111111,
              "#46039f"
             ],
             [
              0.2222222222222222,
              "#7201a8"
             ],
             [
              0.3333333333333333,
              "#9c179e"
             ],
             [
              0.4444444444444444,
              "#bd3786"
             ],
             [
              0.5555555555555556,
              "#d8576b"
             ],
             [
              0.6666666666666666,
              "#ed7953"
             ],
             [
              0.7777777777777778,
              "#fb9f3a"
             ],
             [
              0.8888888888888888,
              "#fdca26"
             ],
             [
              1,
              "#f0f921"
             ]
            ],
            "type": "contour"
           }
          ],
          "contourcarpet": [
           {
            "colorbar": {
             "outlinewidth": 0,
             "ticks": ""
            },
            "type": "contourcarpet"
           }
          ],
          "heatmap": [
           {
            "colorbar": {
             "outlinewidth": 0,
             "ticks": ""
            },
            "colorscale": [
             [
              0,
              "#0d0887"
             ],
             [
              0.1111111111111111,
              "#46039f"
             ],
             [
              0.2222222222222222,
              "#7201a8"
             ],
             [
              0.3333333333333333,
              "#9c179e"
             ],
             [
              0.4444444444444444,
              "#bd3786"
             ],
             [
              0.5555555555555556,
              "#d8576b"
             ],
             [
              0.6666666666666666,
              "#ed7953"
             ],
             [
              0.7777777777777778,
              "#fb9f3a"
             ],
             [
              0.8888888888888888,
              "#fdca26"
             ],
             [
              1,
              "#f0f921"
             ]
            ],
            "type": "heatmap"
           }
          ],
          "heatmapgl": [
           {
            "colorbar": {
             "outlinewidth": 0,
             "ticks": ""
            },
            "colorscale": [
             [
              0,
              "#0d0887"
             ],
             [
              0.1111111111111111,
              "#46039f"
             ],
             [
              0.2222222222222222,
              "#7201a8"
             ],
             [
              0.3333333333333333,
              "#9c179e"
             ],
             [
              0.4444444444444444,
              "#bd3786"
             ],
             [
              0.5555555555555556,
              "#d8576b"
             ],
             [
              0.6666666666666666,
              "#ed7953"
             ],
             [
              0.7777777777777778,
              "#fb9f3a"
             ],
             [
              0.8888888888888888,
              "#fdca26"
             ],
             [
              1,
              "#f0f921"
             ]
            ],
            "type": "heatmapgl"
           }
          ],
          "histogram": [
           {
            "marker": {
             "pattern": {
              "fillmode": "overlay",
              "size": 10,
              "solidity": 0.2
             }
            },
            "type": "histogram"
           }
          ],
          "histogram2d": [
           {
            "colorbar": {
             "outlinewidth": 0,
             "ticks": ""
            },
            "colorscale": [
             [
              0,
              "#0d0887"
             ],
             [
              0.1111111111111111,
              "#46039f"
             ],
             [
              0.2222222222222222,
              "#7201a8"
             ],
             [
              0.3333333333333333,
              "#9c179e"
             ],
             [
              0.4444444444444444,
              "#bd3786"
             ],
             [
              0.5555555555555556,
              "#d8576b"
             ],
             [
              0.6666666666666666,
              "#ed7953"
             ],
             [
              0.7777777777777778,
              "#fb9f3a"
             ],
             [
              0.8888888888888888,
              "#fdca26"
             ],
             [
              1,
              "#f0f921"
             ]
            ],
            "type": "histogram2d"
           }
          ],
          "histogram2dcontour": [
           {
            "colorbar": {
             "outlinewidth": 0,
             "ticks": ""
            },
            "colorscale": [
             [
              0,
              "#0d0887"
             ],
             [
              0.1111111111111111,
              "#46039f"
             ],
             [
              0.2222222222222222,
              "#7201a8"
             ],
             [
              0.3333333333333333,
              "#9c179e"
             ],
             [
              0.4444444444444444,
              "#bd3786"
             ],
             [
              0.5555555555555556,
              "#d8576b"
             ],
             [
              0.6666666666666666,
              "#ed7953"
             ],
             [
              0.7777777777777778,
              "#fb9f3a"
             ],
             [
              0.8888888888888888,
              "#fdca26"
             ],
             [
              1,
              "#f0f921"
             ]
            ],
            "type": "histogram2dcontour"
           }
          ],
          "mesh3d": [
           {
            "colorbar": {
             "outlinewidth": 0,
             "ticks": ""
            },
            "type": "mesh3d"
           }
          ],
          "parcoords": [
           {
            "line": {
             "colorbar": {
              "outlinewidth": 0,
              "ticks": ""
             }
            },
            "type": "parcoords"
           }
          ],
          "pie": [
           {
            "automargin": true,
            "type": "pie"
           }
          ],
          "scatter": [
           {
            "fillpattern": {
             "fillmode": "overlay",
             "size": 10,
             "solidity": 0.2
            },
            "type": "scatter"
           }
          ],
          "scatter3d": [
           {
            "line": {
             "colorbar": {
              "outlinewidth": 0,
              "ticks": ""
             }
            },
            "marker": {
             "colorbar": {
              "outlinewidth": 0,
              "ticks": ""
             }
            },
            "type": "scatter3d"
           }
          ],
          "scattercarpet": [
           {
            "marker": {
             "colorbar": {
              "outlinewidth": 0,
              "ticks": ""
             }
            },
            "type": "scattercarpet"
           }
          ],
          "scattergeo": [
           {
            "marker": {
             "colorbar": {
              "outlinewidth": 0,
              "ticks": ""
             }
            },
            "type": "scattergeo"
           }
          ],
          "scattergl": [
           {
            "marker": {
             "colorbar": {
              "outlinewidth": 0,
              "ticks": ""
             }
            },
            "type": "scattergl"
           }
          ],
          "scattermapbox": [
           {
            "marker": {
             "colorbar": {
              "outlinewidth": 0,
              "ticks": ""
             }
            },
            "type": "scattermapbox"
           }
          ],
          "scatterpolar": [
           {
            "marker": {
             "colorbar": {
              "outlinewidth": 0,
              "ticks": ""
             }
            },
            "type": "scatterpolar"
           }
          ],
          "scatterpolargl": [
           {
            "marker": {
             "colorbar": {
              "outlinewidth": 0,
              "ticks": ""
             }
            },
            "type": "scatterpolargl"
           }
          ],
          "scatterternary": [
           {
            "marker": {
             "colorbar": {
              "outlinewidth": 0,
              "ticks": ""
             }
            },
            "type": "scatterternary"
           }
          ],
          "surface": [
           {
            "colorbar": {
             "outlinewidth": 0,
             "ticks": ""
            },
            "colorscale": [
             [
              0,
              "#0d0887"
             ],
             [
              0.1111111111111111,
              "#46039f"
             ],
             [
              0.2222222222222222,
              "#7201a8"
             ],
             [
              0.3333333333333333,
              "#9c179e"
             ],
             [
              0.4444444444444444,
              "#bd3786"
             ],
             [
              0.5555555555555556,
              "#d8576b"
             ],
             [
              0.6666666666666666,
              "#ed7953"
             ],
             [
              0.7777777777777778,
              "#fb9f3a"
             ],
             [
              0.8888888888888888,
              "#fdca26"
             ],
             [
              1,
              "#f0f921"
             ]
            ],
            "type": "surface"
           }
          ],
          "table": [
           {
            "cells": {
             "fill": {
              "color": "#EBF0F8"
             },
             "line": {
              "color": "white"
             }
            },
            "header": {
             "fill": {
              "color": "#C8D4E3"
             },
             "line": {
              "color": "white"
             }
            },
            "type": "table"
           }
          ]
         },
         "layout": {
          "annotationdefaults": {
           "arrowcolor": "#2a3f5f",
           "arrowhead": 0,
           "arrowwidth": 1
          },
          "autotypenumbers": "strict",
          "coloraxis": {
           "colorbar": {
            "outlinewidth": 0,
            "ticks": ""
           }
          },
          "colorscale": {
           "diverging": [
            [
             0,
             "#8e0152"
            ],
            [
             0.1,
             "#c51b7d"
            ],
            [
             0.2,
             "#de77ae"
            ],
            [
             0.3,
             "#f1b6da"
            ],
            [
             0.4,
             "#fde0ef"
            ],
            [
             0.5,
             "#f7f7f7"
            ],
            [
             0.6,
             "#e6f5d0"
            ],
            [
             0.7,
             "#b8e186"
            ],
            [
             0.8,
             "#7fbc41"
            ],
            [
             0.9,
             "#4d9221"
            ],
            [
             1,
             "#276419"
            ]
           ],
           "sequential": [
            [
             0,
             "#0d0887"
            ],
            [
             0.1111111111111111,
             "#46039f"
            ],
            [
             0.2222222222222222,
             "#7201a8"
            ],
            [
             0.3333333333333333,
             "#9c179e"
            ],
            [
             0.4444444444444444,
             "#bd3786"
            ],
            [
             0.5555555555555556,
             "#d8576b"
            ],
            [
             0.6666666666666666,
             "#ed7953"
            ],
            [
             0.7777777777777778,
             "#fb9f3a"
            ],
            [
             0.8888888888888888,
             "#fdca26"
            ],
            [
             1,
             "#f0f921"
            ]
           ],
           "sequentialminus": [
            [
             0,
             "#0d0887"
            ],
            [
             0.1111111111111111,
             "#46039f"
            ],
            [
             0.2222222222222222,
             "#7201a8"
            ],
            [
             0.3333333333333333,
             "#9c179e"
            ],
            [
             0.4444444444444444,
             "#bd3786"
            ],
            [
             0.5555555555555556,
             "#d8576b"
            ],
            [
             0.6666666666666666,
             "#ed7953"
            ],
            [
             0.7777777777777778,
             "#fb9f3a"
            ],
            [
             0.8888888888888888,
             "#fdca26"
            ],
            [
             1,
             "#f0f921"
            ]
           ]
          },
          "colorway": [
           "#636efa",
           "#EF553B",
           "#00cc96",
           "#ab63fa",
           "#FFA15A",
           "#19d3f3",
           "#FF6692",
           "#B6E880",
           "#FF97FF",
           "#FECB52"
          ],
          "font": {
           "color": "#2a3f5f"
          },
          "geo": {
           "bgcolor": "white",
           "lakecolor": "white",
           "landcolor": "#E5ECF6",
           "showlakes": true,
           "showland": true,
           "subunitcolor": "white"
          },
          "hoverlabel": {
           "align": "left"
          },
          "hovermode": "closest",
          "mapbox": {
           "style": "light"
          },
          "paper_bgcolor": "white",
          "plot_bgcolor": "#E5ECF6",
          "polar": {
           "angularaxis": {
            "gridcolor": "white",
            "linecolor": "white",
            "ticks": ""
           },
           "bgcolor": "#E5ECF6",
           "radialaxis": {
            "gridcolor": "white",
            "linecolor": "white",
            "ticks": ""
           }
          },
          "scene": {
           "xaxis": {
            "backgroundcolor": "#E5ECF6",
            "gridcolor": "white",
            "gridwidth": 2,
            "linecolor": "white",
            "showbackground": true,
            "ticks": "",
            "zerolinecolor": "white"
           },
           "yaxis": {
            "backgroundcolor": "#E5ECF6",
            "gridcolor": "white",
            "gridwidth": 2,
            "linecolor": "white",
            "showbackground": true,
            "ticks": "",
            "zerolinecolor": "white"
           },
           "zaxis": {
            "backgroundcolor": "#E5ECF6",
            "gridcolor": "white",
            "gridwidth": 2,
            "linecolor": "white",
            "showbackground": true,
            "ticks": "",
            "zerolinecolor": "white"
           }
          },
          "shapedefaults": {
           "line": {
            "color": "#2a3f5f"
           }
          },
          "ternary": {
           "aaxis": {
            "gridcolor": "white",
            "linecolor": "white",
            "ticks": ""
           },
           "baxis": {
            "gridcolor": "white",
            "linecolor": "white",
            "ticks": ""
           },
           "bgcolor": "#E5ECF6",
           "caxis": {
            "gridcolor": "white",
            "linecolor": "white",
            "ticks": ""
           }
          },
          "title": {
           "x": 0.05
          },
          "xaxis": {
           "automargin": true,
           "gridcolor": "white",
           "linecolor": "white",
           "ticks": "",
           "title": {
            "standoff": 15
           },
           "zerolinecolor": "white",
           "zerolinewidth": 2
          },
          "yaxis": {
           "automargin": true,
           "gridcolor": "white",
           "linecolor": "white",
           "ticks": "",
           "title": {
            "standoff": 15
           },
           "zerolinecolor": "white",
           "zerolinewidth": 2
          }
         }
        },
        "xaxis": {
         "anchor": "y",
         "categoryarray": [
          2014,
          2015,
          2016,
          2017,
          2018,
          2019,
          2020,
          2021
         ],
         "categoryorder": "array",
         "domain": [
          0,
          1
         ],
         "title": {
          "text": "Premiere Year"
         }
        },
        "yaxis": {
         "anchor": "x",
         "domain": [
          0,
          1
         ],
         "title": {
          "text": "Runtime"
         }
        }
       }
      }
     },
     "metadata": {},
     "output_type": "display_data"
    }
   ],
   "source": [
    "px.bar(n_topten.groupby('Premiere Year')['Runtime'].mean().reset_index(), x = \"Premiere Year\", y = \"Runtime\", color='Premiere Year', color_discrete_sequence=px.colors.qualitative.Pastel)"
   ]
  },
  {
   "cell_type": "code",
   "execution_count": 172,
   "metadata": {},
   "outputs": [
    {
     "name": "stderr",
     "output_type": "stream",
     "text": [
      "/var/folders/rb/qx5qmmrs6nn_8zcrwgr7ds6m0000gn/T/ipykernel_91493/3950941006.py:1: FutureWarning:\n",
      "\n",
      "The default of observed=False is deprecated and will be changed to True in a future version of pandas. Pass observed=False to retain current behavior or observed=True to adopt the future default and silence this warning.\n",
      "\n"
     ]
    },
    {
     "data": {
      "application/vnd.plotly.v1+json": {
       "config": {
        "plotlyServerURL": "https://plot.ly"
       },
       "data": [
        {
         "hovertemplate": "Premiere Year=%{x}<br>Runtime=%{y}<extra></extra>",
         "legendgroup": "",
         "line": {
          "color": "rgb(102, 197, 204)",
          "dash": "solid"
         },
         "marker": {
          "symbol": "circle"
         },
         "mode": "lines",
         "name": "",
         "orientation": "v",
         "showlegend": false,
         "type": "scatter",
         "x": [
          2014,
          2015,
          2016,
          2017,
          2018,
          2019,
          2020,
          2021
         ],
         "xaxis": "x",
         "y": [
          81,
          83.83333333333333,
          89.61904761904762,
          92.425,
          91.70149253731343,
          90.08510638297872,
          98.22764227642277,
          98.8
         ],
         "yaxis": "y"
        }
       ],
       "layout": {
        "legend": {
         "tracegroupgap": 0
        },
        "margin": {
         "t": 60
        },
        "template": {
         "data": {
          "bar": [
           {
            "error_x": {
             "color": "#2a3f5f"
            },
            "error_y": {
             "color": "#2a3f5f"
            },
            "marker": {
             "line": {
              "color": "#E5ECF6",
              "width": 0.5
             },
             "pattern": {
              "fillmode": "overlay",
              "size": 10,
              "solidity": 0.2
             }
            },
            "type": "bar"
           }
          ],
          "barpolar": [
           {
            "marker": {
             "line": {
              "color": "#E5ECF6",
              "width": 0.5
             },
             "pattern": {
              "fillmode": "overlay",
              "size": 10,
              "solidity": 0.2
             }
            },
            "type": "barpolar"
           }
          ],
          "carpet": [
           {
            "aaxis": {
             "endlinecolor": "#2a3f5f",
             "gridcolor": "white",
             "linecolor": "white",
             "minorgridcolor": "white",
             "startlinecolor": "#2a3f5f"
            },
            "baxis": {
             "endlinecolor": "#2a3f5f",
             "gridcolor": "white",
             "linecolor": "white",
             "minorgridcolor": "white",
             "startlinecolor": "#2a3f5f"
            },
            "type": "carpet"
           }
          ],
          "choropleth": [
           {
            "colorbar": {
             "outlinewidth": 0,
             "ticks": ""
            },
            "type": "choropleth"
           }
          ],
          "contour": [
           {
            "colorbar": {
             "outlinewidth": 0,
             "ticks": ""
            },
            "colorscale": [
             [
              0,
              "#0d0887"
             ],
             [
              0.1111111111111111,
              "#46039f"
             ],
             [
              0.2222222222222222,
              "#7201a8"
             ],
             [
              0.3333333333333333,
              "#9c179e"
             ],
             [
              0.4444444444444444,
              "#bd3786"
             ],
             [
              0.5555555555555556,
              "#d8576b"
             ],
             [
              0.6666666666666666,
              "#ed7953"
             ],
             [
              0.7777777777777778,
              "#fb9f3a"
             ],
             [
              0.8888888888888888,
              "#fdca26"
             ],
             [
              1,
              "#f0f921"
             ]
            ],
            "type": "contour"
           }
          ],
          "contourcarpet": [
           {
            "colorbar": {
             "outlinewidth": 0,
             "ticks": ""
            },
            "type": "contourcarpet"
           }
          ],
          "heatmap": [
           {
            "colorbar": {
             "outlinewidth": 0,
             "ticks": ""
            },
            "colorscale": [
             [
              0,
              "#0d0887"
             ],
             [
              0.1111111111111111,
              "#46039f"
             ],
             [
              0.2222222222222222,
              "#7201a8"
             ],
             [
              0.3333333333333333,
              "#9c179e"
             ],
             [
              0.4444444444444444,
              "#bd3786"
             ],
             [
              0.5555555555555556,
              "#d8576b"
             ],
             [
              0.6666666666666666,
              "#ed7953"
             ],
             [
              0.7777777777777778,
              "#fb9f3a"
             ],
             [
              0.8888888888888888,
              "#fdca26"
             ],
             [
              1,
              "#f0f921"
             ]
            ],
            "type": "heatmap"
           }
          ],
          "heatmapgl": [
           {
            "colorbar": {
             "outlinewidth": 0,
             "ticks": ""
            },
            "colorscale": [
             [
              0,
              "#0d0887"
             ],
             [
              0.1111111111111111,
              "#46039f"
             ],
             [
              0.2222222222222222,
              "#7201a8"
             ],
             [
              0.3333333333333333,
              "#9c179e"
             ],
             [
              0.4444444444444444,
              "#bd3786"
             ],
             [
              0.5555555555555556,
              "#d8576b"
             ],
             [
              0.6666666666666666,
              "#ed7953"
             ],
             [
              0.7777777777777778,
              "#fb9f3a"
             ],
             [
              0.8888888888888888,
              "#fdca26"
             ],
             [
              1,
              "#f0f921"
             ]
            ],
            "type": "heatmapgl"
           }
          ],
          "histogram": [
           {
            "marker": {
             "pattern": {
              "fillmode": "overlay",
              "size": 10,
              "solidity": 0.2
             }
            },
            "type": "histogram"
           }
          ],
          "histogram2d": [
           {
            "colorbar": {
             "outlinewidth": 0,
             "ticks": ""
            },
            "colorscale": [
             [
              0,
              "#0d0887"
             ],
             [
              0.1111111111111111,
              "#46039f"
             ],
             [
              0.2222222222222222,
              "#7201a8"
             ],
             [
              0.3333333333333333,
              "#9c179e"
             ],
             [
              0.4444444444444444,
              "#bd3786"
             ],
             [
              0.5555555555555556,
              "#d8576b"
             ],
             [
              0.6666666666666666,
              "#ed7953"
             ],
             [
              0.7777777777777778,
              "#fb9f3a"
             ],
             [
              0.8888888888888888,
              "#fdca26"
             ],
             [
              1,
              "#f0f921"
             ]
            ],
            "type": "histogram2d"
           }
          ],
          "histogram2dcontour": [
           {
            "colorbar": {
             "outlinewidth": 0,
             "ticks": ""
            },
            "colorscale": [
             [
              0,
              "#0d0887"
             ],
             [
              0.1111111111111111,
              "#46039f"
             ],
             [
              0.2222222222222222,
              "#7201a8"
             ],
             [
              0.3333333333333333,
              "#9c179e"
             ],
             [
              0.4444444444444444,
              "#bd3786"
             ],
             [
              0.5555555555555556,
              "#d8576b"
             ],
             [
              0.6666666666666666,
              "#ed7953"
             ],
             [
              0.7777777777777778,
              "#fb9f3a"
             ],
             [
              0.8888888888888888,
              "#fdca26"
             ],
             [
              1,
              "#f0f921"
             ]
            ],
            "type": "histogram2dcontour"
           }
          ],
          "mesh3d": [
           {
            "colorbar": {
             "outlinewidth": 0,
             "ticks": ""
            },
            "type": "mesh3d"
           }
          ],
          "parcoords": [
           {
            "line": {
             "colorbar": {
              "outlinewidth": 0,
              "ticks": ""
             }
            },
            "type": "parcoords"
           }
          ],
          "pie": [
           {
            "automargin": true,
            "type": "pie"
           }
          ],
          "scatter": [
           {
            "fillpattern": {
             "fillmode": "overlay",
             "size": 10,
             "solidity": 0.2
            },
            "type": "scatter"
           }
          ],
          "scatter3d": [
           {
            "line": {
             "colorbar": {
              "outlinewidth": 0,
              "ticks": ""
             }
            },
            "marker": {
             "colorbar": {
              "outlinewidth": 0,
              "ticks": ""
             }
            },
            "type": "scatter3d"
           }
          ],
          "scattercarpet": [
           {
            "marker": {
             "colorbar": {
              "outlinewidth": 0,
              "ticks": ""
             }
            },
            "type": "scattercarpet"
           }
          ],
          "scattergeo": [
           {
            "marker": {
             "colorbar": {
              "outlinewidth": 0,
              "ticks": ""
             }
            },
            "type": "scattergeo"
           }
          ],
          "scattergl": [
           {
            "marker": {
             "colorbar": {
              "outlinewidth": 0,
              "ticks": ""
             }
            },
            "type": "scattergl"
           }
          ],
          "scattermapbox": [
           {
            "marker": {
             "colorbar": {
              "outlinewidth": 0,
              "ticks": ""
             }
            },
            "type": "scattermapbox"
           }
          ],
          "scatterpolar": [
           {
            "marker": {
             "colorbar": {
              "outlinewidth": 0,
              "ticks": ""
             }
            },
            "type": "scatterpolar"
           }
          ],
          "scatterpolargl": [
           {
            "marker": {
             "colorbar": {
              "outlinewidth": 0,
              "ticks": ""
             }
            },
            "type": "scatterpolargl"
           }
          ],
          "scatterternary": [
           {
            "marker": {
             "colorbar": {
              "outlinewidth": 0,
              "ticks": ""
             }
            },
            "type": "scatterternary"
           }
          ],
          "surface": [
           {
            "colorbar": {
             "outlinewidth": 0,
             "ticks": ""
            },
            "colorscale": [
             [
              0,
              "#0d0887"
             ],
             [
              0.1111111111111111,
              "#46039f"
             ],
             [
              0.2222222222222222,
              "#7201a8"
             ],
             [
              0.3333333333333333,
              "#9c179e"
             ],
             [
              0.4444444444444444,
              "#bd3786"
             ],
             [
              0.5555555555555556,
              "#d8576b"
             ],
             [
              0.6666666666666666,
              "#ed7953"
             ],
             [
              0.7777777777777778,
              "#fb9f3a"
             ],
             [
              0.8888888888888888,
              "#fdca26"
             ],
             [
              1,
              "#f0f921"
             ]
            ],
            "type": "surface"
           }
          ],
          "table": [
           {
            "cells": {
             "fill": {
              "color": "#EBF0F8"
             },
             "line": {
              "color": "white"
             }
            },
            "header": {
             "fill": {
              "color": "#C8D4E3"
             },
             "line": {
              "color": "white"
             }
            },
            "type": "table"
           }
          ]
         },
         "layout": {
          "annotationdefaults": {
           "arrowcolor": "#2a3f5f",
           "arrowhead": 0,
           "arrowwidth": 1
          },
          "autotypenumbers": "strict",
          "coloraxis": {
           "colorbar": {
            "outlinewidth": 0,
            "ticks": ""
           }
          },
          "colorscale": {
           "diverging": [
            [
             0,
             "#8e0152"
            ],
            [
             0.1,
             "#c51b7d"
            ],
            [
             0.2,
             "#de77ae"
            ],
            [
             0.3,
             "#f1b6da"
            ],
            [
             0.4,
             "#fde0ef"
            ],
            [
             0.5,
             "#f7f7f7"
            ],
            [
             0.6,
             "#e6f5d0"
            ],
            [
             0.7,
             "#b8e186"
            ],
            [
             0.8,
             "#7fbc41"
            ],
            [
             0.9,
             "#4d9221"
            ],
            [
             1,
             "#276419"
            ]
           ],
           "sequential": [
            [
             0,
             "#0d0887"
            ],
            [
             0.1111111111111111,
             "#46039f"
            ],
            [
             0.2222222222222222,
             "#7201a8"
            ],
            [
             0.3333333333333333,
             "#9c179e"
            ],
            [
             0.4444444444444444,
             "#bd3786"
            ],
            [
             0.5555555555555556,
             "#d8576b"
            ],
            [
             0.6666666666666666,
             "#ed7953"
            ],
            [
             0.7777777777777778,
             "#fb9f3a"
            ],
            [
             0.8888888888888888,
             "#fdca26"
            ],
            [
             1,
             "#f0f921"
            ]
           ],
           "sequentialminus": [
            [
             0,
             "#0d0887"
            ],
            [
             0.1111111111111111,
             "#46039f"
            ],
            [
             0.2222222222222222,
             "#7201a8"
            ],
            [
             0.3333333333333333,
             "#9c179e"
            ],
            [
             0.4444444444444444,
             "#bd3786"
            ],
            [
             0.5555555555555556,
             "#d8576b"
            ],
            [
             0.6666666666666666,
             "#ed7953"
            ],
            [
             0.7777777777777778,
             "#fb9f3a"
            ],
            [
             0.8888888888888888,
             "#fdca26"
            ],
            [
             1,
             "#f0f921"
            ]
           ]
          },
          "colorway": [
           "#636efa",
           "#EF553B",
           "#00cc96",
           "#ab63fa",
           "#FFA15A",
           "#19d3f3",
           "#FF6692",
           "#B6E880",
           "#FF97FF",
           "#FECB52"
          ],
          "font": {
           "color": "#2a3f5f"
          },
          "geo": {
           "bgcolor": "white",
           "lakecolor": "white",
           "landcolor": "#E5ECF6",
           "showlakes": true,
           "showland": true,
           "subunitcolor": "white"
          },
          "hoverlabel": {
           "align": "left"
          },
          "hovermode": "closest",
          "mapbox": {
           "style": "light"
          },
          "paper_bgcolor": "white",
          "plot_bgcolor": "#E5ECF6",
          "polar": {
           "angularaxis": {
            "gridcolor": "white",
            "linecolor": "white",
            "ticks": ""
           },
           "bgcolor": "#E5ECF6",
           "radialaxis": {
            "gridcolor": "white",
            "linecolor": "white",
            "ticks": ""
           }
          },
          "scene": {
           "xaxis": {
            "backgroundcolor": "#E5ECF6",
            "gridcolor": "white",
            "gridwidth": 2,
            "linecolor": "white",
            "showbackground": true,
            "ticks": "",
            "zerolinecolor": "white"
           },
           "yaxis": {
            "backgroundcolor": "#E5ECF6",
            "gridcolor": "white",
            "gridwidth": 2,
            "linecolor": "white",
            "showbackground": true,
            "ticks": "",
            "zerolinecolor": "white"
           },
           "zaxis": {
            "backgroundcolor": "#E5ECF6",
            "gridcolor": "white",
            "gridwidth": 2,
            "linecolor": "white",
            "showbackground": true,
            "ticks": "",
            "zerolinecolor": "white"
           }
          },
          "shapedefaults": {
           "line": {
            "color": "#2a3f5f"
           }
          },
          "ternary": {
           "aaxis": {
            "gridcolor": "white",
            "linecolor": "white",
            "ticks": ""
           },
           "baxis": {
            "gridcolor": "white",
            "linecolor": "white",
            "ticks": ""
           },
           "bgcolor": "#E5ECF6",
           "caxis": {
            "gridcolor": "white",
            "linecolor": "white",
            "ticks": ""
           }
          },
          "title": {
           "x": 0.05
          },
          "xaxis": {
           "automargin": true,
           "gridcolor": "white",
           "linecolor": "white",
           "ticks": "",
           "title": {
            "standoff": 15
           },
           "zerolinecolor": "white",
           "zerolinewidth": 2
          },
          "yaxis": {
           "automargin": true,
           "gridcolor": "white",
           "linecolor": "white",
           "ticks": "",
           "title": {
            "standoff": 15
           },
           "zerolinecolor": "white",
           "zerolinewidth": 2
          }
         }
        },
        "xaxis": {
         "anchor": "y",
         "domain": [
          0,
          1
         ],
         "title": {
          "text": "Premiere Year"
         }
        },
        "yaxis": {
         "anchor": "x",
         "domain": [
          0,
          1
         ],
         "title": {
          "text": "Runtime"
         }
        }
       }
      }
     },
     "metadata": {},
     "output_type": "display_data"
    }
   ],
   "source": [
    "px.line(n_topten.groupby('Premiere Year')['Runtime'].mean().reset_index(), x = \"Premiere Year\", y = \"Runtime\", color_discrete_sequence=px.colors.qualitative.Pastel)"
   ]
  },
  {
   "cell_type": "code",
   "execution_count": 174,
   "metadata": {},
   "outputs": [
    {
     "data": {
      "application/vnd.plotly.v1+json": {
       "config": {
        "plotlyServerURL": "https://plot.ly"
       },
       "data": [
        {
         "alignmentgroup": "True",
         "hovertemplate": "Premiere Year=%{x}<br>Runtime=%{y}<extra></extra>",
         "legendgroup": "2019",
         "marker": {
          "color": "rgb(102, 197, 204)"
         },
         "name": "2019",
         "notched": false,
         "offsetgroup": "2019",
         "orientation": "v",
         "showlegend": true,
         "type": "box",
         "x": [
          2019,
          2019,
          2019,
          2019,
          2019,
          2019,
          2019,
          2019,
          2019,
          2019,
          2019,
          2019,
          2019,
          2019,
          2019,
          2019,
          2019,
          2019,
          2019,
          2019,
          2019,
          2019,
          2019,
          2019,
          2019,
          2019,
          2019,
          2019,
          2019,
          2019,
          2019,
          2019,
          2019,
          2019,
          2019,
          2019,
          2019,
          2019,
          2019,
          2019,
          2019,
          2019,
          2019,
          2019,
          2019,
          2019,
          2019,
          2019,
          2019,
          2019,
          2019,
          2019,
          2019,
          2019,
          2019,
          2019,
          2019,
          2019,
          2019,
          2019,
          2019,
          2019,
          2019,
          2019,
          2019,
          2019,
          2019,
          2019,
          2019,
          2019,
          2019,
          2019,
          2019,
          2019,
          2019,
          2019,
          2019,
          2019,
          2019,
          2019,
          2019,
          2019,
          2019,
          2019,
          2019,
          2019,
          2019,
          2019,
          2019,
          2019,
          2019,
          2019,
          2019,
          2019
         ],
         "x0": " ",
         "xaxis": "x",
         "y": [
          58,
          147,
          25,
          64,
          97,
          99,
          37,
          46,
          85,
          112,
          102,
          83,
          93,
          85,
          78,
          101,
          94,
          21,
          104,
          92,
          92,
          103,
          97,
          98,
          98,
          89,
          94,
          86,
          112,
          124,
          90,
          92,
          89,
          106,
          90,
          128,
          82,
          100,
          115,
          92,
          30,
          101,
          118,
          151,
          98,
          87,
          85,
          37,
          100,
          96,
          99,
          28,
          60,
          100,
          40,
          126,
          86,
          19,
          106,
          112,
          39,
          102,
          131,
          28,
          64,
          48,
          84,
          70,
          108,
          110,
          73,
          96,
          97,
          87,
          114,
          97,
          97,
          121,
          118,
          121,
          64,
          64,
          110,
          39,
          26,
          118,
          137,
          144,
          85,
          125,
          76,
          209,
          136,
          51
         ],
         "y0": " ",
         "yaxis": "y"
        },
        {
         "alignmentgroup": "True",
         "hovertemplate": "Premiere Year=%{x}<br>Runtime=%{y}<extra></extra>",
         "legendgroup": "2020",
         "marker": {
          "color": "rgb(246, 207, 113)"
         },
         "name": "2020",
         "notched": false,
         "offsetgroup": "2020",
         "orientation": "v",
         "showlegend": true,
         "type": "box",
         "x": [
          2020,
          2020,
          2020,
          2020,
          2020,
          2020,
          2020,
          2020,
          2020,
          2020,
          2020,
          2020,
          2020,
          2020,
          2020,
          2020,
          2020,
          2020,
          2020,
          2020,
          2020,
          2020,
          2020,
          2020,
          2020,
          2020,
          2020,
          2020,
          2020,
          2020,
          2020,
          2020,
          2020,
          2020,
          2020,
          2020,
          2020,
          2020,
          2020,
          2020,
          2020,
          2020,
          2020,
          2020,
          2020,
          2020,
          2020,
          2020,
          2020,
          2020,
          2020,
          2020,
          2020,
          2020,
          2020,
          2020,
          2020,
          2020,
          2020,
          2020,
          2020,
          2020,
          2020,
          2020,
          2020,
          2020,
          2020,
          2020,
          2020,
          2020,
          2020,
          2020,
          2020,
          2020,
          2020,
          2020,
          2020,
          2020,
          2020,
          2020,
          2020,
          2020,
          2020,
          2020,
          2020,
          2020,
          2020,
          2020,
          2020,
          2020,
          2020,
          2020,
          2020,
          2020,
          2020,
          2020,
          2020,
          2020,
          2020,
          2020,
          2020,
          2020,
          2020,
          2020,
          2020,
          2020,
          2020,
          2020,
          2020,
          2020,
          2020,
          2020,
          2020,
          2020,
          2020,
          2020,
          2020,
          2020,
          2020,
          2020,
          2020,
          2020,
          2020
         ],
         "x0": " ",
         "xaxis": "x",
         "y": [
          81,
          112,
          112,
          97,
          89,
          107,
          88,
          86,
          105,
          93,
          106,
          106,
          103,
          101,
          80,
          93,
          96,
          86,
          86,
          106,
          103,
          99,
          97,
          112,
          116,
          120,
          119,
          97,
          100,
          106,
          91,
          94,
          103,
          125,
          85,
          90,
          107,
          121,
          114,
          98,
          96,
          105,
          131,
          93,
          111,
          120,
          104,
          111,
          83,
          102,
          95,
          116,
          118,
          87,
          96,
          151,
          101,
          92,
          139,
          83,
          134,
          103,
          94,
          113,
          16,
          97,
          103,
          93,
          93,
          91,
          91,
          94,
          83,
          99,
          117,
          90,
          117,
          80,
          101,
          92,
          19,
          89,
          70,
          96,
          85,
          114,
          121,
          95,
          108,
          100,
          132,
          83,
          17,
          94,
          117,
          92,
          80,
          94,
          41,
          82,
          92,
          124,
          100,
          105,
          96,
          149,
          114,
          85,
          40,
          79,
          90,
          104,
          94,
          117,
          108,
          130,
          82,
          85,
          106,
          107,
          109,
          89,
          83
         ],
         "y0": " ",
         "yaxis": "y"
        },
        {
         "alignmentgroup": "True",
         "hovertemplate": "Premiere Year=%{x}<br>Runtime=%{y}<extra></extra>",
         "legendgroup": "2021",
         "marker": {
          "color": "rgb(248, 156, 116)"
         },
         "name": "2021",
         "notched": false,
         "offsetgroup": "2021",
         "orientation": "v",
         "showlegend": true,
         "type": "box",
         "x": [
          2021,
          2021,
          2021,
          2021,
          2021,
          2021,
          2021,
          2021,
          2021,
          2021,
          2021,
          2021,
          2021,
          2021,
          2021,
          2021,
          2021,
          2021,
          2021,
          2021,
          2021,
          2021,
          2021,
          2021,
          2021,
          2021,
          2021,
          2021,
          2021,
          2021,
          2021,
          2021,
          2021,
          2021,
          2021,
          2021,
          2021,
          2021,
          2021,
          2021,
          2021,
          2021,
          2021,
          2021,
          2021,
          2021,
          2021,
          2021,
          2021,
          2021,
          2021,
          2021,
          2021,
          2021,
          2021
         ],
         "x0": " ",
         "xaxis": "x",
         "y": [
          139,
          58,
          102,
          120,
          97,
          99,
          80,
          102,
          117,
          112,
          121,
          112,
          94,
          86,
          103,
          83,
          91,
          86,
          107,
          53,
          96,
          114,
          95,
          92,
          106,
          114,
          111,
          97,
          90,
          72,
          109,
          101,
          21,
          55,
          98,
          102,
          98,
          32,
          142,
          95,
          89,
          111,
          132,
          97,
          98,
          97,
          114,
          99,
          108,
          106,
          126,
          112,
          125,
          129,
          89
         ],
         "y0": " ",
         "yaxis": "y"
        },
        {
         "alignmentgroup": "True",
         "hovertemplate": "Premiere Year=%{x}<br>Runtime=%{y}<extra></extra>",
         "legendgroup": "2016",
         "marker": {
          "color": "rgb(220, 176, 242)"
         },
         "name": "2016",
         "notched": false,
         "offsetgroup": "2016",
         "orientation": "v",
         "showlegend": true,
         "type": "box",
         "x": [
          2016,
          2016,
          2016,
          2016,
          2016,
          2016,
          2016,
          2016,
          2016,
          2016,
          2016,
          2016,
          2016,
          2016,
          2016,
          2016,
          2016,
          2016,
          2016,
          2016,
          2016
         ],
         "x0": " ",
         "xaxis": "x",
         "y": [
          90,
          89,
          100,
          92,
          95,
          104,
          79,
          111,
          116,
          76,
          92,
          91,
          98,
          107,
          24,
          79,
          90,
          97,
          40,
          112,
          100
         ],
         "y0": " ",
         "yaxis": "y"
        },
        {
         "alignmentgroup": "True",
         "hovertemplate": "Premiere Year=%{x}<br>Runtime=%{y}<extra></extra>",
         "legendgroup": "2018",
         "marker": {
          "color": "rgb(135, 197, 95)"
         },
         "name": "2018",
         "notched": false,
         "offsetgroup": "2018",
         "orientation": "v",
         "showlegend": true,
         "type": "box",
         "x": [
          2018,
          2018,
          2018,
          2018,
          2018,
          2018,
          2018,
          2018,
          2018,
          2018,
          2018,
          2018,
          2018,
          2018,
          2018,
          2018,
          2018,
          2018,
          2018,
          2018,
          2018,
          2018,
          2018,
          2018,
          2018,
          2018,
          2018,
          2018,
          2018,
          2018,
          2018,
          2018,
          2018,
          2018,
          2018,
          2018,
          2018,
          2018,
          2018,
          2018,
          2018,
          2018,
          2018,
          2018,
          2018,
          2018,
          2018,
          2018,
          2018,
          2018,
          2018,
          2018,
          2018,
          2018,
          2018,
          2018,
          2018,
          2018,
          2018,
          2018,
          2018,
          2018,
          2018,
          2018,
          2018,
          2018,
          2018
         ],
         "x0": " ",
         "xaxis": "x",
         "y": [
          95,
          94,
          94,
          116,
          92,
          102,
          95,
          108,
          125,
          34,
          95,
          92,
          78,
          118,
          89,
          75,
          23,
          95,
          106,
          104,
          105,
          101,
          103,
          98,
          98,
          104,
          99,
          98,
          44,
          120,
          96,
          98,
          87,
          116,
          97,
          120,
          105,
          89,
          58,
          98,
          144,
          105,
          101,
          79,
          122,
          23,
          57,
          95,
          86,
          40,
          31,
          58,
          99,
          39,
          133,
          124,
          101,
          11,
          100,
          97,
          98,
          74,
          99,
          124,
          100,
          135,
          105
         ],
         "y0": " ",
         "yaxis": "y"
        },
        {
         "alignmentgroup": "True",
         "hovertemplate": "Premiere Year=%{x}<br>Runtime=%{y}<extra></extra>",
         "legendgroup": "2017",
         "marker": {
          "color": "rgb(158, 185, 243)"
         },
         "name": "2017",
         "notched": false,
         "offsetgroup": "2017",
         "orientation": "v",
         "showlegend": true,
         "type": "box",
         "x": [
          2017,
          2017,
          2017,
          2017,
          2017,
          2017,
          2017,
          2017,
          2017,
          2017,
          2017,
          2017,
          2017,
          2017,
          2017,
          2017,
          2017,
          2017,
          2017,
          2017,
          2017,
          2017,
          2017,
          2017,
          2017,
          2017,
          2017,
          2017,
          2017,
          2017,
          2017,
          2017,
          2017,
          2017,
          2017,
          2017,
          2017,
          2017,
          2017,
          2017
         ],
         "x0": " ",
         "xaxis": "x",
         "y": [
          80,
          104,
          99,
          70,
          81,
          131,
          96,
          92,
          102,
          80,
          94,
          92,
          95,
          88,
          107,
          97,
          95,
          83,
          91,
          87,
          39,
          73,
          107,
          96,
          100,
          112,
          100,
          109,
          27,
          78,
          95,
          136,
          101,
          105,
          40,
          98,
          94,
          120,
          89,
          114
         ],
         "y0": " ",
         "yaxis": "y"
        },
        {
         "alignmentgroup": "True",
         "hovertemplate": "Premiere Year=%{x}<br>Runtime=%{y}<extra></extra>",
         "legendgroup": "2015",
         "marker": {
          "color": "rgb(254, 136, 177)"
         },
         "name": "2015",
         "notched": false,
         "offsetgroup": "2015",
         "orientation": "v",
         "showlegend": true,
         "type": "box",
         "x": [
          2015,
          2015,
          2015,
          2015,
          2015,
          2015
         ],
         "x0": " ",
         "xaxis": "x",
         "y": [
          84,
          81,
          83,
          80,
          84,
          91
         ],
         "y0": " ",
         "yaxis": "y"
        },
        {
         "alignmentgroup": "True",
         "hovertemplate": "Premiere Year=%{x}<br>Runtime=%{y}<extra></extra>",
         "legendgroup": "2014",
         "marker": {
          "color": "rgb(201, 219, 116)"
         },
         "name": "2014",
         "notched": false,
         "offsetgroup": "2014",
         "orientation": "v",
         "showlegend": true,
         "type": "box",
         "x": [
          2014
         ],
         "x0": " ",
         "xaxis": "x",
         "y": [
          81
         ],
         "y0": " ",
         "yaxis": "y"
        }
       ],
       "layout": {
        "boxmode": "overlay",
        "legend": {
         "title": {
          "text": "Premiere Year"
         },
         "tracegroupgap": 0
        },
        "margin": {
         "t": 60
        },
        "template": {
         "data": {
          "bar": [
           {
            "error_x": {
             "color": "#2a3f5f"
            },
            "error_y": {
             "color": "#2a3f5f"
            },
            "marker": {
             "line": {
              "color": "#E5ECF6",
              "width": 0.5
             },
             "pattern": {
              "fillmode": "overlay",
              "size": 10,
              "solidity": 0.2
             }
            },
            "type": "bar"
           }
          ],
          "barpolar": [
           {
            "marker": {
             "line": {
              "color": "#E5ECF6",
              "width": 0.5
             },
             "pattern": {
              "fillmode": "overlay",
              "size": 10,
              "solidity": 0.2
             }
            },
            "type": "barpolar"
           }
          ],
          "carpet": [
           {
            "aaxis": {
             "endlinecolor": "#2a3f5f",
             "gridcolor": "white",
             "linecolor": "white",
             "minorgridcolor": "white",
             "startlinecolor": "#2a3f5f"
            },
            "baxis": {
             "endlinecolor": "#2a3f5f",
             "gridcolor": "white",
             "linecolor": "white",
             "minorgridcolor": "white",
             "startlinecolor": "#2a3f5f"
            },
            "type": "carpet"
           }
          ],
          "choropleth": [
           {
            "colorbar": {
             "outlinewidth": 0,
             "ticks": ""
            },
            "type": "choropleth"
           }
          ],
          "contour": [
           {
            "colorbar": {
             "outlinewidth": 0,
             "ticks": ""
            },
            "colorscale": [
             [
              0,
              "#0d0887"
             ],
             [
              0.1111111111111111,
              "#46039f"
             ],
             [
              0.2222222222222222,
              "#7201a8"
             ],
             [
              0.3333333333333333,
              "#9c179e"
             ],
             [
              0.4444444444444444,
              "#bd3786"
             ],
             [
              0.5555555555555556,
              "#d8576b"
             ],
             [
              0.6666666666666666,
              "#ed7953"
             ],
             [
              0.7777777777777778,
              "#fb9f3a"
             ],
             [
              0.8888888888888888,
              "#fdca26"
             ],
             [
              1,
              "#f0f921"
             ]
            ],
            "type": "contour"
           }
          ],
          "contourcarpet": [
           {
            "colorbar": {
             "outlinewidth": 0,
             "ticks": ""
            },
            "type": "contourcarpet"
           }
          ],
          "heatmap": [
           {
            "colorbar": {
             "outlinewidth": 0,
             "ticks": ""
            },
            "colorscale": [
             [
              0,
              "#0d0887"
             ],
             [
              0.1111111111111111,
              "#46039f"
             ],
             [
              0.2222222222222222,
              "#7201a8"
             ],
             [
              0.3333333333333333,
              "#9c179e"
             ],
             [
              0.4444444444444444,
              "#bd3786"
             ],
             [
              0.5555555555555556,
              "#d8576b"
             ],
             [
              0.6666666666666666,
              "#ed7953"
             ],
             [
              0.7777777777777778,
              "#fb9f3a"
             ],
             [
              0.8888888888888888,
              "#fdca26"
             ],
             [
              1,
              "#f0f921"
             ]
            ],
            "type": "heatmap"
           }
          ],
          "heatmapgl": [
           {
            "colorbar": {
             "outlinewidth": 0,
             "ticks": ""
            },
            "colorscale": [
             [
              0,
              "#0d0887"
             ],
             [
              0.1111111111111111,
              "#46039f"
             ],
             [
              0.2222222222222222,
              "#7201a8"
             ],
             [
              0.3333333333333333,
              "#9c179e"
             ],
             [
              0.4444444444444444,
              "#bd3786"
             ],
             [
              0.5555555555555556,
              "#d8576b"
             ],
             [
              0.6666666666666666,
              "#ed7953"
             ],
             [
              0.7777777777777778,
              "#fb9f3a"
             ],
             [
              0.8888888888888888,
              "#fdca26"
             ],
             [
              1,
              "#f0f921"
             ]
            ],
            "type": "heatmapgl"
           }
          ],
          "histogram": [
           {
            "marker": {
             "pattern": {
              "fillmode": "overlay",
              "size": 10,
              "solidity": 0.2
             }
            },
            "type": "histogram"
           }
          ],
          "histogram2d": [
           {
            "colorbar": {
             "outlinewidth": 0,
             "ticks": ""
            },
            "colorscale": [
             [
              0,
              "#0d0887"
             ],
             [
              0.1111111111111111,
              "#46039f"
             ],
             [
              0.2222222222222222,
              "#7201a8"
             ],
             [
              0.3333333333333333,
              "#9c179e"
             ],
             [
              0.4444444444444444,
              "#bd3786"
             ],
             [
              0.5555555555555556,
              "#d8576b"
             ],
             [
              0.6666666666666666,
              "#ed7953"
             ],
             [
              0.7777777777777778,
              "#fb9f3a"
             ],
             [
              0.8888888888888888,
              "#fdca26"
             ],
             [
              1,
              "#f0f921"
             ]
            ],
            "type": "histogram2d"
           }
          ],
          "histogram2dcontour": [
           {
            "colorbar": {
             "outlinewidth": 0,
             "ticks": ""
            },
            "colorscale": [
             [
              0,
              "#0d0887"
             ],
             [
              0.1111111111111111,
              "#46039f"
             ],
             [
              0.2222222222222222,
              "#7201a8"
             ],
             [
              0.3333333333333333,
              "#9c179e"
             ],
             [
              0.4444444444444444,
              "#bd3786"
             ],
             [
              0.5555555555555556,
              "#d8576b"
             ],
             [
              0.6666666666666666,
              "#ed7953"
             ],
             [
              0.7777777777777778,
              "#fb9f3a"
             ],
             [
              0.8888888888888888,
              "#fdca26"
             ],
             [
              1,
              "#f0f921"
             ]
            ],
            "type": "histogram2dcontour"
           }
          ],
          "mesh3d": [
           {
            "colorbar": {
             "outlinewidth": 0,
             "ticks": ""
            },
            "type": "mesh3d"
           }
          ],
          "parcoords": [
           {
            "line": {
             "colorbar": {
              "outlinewidth": 0,
              "ticks": ""
             }
            },
            "type": "parcoords"
           }
          ],
          "pie": [
           {
            "automargin": true,
            "type": "pie"
           }
          ],
          "scatter": [
           {
            "fillpattern": {
             "fillmode": "overlay",
             "size": 10,
             "solidity": 0.2
            },
            "type": "scatter"
           }
          ],
          "scatter3d": [
           {
            "line": {
             "colorbar": {
              "outlinewidth": 0,
              "ticks": ""
             }
            },
            "marker": {
             "colorbar": {
              "outlinewidth": 0,
              "ticks": ""
             }
            },
            "type": "scatter3d"
           }
          ],
          "scattercarpet": [
           {
            "marker": {
             "colorbar": {
              "outlinewidth": 0,
              "ticks": ""
             }
            },
            "type": "scattercarpet"
           }
          ],
          "scattergeo": [
           {
            "marker": {
             "colorbar": {
              "outlinewidth": 0,
              "ticks": ""
             }
            },
            "type": "scattergeo"
           }
          ],
          "scattergl": [
           {
            "marker": {
             "colorbar": {
              "outlinewidth": 0,
              "ticks": ""
             }
            },
            "type": "scattergl"
           }
          ],
          "scattermapbox": [
           {
            "marker": {
             "colorbar": {
              "outlinewidth": 0,
              "ticks": ""
             }
            },
            "type": "scattermapbox"
           }
          ],
          "scatterpolar": [
           {
            "marker": {
             "colorbar": {
              "outlinewidth": 0,
              "ticks": ""
             }
            },
            "type": "scatterpolar"
           }
          ],
          "scatterpolargl": [
           {
            "marker": {
             "colorbar": {
              "outlinewidth": 0,
              "ticks": ""
             }
            },
            "type": "scatterpolargl"
           }
          ],
          "scatterternary": [
           {
            "marker": {
             "colorbar": {
              "outlinewidth": 0,
              "ticks": ""
             }
            },
            "type": "scatterternary"
           }
          ],
          "surface": [
           {
            "colorbar": {
             "outlinewidth": 0,
             "ticks": ""
            },
            "colorscale": [
             [
              0,
              "#0d0887"
             ],
             [
              0.1111111111111111,
              "#46039f"
             ],
             [
              0.2222222222222222,
              "#7201a8"
             ],
             [
              0.3333333333333333,
              "#9c179e"
             ],
             [
              0.4444444444444444,
              "#bd3786"
             ],
             [
              0.5555555555555556,
              "#d8576b"
             ],
             [
              0.6666666666666666,
              "#ed7953"
             ],
             [
              0.7777777777777778,
              "#fb9f3a"
             ],
             [
              0.8888888888888888,
              "#fdca26"
             ],
             [
              1,
              "#f0f921"
             ]
            ],
            "type": "surface"
           }
          ],
          "table": [
           {
            "cells": {
             "fill": {
              "color": "#EBF0F8"
             },
             "line": {
              "color": "white"
             }
            },
            "header": {
             "fill": {
              "color": "#C8D4E3"
             },
             "line": {
              "color": "white"
             }
            },
            "type": "table"
           }
          ]
         },
         "layout": {
          "annotationdefaults": {
           "arrowcolor": "#2a3f5f",
           "arrowhead": 0,
           "arrowwidth": 1
          },
          "autotypenumbers": "strict",
          "coloraxis": {
           "colorbar": {
            "outlinewidth": 0,
            "ticks": ""
           }
          },
          "colorscale": {
           "diverging": [
            [
             0,
             "#8e0152"
            ],
            [
             0.1,
             "#c51b7d"
            ],
            [
             0.2,
             "#de77ae"
            ],
            [
             0.3,
             "#f1b6da"
            ],
            [
             0.4,
             "#fde0ef"
            ],
            [
             0.5,
             "#f7f7f7"
            ],
            [
             0.6,
             "#e6f5d0"
            ],
            [
             0.7,
             "#b8e186"
            ],
            [
             0.8,
             "#7fbc41"
            ],
            [
             0.9,
             "#4d9221"
            ],
            [
             1,
             "#276419"
            ]
           ],
           "sequential": [
            [
             0,
             "#0d0887"
            ],
            [
             0.1111111111111111,
             "#46039f"
            ],
            [
             0.2222222222222222,
             "#7201a8"
            ],
            [
             0.3333333333333333,
             "#9c179e"
            ],
            [
             0.4444444444444444,
             "#bd3786"
            ],
            [
             0.5555555555555556,
             "#d8576b"
            ],
            [
             0.6666666666666666,
             "#ed7953"
            ],
            [
             0.7777777777777778,
             "#fb9f3a"
            ],
            [
             0.8888888888888888,
             "#fdca26"
            ],
            [
             1,
             "#f0f921"
            ]
           ],
           "sequentialminus": [
            [
             0,
             "#0d0887"
            ],
            [
             0.1111111111111111,
             "#46039f"
            ],
            [
             0.2222222222222222,
             "#7201a8"
            ],
            [
             0.3333333333333333,
             "#9c179e"
            ],
            [
             0.4444444444444444,
             "#bd3786"
            ],
            [
             0.5555555555555556,
             "#d8576b"
            ],
            [
             0.6666666666666666,
             "#ed7953"
            ],
            [
             0.7777777777777778,
             "#fb9f3a"
            ],
            [
             0.8888888888888888,
             "#fdca26"
            ],
            [
             1,
             "#f0f921"
            ]
           ]
          },
          "colorway": [
           "#636efa",
           "#EF553B",
           "#00cc96",
           "#ab63fa",
           "#FFA15A",
           "#19d3f3",
           "#FF6692",
           "#B6E880",
           "#FF97FF",
           "#FECB52"
          ],
          "font": {
           "color": "#2a3f5f"
          },
          "geo": {
           "bgcolor": "white",
           "lakecolor": "white",
           "landcolor": "#E5ECF6",
           "showlakes": true,
           "showland": true,
           "subunitcolor": "white"
          },
          "hoverlabel": {
           "align": "left"
          },
          "hovermode": "closest",
          "mapbox": {
           "style": "light"
          },
          "paper_bgcolor": "white",
          "plot_bgcolor": "#E5ECF6",
          "polar": {
           "angularaxis": {
            "gridcolor": "white",
            "linecolor": "white",
            "ticks": ""
           },
           "bgcolor": "#E5ECF6",
           "radialaxis": {
            "gridcolor": "white",
            "linecolor": "white",
            "ticks": ""
           }
          },
          "scene": {
           "xaxis": {
            "backgroundcolor": "#E5ECF6",
            "gridcolor": "white",
            "gridwidth": 2,
            "linecolor": "white",
            "showbackground": true,
            "ticks": "",
            "zerolinecolor": "white"
           },
           "yaxis": {
            "backgroundcolor": "#E5ECF6",
            "gridcolor": "white",
            "gridwidth": 2,
            "linecolor": "white",
            "showbackground": true,
            "ticks": "",
            "zerolinecolor": "white"
           },
           "zaxis": {
            "backgroundcolor": "#E5ECF6",
            "gridcolor": "white",
            "gridwidth": 2,
            "linecolor": "white",
            "showbackground": true,
            "ticks": "",
            "zerolinecolor": "white"
           }
          },
          "shapedefaults": {
           "line": {
            "color": "#2a3f5f"
           }
          },
          "ternary": {
           "aaxis": {
            "gridcolor": "white",
            "linecolor": "white",
            "ticks": ""
           },
           "baxis": {
            "gridcolor": "white",
            "linecolor": "white",
            "ticks": ""
           },
           "bgcolor": "#E5ECF6",
           "caxis": {
            "gridcolor": "white",
            "linecolor": "white",
            "ticks": ""
           }
          },
          "title": {
           "x": 0.05
          },
          "xaxis": {
           "automargin": true,
           "gridcolor": "white",
           "linecolor": "white",
           "ticks": "",
           "title": {
            "standoff": 15
           },
           "zerolinecolor": "white",
           "zerolinewidth": 2
          },
          "yaxis": {
           "automargin": true,
           "gridcolor": "white",
           "linecolor": "white",
           "ticks": "",
           "title": {
            "standoff": 15
           },
           "zerolinecolor": "white",
           "zerolinewidth": 2
          }
         }
        },
        "xaxis": {
         "anchor": "y",
         "categoryarray": [
          2019,
          2020,
          2021,
          2016,
          2018,
          2017,
          2015,
          2014
         ],
         "categoryorder": "array",
         "domain": [
          0,
          1
         ],
         "title": {
          "text": "Premiere Year"
         }
        },
        "yaxis": {
         "anchor": "x",
         "domain": [
          0,
          1
         ],
         "title": {
          "text": "Runtime"
         }
        }
       }
      }
     },
     "metadata": {},
     "output_type": "display_data"
    }
   ],
   "source": [
    "px.box(n_topten, x=\"Premiere Year\", y=\"Runtime\", color = 'Premiere Year', color_discrete_sequence = px.colors.qualitative.Pastel)"
   ]
  },
  {
   "cell_type": "code",
   "execution_count": 179,
   "metadata": {},
   "outputs": [
    {
     "data": {
      "image/png": "[encoded data removed]",
      "text/plain": [
       "<Figure size 640x480 with 1 Axes>"
      ]
     },
     "metadata": {},
     "output_type": "display_data"
    }
   ],
   "source": [
    "n_topten.groupby('Language')['IMDB Score'].mean().sort_values().plot(kind = 'barh');"
   ]
  },
  {
   "cell_type": "markdown",
   "metadata": {},
   "source": [
    "### Dashboard for Top Ten Movie Genres"
   ]
  },
  {
   "cell_type": "code",
   "execution_count": 262,
   "metadata": {},
   "outputs": [
    {
     "data": {
      "text/html": [
       "\n",
       "        <iframe\n",
       "            width=\"100%\"\n",
       "            height=\"650\"\n",
       "            src=\"http://127.0.0.1:8051/\"\n",
       "            frameborder=\"0\"\n",
       "            allowfullscreen\n",
       "            \n",
       "        ></iframe>\n",
       "        "
      ],
      "text/plain": [
       "<IPython.lib.display.IFrame at 0x12d15f1c0>"
      ]
     },
     "metadata": {},
     "output_type": "display_data"
    }
   ],
   "source": [
    "from dash import Dash, dash_table, dcc, callback, Output, Input, html\n",
    "import dash_mantine_components as dmc\n",
    "\n",
    "# Create Dash app\n",
    "app = Dash(__name__)\n",
    "\n",
    "# Layout\n",
    "app.layout = html.Div(\n",
    "    style={'background-color': '#ffcccb'},  # Ensures background is visible\n",
    "    children=[\n",
    "        dmc.Container([\n",
    "            dmc.Title('Netflix Data Dashboard', color=\"red\"),\n",
    "            \n",
    "            # Dropdown \n",
    "            dmc.Select(\n",
    "                label=\"Select Genre\",\n",
    "                id='genre-dropdown',\n",
    "                value='All Genres',  # Default\n",
    "                data=[{'value': 'All Genres', 'label': 'All Genres'}] + \n",
    "                     [{'value': genre, 'label': genre} for genre in sorted(n_topten['Genre'].unique())]\n",
    "            ),\n",
    "            \n",
    "            # Layout\n",
    "            dmc.Grid([\n",
    "                dmc.Col([dcc.Graph(figure={}, id='scatter-graph')]),\n",
    "                dmc.Col([dcc.Graph(figure={}, id='histogram-graph')], span=6),\n",
    "                dmc.Col([dcc.Graph(figure={}, id='barchart-graph')], span=6),\n",
    "                dmc.Col([dcc.Graph(figure={}, id='boxplot-graph')]),\n",
    "            ]),\n",
    "\n",
    "            # Data Table\n",
    "            dmc.Grid([\n",
    "                dmc.Col([\n",
    "                    dash_table.DataTable(data=n_topten.to_dict('records'), page_size=8)\n",
    "                ], span=12),\n",
    "            ]),\n",
    "        ])\n",
    "    ]\n",
    ")\n",
    "\n",
    "# Callback to update all four graphs based on selected genre\n",
    "@callback(\n",
    "    [\n",
    "        Output(component_id='scatter-graph', component_property='figure'),\n",
    "        Output(component_id='histogram-graph', component_property='figure'),\n",
    "        Output(component_id='barchart-graph', component_property='figure'),\n",
    "        Output(component_id='boxplot-graph', component_property='figure')\n",
    "    ],\n",
    "    Input(component_id='genre-dropdown', component_property='value')\n",
    ")  \n",
    "def update_graphs(selected_genre):\n",
    "    # Filter data based on the selected genre, all data if \"All Genres\" is selected\n",
    "    if selected_genre == 'All Genres':\n",
    "        filtered_data = n_topten\n",
    "    else:\n",
    "        filtered_data = n_topten[n_topten['Genre'] == selected_genre]\n",
    "    \n",
    "    # Scatter Plot\n",
    "    scatter_fig = px.scatter(\n",
    "        filtered_data,\n",
    "        x='Runtime',\n",
    "        y='IMDB Score',\n",
    "        color='Genre',\n",
    "        hover_data=['Title', 'Premiere'],\n",
    "        title=f\"IMDB Score VS Runtime for {'All Movies' if selected_genre == 'All Genres' else selected_genre} Movies\",\n",
    "        color_discrete_sequence=px.colors.qualitative.Pastel\n",
    "    )\n",
    "    scatter_fig.update_traces(showlegend=False)\n",
    "    \n",
    "    # Histogram\n",
    "    histogram_fig = px.histogram(\n",
    "        filtered_data,\n",
    "        x='IMDB Score',\n",
    "        nbins=20,\n",
    "        color_discrete_sequence=px.colors.qualitative.Pastel,\n",
    "        title=f\"IMDB Score Distribution for {'All Genres' if selected_genre == 'All Genres' else selected_genre}\"\n",
    "    )\n",
    "    \n",
    "    # Bar Chart\n",
    "    barchart_fig = px.bar(\n",
    "        filtered_data.groupby('Language').size().sort_values(ascending=False).reset_index(name='Count'),\n",
    "        x='Language',\n",
    "        y='Count',\n",
    "        title=f\"Number of movies in each language for {'All Genres' if selected_genre == 'All Genres' else selected_genre}\",\n",
    "        color='Language',\n",
    "        color_discrete_sequence=px.colors.qualitative.Pastel\n",
    "    )\n",
    "    barchart_fig.update_traces(showlegend=False)\n",
    "    \n",
    "    # Boxplot\n",
    "    boxplot_fig = px.box(\n",
    "        filtered_data,\n",
    "        x='Premiere Year',\n",
    "        y='Runtime',\n",
    "        color='Premiere Year',\n",
    "        color_discrete_sequence=px.colors.qualitative.Pastel,\n",
    "        title=f\"Runtime Distribution for {'All Genres' if selected_genre == 'All Genres' else selected_genre}\"\n",
    "    )\n",
    "    boxplot_fig.update_traces(showlegend=False)\n",
    "    \n",
    "    return scatter_fig, histogram_fig, barchart_fig, boxplot_fig\n",
    "\n",
    "if __name__ == '__main__':\n",
    "    app.run(debug=True, port = 8051)\n"
   ]
  },
  {
   "cell_type": "markdown",
   "metadata": {},
   "source": [
    "#### Predictive Modelling"
   ]
  },
  {
   "cell_type": "code",
   "execution_count": 237,
   "metadata": {},
   "outputs": [],
   "source": [
    "from sklearn.neighbors import KNeighborsClassifier\n",
    "from sklearn.metrics import accuracy_score, recall_score, confusion_matrix, precision_score, ConfusionMatrixDisplay\n",
    "from sklearn.model_selection import train_test_split\n",
    "\n",
    "from sklearn.preprocessing import StandardScaler\n",
    "\n",
    "from sklearn.linear_model import LinearRegression\n",
    "from sklearn.model_selection import train_test_split\n",
    "from sklearn.metrics import mean_squared_error, r2_score\n",
    "from sklearn import metrics\n",
    "\n",
    "from sklearn.ensemble import RandomForestRegressor\n",
    "\n",
    "from imblearn.over_sampling import SMOTE"
   ]
  },
  {
   "cell_type": "code",
   "execution_count": 200,
   "metadata": {},
   "outputs": [
    {
     "name": "stderr",
     "output_type": "stream",
     "text": [
      "/var/folders/rb/qx5qmmrs6nn_8zcrwgr7ds6m0000gn/T/ipykernel_91493/2451276112.py:3: SettingWithCopyWarning:\n",
      "\n",
      "\n",
      "A value is trying to be set on a copy of a slice from a DataFrame.\n",
      "Try using .loc[row_indexer,col_indexer] = value instead\n",
      "\n",
      "See the caveats in the documentation: https://pandas.pydata.org/pandas-docs/stable/user_guide/indexing.html#returning-a-view-versus-a-copy\n",
      "\n"
     ]
    }
   ],
   "source": [
    "import numpy as np\n",
    "\n",
    "n_topten['InEnglish'] = np.where(n_topten['Language'] == 'English', 1, 0)"
   ]
  },
  {
   "cell_type": "code",
   "execution_count": 203,
   "metadata": {},
   "outputs": [
    {
     "data": {
      "text/plain": [
       "InEnglish\n",
       "1    0.628993\n",
       "0    0.371007\n",
       "Name: proportion, dtype: float64"
      ]
     },
     "execution_count": 203,
     "metadata": {},
     "output_type": "execute_result"
    }
   ],
   "source": [
    "n_topten.InEnglish.value_counts(normalize = True)"
   ]
  },
  {
   "cell_type": "markdown",
   "metadata": {},
   "source": [
    "##### Choosing to predict whether the movie is in English or not"
   ]
  },
  {
   "cell_type": "code",
   "execution_count": 206,
   "metadata": {},
   "outputs": [
    {
     "data": {
      "application/vnd.plotly.v1+json": {
       "config": {
        "plotlyServerURL": "https://plot.ly"
       },
       "data": [
        {
         "alignmentgroup": "True",
         "hovertemplate": "InEnglish=%{x}<br>Runtime=%{y}<extra></extra>",
         "legendgroup": "0",
         "marker": {
          "color": "rgb(102, 197, 204)"
         },
         "name": "0",
         "notched": false,
         "offsetgroup": "0",
         "orientation": "v",
         "showlegend": true,
         "type": "box",
         "x": [
          0,
          0,
          0,
          0,
          0,
          0,
          0,
          0,
          0,
          0,
          0,
          0,
          0,
          0,
          0,
          0,
          0,
          0,
          0,
          0,
          0,
          0,
          0,
          0,
          0,
          0,
          0,
          0,
          0,
          0,
          0,
          0,
          0,
          0,
          0,
          0,
          0,
          0,
          0,
          0,
          0,
          0,
          0,
          0,
          0,
          0,
          0,
          0,
          0,
          0,
          0,
          0,
          0,
          0,
          0,
          0,
          0,
          0,
          0,
          0,
          0,
          0,
          0,
          0,
          0,
          0,
          0,
          0,
          0,
          0,
          0,
          0,
          0,
          0,
          0,
          0,
          0,
          0,
          0,
          0,
          0,
          0,
          0,
          0,
          0,
          0,
          0,
          0,
          0,
          0,
          0,
          0,
          0,
          0,
          0,
          0,
          0,
          0,
          0,
          0,
          0,
          0,
          0,
          0,
          0,
          0,
          0,
          0,
          0,
          0,
          0,
          0,
          0,
          0,
          0,
          0,
          0,
          0,
          0,
          0,
          0,
          0,
          0,
          0,
          0,
          0,
          0,
          0,
          0,
          0,
          0,
          0,
          0,
          0,
          0,
          0,
          0,
          0,
          0,
          0,
          0,
          0,
          0,
          0,
          0,
          0,
          0,
          0,
          0,
          0,
          0
         ],
         "x0": " ",
         "xaxis": "x",
         "y": [
          58,
          81,
          147,
          112,
          139,
          112,
          97,
          25,
          102,
          120,
          97,
          99,
          95,
          37,
          46,
          88,
          86,
          105,
          80,
          93,
          106,
          106,
          103,
          80,
          93,
          96,
          86,
          102,
          86,
          112,
          117,
          99,
          83,
          112,
          116,
          102,
          95,
          93,
          78,
          120,
          119,
          112,
          94,
          94,
          104,
          86,
          103,
          94,
          125,
          85,
          91,
          124,
          114,
          98,
          118,
          105,
          93,
          111,
          111,
          83,
          104,
          106,
          116,
          96,
          114,
          95,
          96,
          92,
          106,
          101,
          114,
          92,
          139,
          30,
          97,
          98,
          90,
          101,
          83,
          44,
          151,
          120,
          134,
          94,
          37,
          113,
          96,
          101,
          103,
          116,
          28,
          60,
          100,
          40,
          120,
          91,
          91,
          94,
          102,
          98,
          99,
          142,
          80,
          101,
          19,
          132,
          97,
          106,
          112,
          76,
          92,
          39,
          105,
          96,
          114,
          95,
          23,
          98,
          108,
          100,
          100,
          114,
          28,
          64,
          117,
          73,
          106,
          94,
          41,
          136,
          39,
          133,
          101,
          97,
          129,
          121,
          105,
          96,
          100,
          149,
          64,
          114,
          79,
          90,
          26,
          79,
          117,
          135,
          109,
          91,
          89
         ],
         "y0": " ",
         "yaxis": "y"
        },
        {
         "alignmentgroup": "True",
         "hovertemplate": "InEnglish=%{x}<br>Runtime=%{y}<extra></extra>",
         "legendgroup": "1",
         "marker": {
          "color": "rgb(246, 207, 113)"
         },
         "name": "1",
         "notched": false,
         "offsetgroup": "1",
         "orientation": "v",
         "showlegend": true,
         "type": "box",
         "x": [
          1,
          1,
          1,
          1,
          1,
          1,
          1,
          1,
          1,
          1,
          1,
          1,
          1,
          1,
          1,
          1,
          1,
          1,
          1,
          1,
          1,
          1,
          1,
          1,
          1,
          1,
          1,
          1,
          1,
          1,
          1,
          1,
          1,
          1,
          1,
          1,
          1,
          1,
          1,
          1,
          1,
          1,
          1,
          1,
          1,
          1,
          1,
          1,
          1,
          1,
          1,
          1,
          1,
          1,
          1,
          1,
          1,
          1,
          1,
          1,
          1,
          1,
          1,
          1,
          1,
          1,
          1,
          1,
          1,
          1,
          1,
          1,
          1,
          1,
          1,
          1,
          1,
          1,
          1,
          1,
          1,
          1,
          1,
          1,
          1,
          1,
          1,
          1,
          1,
          1,
          1,
          1,
          1,
          1,
          1,
          1,
          1,
          1,
          1,
          1,
          1,
          1,
          1,
          1,
          1,
          1,
          1,
          1,
          1,
          1,
          1,
          1,
          1,
          1,
          1,
          1,
          1,
          1,
          1,
          1,
          1,
          1,
          1,
          1,
          1,
          1,
          1,
          1,
          1,
          1,
          1,
          1,
          1,
          1,
          1,
          1,
          1,
          1,
          1,
          1,
          1,
          1,
          1,
          1,
          1,
          1,
          1,
          1,
          1,
          1,
          1,
          1,
          1,
          1,
          1,
          1,
          1,
          1,
          1,
          1,
          1,
          1,
          1,
          1,
          1,
          1,
          1,
          1,
          1,
          1,
          1,
          1,
          1,
          1,
          1,
          1,
          1,
          1,
          1,
          1,
          1,
          1,
          1,
          1,
          1,
          1,
          1,
          1,
          1,
          1,
          1,
          1,
          1,
          1,
          1,
          1,
          1,
          1,
          1,
          1,
          1,
          1,
          1,
          1,
          1,
          1,
          1,
          1,
          1,
          1,
          1,
          1,
          1,
          1,
          1,
          1,
          1,
          1,
          1,
          1,
          1,
          1,
          1,
          1,
          1,
          1,
          1,
          1,
          1,
          1,
          1,
          1,
          1,
          1,
          1,
          1,
          1,
          1,
          1,
          1,
          1,
          1,
          1,
          1,
          1,
          1,
          1,
          1,
          1,
          1,
          1,
          1,
          1,
          1,
          1,
          1
         ],
         "x0": " ",
         "xaxis": "x",
         "y": [
          58,
          90,
          64,
          97,
          99,
          89,
          107,
          89,
          85,
          80,
          101,
          100,
          104,
          99,
          106,
          94,
          70,
          81,
          103,
          94,
          131,
          112,
          102,
          116,
          92,
          97,
          121,
          92,
          85,
          101,
          96,
          97,
          21,
          100,
          106,
          108,
          92,
          92,
          103,
          95,
          97,
          125,
          91,
          98,
          103,
          83,
          98,
          89,
          94,
          34,
          86,
          95,
          90,
          112,
          86,
          107,
          92,
          121,
          90,
          104,
          92,
          78,
          107,
          92,
          96,
          89,
          131,
          89,
          75,
          120,
          104,
          23,
          53,
          95,
          106,
          90,
          105,
          101,
          102,
          128,
          82,
          102,
          80,
          94,
          84,
          103,
          95,
          100,
          118,
          87,
          92,
          151,
          115,
          98,
          92,
          98,
          104,
          95,
          88,
          99,
          111,
          72,
          118,
          98,
          87,
          109,
          85,
          103,
          100,
          96,
          16,
          97,
          81,
          98,
          107,
          87,
          97,
          99,
          97,
          93,
          21,
          55,
          93,
          98,
          95,
          105,
          83,
          79,
          126,
          89,
          58,
          83,
          98,
          32,
          86,
          95,
          91,
          89,
          117,
          90,
          117,
          87,
          111,
          111,
          116,
          144,
          19,
          102,
          89,
          101,
          70,
          85,
          39,
          79,
          73,
          121,
          122,
          107,
          92,
          97,
          96,
          132,
          57,
          95,
          83,
          17,
          131,
          112,
          86,
          100,
          109,
          94,
          99,
          108,
          48,
          84,
          70,
          27,
          108,
          110,
          92,
          80,
          40,
          96,
          97,
          78,
          81,
          87,
          91,
          95,
          126,
          31,
          58,
          112,
          114,
          125,
          99,
          82,
          98,
          97,
          107,
          92,
          124,
          124,
          11,
          118,
          121,
          24,
          100,
          101,
          64,
          105,
          97,
          83,
          110,
          39,
          40,
          85,
          97,
          118,
          40,
          98,
          80,
          74,
          90,
          137,
          98,
          99,
          40,
          104,
          124,
          144,
          85,
          100,
          94,
          125,
          84,
          76,
          108,
          94,
          209,
          130,
          82,
          120,
          136,
          112,
          105,
          89,
          85,
          106,
          100,
          107,
          89,
          114,
          51,
          83
         ],
         "y0": " ",
         "yaxis": "y"
        }
       ],
       "layout": {
        "boxmode": "overlay",
        "legend": {
         "title": {
          "text": "InEnglish"
         },
         "tracegroupgap": 0
        },
        "margin": {
         "t": 60
        },
        "template": {
         "data": {
          "bar": [
           {
            "error_x": {
             "color": "#2a3f5f"
            },
            "error_y": {
             "color": "#2a3f5f"
            },
            "marker": {
             "line": {
              "color": "#E5ECF6",
              "width": 0.5
             },
             "pattern": {
              "fillmode": "overlay",
              "size": 10,
              "solidity": 0.2
             }
            },
            "type": "bar"
           }
          ],
          "barpolar": [
           {
            "marker": {
             "line": {
              "color": "#E5ECF6",
              "width": 0.5
             },
             "pattern": {
              "fillmode": "overlay",
              "size": 10,
              "solidity": 0.2
             }
            },
            "type": "barpolar"
           }
          ],
          "carpet": [
           {
            "aaxis": {
             "endlinecolor": "#2a3f5f",
             "gridcolor": "white",
             "linecolor": "white",
             "minorgridcolor": "white",
             "startlinecolor": "#2a3f5f"
            },
            "baxis": {
             "endlinecolor": "#2a3f5f",
             "gridcolor": "white",
             "linecolor": "white",
             "minorgridcolor": "white",
             "startlinecolor": "#2a3f5f"
            },
            "type": "carpet"
           }
          ],
          "choropleth": [
           {
            "colorbar": {
             "outlinewidth": 0,
             "ticks": ""
            },
            "type": "choropleth"
           }
          ],
          "contour": [
           {
            "colorbar": {
             "outlinewidth": 0,
             "ticks": ""
            },
            "colorscale": [
             [
              0,
              "#0d0887"
             ],
             [
              0.1111111111111111,
              "#46039f"
             ],
             [
              0.2222222222222222,
              "#7201a8"
             ],
             [
              0.3333333333333333,
              "#9c179e"
             ],
             [
              0.4444444444444444,
              "#bd3786"
             ],
             [
              0.5555555555555556,
              "#d8576b"
             ],
             [
              0.6666666666666666,
              "#ed7953"
             ],
             [
              0.7777777777777778,
              "#fb9f3a"
             ],
             [
              0.8888888888888888,
              "#fdca26"
             ],
             [
              1,
              "#f0f921"
             ]
            ],
            "type": "contour"
           }
          ],
          "contourcarpet": [
           {
            "colorbar": {
             "outlinewidth": 0,
             "ticks": ""
            },
            "type": "contourcarpet"
           }
          ],
          "heatmap": [
           {
            "colorbar": {
             "outlinewidth": 0,
             "ticks": ""
            },
            "colorscale": [
             [
              0,
              "#0d0887"
             ],
             [
              0.1111111111111111,
              "#46039f"
             ],
             [
              0.2222222222222222,
              "#7201a8"
             ],
             [
              0.3333333333333333,
              "#9c179e"
             ],
             [
              0.4444444444444444,
              "#bd3786"
             ],
             [
              0.5555555555555556,
              "#d8576b"
             ],
             [
              0.6666666666666666,
              "#ed7953"
             ],
             [
              0.7777777777777778,
              "#fb9f3a"
             ],
             [
              0.8888888888888888,
              "#fdca26"
             ],
             [
              1,
              "#f0f921"
             ]
            ],
            "type": "heatmap"
           }
          ],
          "heatmapgl": [
           {
            "colorbar": {
             "outlinewidth": 0,
             "ticks": ""
            },
            "colorscale": [
             [
              0,
              "#0d0887"
             ],
             [
              0.1111111111111111,
              "#46039f"
             ],
             [
              0.2222222222222222,
              "#7201a8"
             ],
             [
              0.3333333333333333,
              "#9c179e"
             ],
             [
              0.4444444444444444,
              "#bd3786"
             ],
             [
              0.5555555555555556,
              "#d8576b"
             ],
             [
              0.6666666666666666,
              "#ed7953"
             ],
             [
              0.7777777777777778,
              "#fb9f3a"
             ],
             [
              0.8888888888888888,
              "#fdca26"
             ],
             [
              1,
              "#f0f921"
             ]
            ],
            "type": "heatmapgl"
           }
          ],
          "histogram": [
           {
            "marker": {
             "pattern": {
              "fillmode": "overlay",
              "size": 10,
              "solidity": 0.2
             }
            },
            "type": "histogram"
           }
          ],
          "histogram2d": [
           {
            "colorbar": {
             "outlinewidth": 0,
             "ticks": ""
            },
            "colorscale": [
             [
              0,
              "#0d0887"
             ],
             [
              0.1111111111111111,
              "#46039f"
             ],
             [
              0.2222222222222222,
              "#7201a8"
             ],
             [
              0.3333333333333333,
              "#9c179e"
             ],
             [
              0.4444444444444444,
              "#bd3786"
             ],
             [
              0.5555555555555556,
              "#d8576b"
             ],
             [
              0.6666666666666666,
              "#ed7953"
             ],
             [
              0.7777777777777778,
              "#fb9f3a"
             ],
             [
              0.8888888888888888,
              "#fdca26"
             ],
             [
              1,
              "#f0f921"
             ]
            ],
            "type": "histogram2d"
           }
          ],
          "histogram2dcontour": [
           {
            "colorbar": {
             "outlinewidth": 0,
             "ticks": ""
            },
            "colorscale": [
             [
              0,
              "#0d0887"
             ],
             [
              0.1111111111111111,
              "#46039f"
             ],
             [
              0.2222222222222222,
              "#7201a8"
             ],
             [
              0.3333333333333333,
              "#9c179e"
             ],
             [
              0.4444444444444444,
              "#bd3786"
             ],
             [
              0.5555555555555556,
              "#d8576b"
             ],
             [
              0.6666666666666666,
              "#ed7953"
             ],
             [
              0.7777777777777778,
              "#fb9f3a"
             ],
             [
              0.8888888888888888,
              "#fdca26"
             ],
             [
              1,
              "#f0f921"
             ]
            ],
            "type": "histogram2dcontour"
           }
          ],
          "mesh3d": [
           {
            "colorbar": {
             "outlinewidth": 0,
             "ticks": ""
            },
            "type": "mesh3d"
           }
          ],
          "parcoords": [
           {
            "line": {
             "colorbar": {
              "outlinewidth": 0,
              "ticks": ""
             }
            },
            "type": "parcoords"
           }
          ],
          "pie": [
           {
            "automargin": true,
            "type": "pie"
           }
          ],
          "scatter": [
           {
            "fillpattern": {
             "fillmode": "overlay",
             "size": 10,
             "solidity": 0.2
            },
            "type": "scatter"
           }
          ],
          "scatter3d": [
           {
            "line": {
             "colorbar": {
              "outlinewidth": 0,
              "ticks": ""
             }
            },
            "marker": {
             "colorbar": {
              "outlinewidth": 0,
              "ticks": ""
             }
            },
            "type": "scatter3d"
           }
          ],
          "scattercarpet": [
           {
            "marker": {
             "colorbar": {
              "outlinewidth": 0,
              "ticks": ""
             }
            },
            "type": "scattercarpet"
           }
          ],
          "scattergeo": [
           {
            "marker": {
             "colorbar": {
              "outlinewidth": 0,
              "ticks": ""
             }
            },
            "type": "scattergeo"
           }
          ],
          "scattergl": [
           {
            "marker": {
             "colorbar": {
              "outlinewidth": 0,
              "ticks": ""
             }
            },
            "type": "scattergl"
           }
          ],
          "scattermapbox": [
           {
            "marker": {
             "colorbar": {
              "outlinewidth": 0,
              "ticks": ""
             }
            },
            "type": "scattermapbox"
           }
          ],
          "scatterpolar": [
           {
            "marker": {
             "colorbar": {
              "outlinewidth": 0,
              "ticks": ""
             }
            },
            "type": "scatterpolar"
           }
          ],
          "scatterpolargl": [
           {
            "marker": {
             "colorbar": {
              "outlinewidth": 0,
              "ticks": ""
             }
            },
            "type": "scatterpolargl"
           }
          ],
          "scatterternary": [
           {
            "marker": {
             "colorbar": {
              "outlinewidth": 0,
              "ticks": ""
             }
            },
            "type": "scatterternary"
           }
          ],
          "surface": [
           {
            "colorbar": {
             "outlinewidth": 0,
             "ticks": ""
            },
            "colorscale": [
             [
              0,
              "#0d0887"
             ],
             [
              0.1111111111111111,
              "#46039f"
             ],
             [
              0.2222222222222222,
              "#7201a8"
             ],
             [
              0.3333333333333333,
              "#9c179e"
             ],
             [
              0.4444444444444444,
              "#bd3786"
             ],
             [
              0.5555555555555556,
              "#d8576b"
             ],
             [
              0.6666666666666666,
              "#ed7953"
             ],
             [
              0.7777777777777778,
              "#fb9f3a"
             ],
             [
              0.8888888888888888,
              "#fdca26"
             ],
             [
              1,
              "#f0f921"
             ]
            ],
            "type": "surface"
           }
          ],
          "table": [
           {
            "cells": {
             "fill": {
              "color": "#EBF0F8"
             },
             "line": {
              "color": "white"
             }
            },
            "header": {
             "fill": {
              "color": "#C8D4E3"
             },
             "line": {
              "color": "white"
             }
            },
            "type": "table"
           }
          ]
         },
         "layout": {
          "annotationdefaults": {
           "arrowcolor": "#2a3f5f",
           "arrowhead": 0,
           "arrowwidth": 1
          },
          "autotypenumbers": "strict",
          "coloraxis": {
           "colorbar": {
            "outlinewidth": 0,
            "ticks": ""
           }
          },
          "colorscale": {
           "diverging": [
            [
             0,
             "#8e0152"
            ],
            [
             0.1,
             "#c51b7d"
            ],
            [
             0.2,
             "#de77ae"
            ],
            [
             0.3,
             "#f1b6da"
            ],
            [
             0.4,
             "#fde0ef"
            ],
            [
             0.5,
             "#f7f7f7"
            ],
            [
             0.6,
             "#e6f5d0"
            ],
            [
             0.7,
             "#b8e186"
            ],
            [
             0.8,
             "#7fbc41"
            ],
            [
             0.9,
             "#4d9221"
            ],
            [
             1,
             "#276419"
            ]
           ],
           "sequential": [
            [
             0,
             "#0d0887"
            ],
            [
             0.1111111111111111,
             "#46039f"
            ],
            [
             0.2222222222222222,
             "#7201a8"
            ],
            [
             0.3333333333333333,
             "#9c179e"
            ],
            [
             0.4444444444444444,
             "#bd3786"
            ],
            [
             0.5555555555555556,
             "#d8576b"
            ],
            [
             0.6666666666666666,
             "#ed7953"
            ],
            [
             0.7777777777777778,
             "#fb9f3a"
            ],
            [
             0.8888888888888888,
             "#fdca26"
            ],
            [
             1,
             "#f0f921"
            ]
           ],
           "sequentialminus": [
            [
             0,
             "#0d0887"
            ],
            [
             0.1111111111111111,
             "#46039f"
            ],
            [
             0.2222222222222222,
             "#7201a8"
            ],
            [
             0.3333333333333333,
             "#9c179e"
            ],
            [
             0.4444444444444444,
             "#bd3786"
            ],
            [
             0.5555555555555556,
             "#d8576b"
            ],
            [
             0.6666666666666666,
             "#ed7953"
            ],
            [
             0.7777777777777778,
             "#fb9f3a"
            ],
            [
             0.8888888888888888,
             "#fdca26"
            ],
            [
             1,
             "#f0f921"
            ]
           ]
          },
          "colorway": [
           "#636efa",
           "#EF553B",
           "#00cc96",
           "#ab63fa",
           "#FFA15A",
           "#19d3f3",
           "#FF6692",
           "#B6E880",
           "#FF97FF",
           "#FECB52"
          ],
          "font": {
           "color": "#2a3f5f"
          },
          "geo": {
           "bgcolor": "white",
           "lakecolor": "white",
           "landcolor": "#E5ECF6",
           "showlakes": true,
           "showland": true,
           "subunitcolor": "white"
          },
          "hoverlabel": {
           "align": "left"
          },
          "hovermode": "closest",
          "mapbox": {
           "style": "light"
          },
          "paper_bgcolor": "white",
          "plot_bgcolor": "#E5ECF6",
          "polar": {
           "angularaxis": {
            "gridcolor": "white",
            "linecolor": "white",
            "ticks": ""
           },
           "bgcolor": "#E5ECF6",
           "radialaxis": {
            "gridcolor": "white",
            "linecolor": "white",
            "ticks": ""
           }
          },
          "scene": {
           "xaxis": {
            "backgroundcolor": "#E5ECF6",
            "gridcolor": "white",
            "gridwidth": 2,
            "linecolor": "white",
            "showbackground": true,
            "ticks": "",
            "zerolinecolor": "white"
           },
           "yaxis": {
            "backgroundcolor": "#E5ECF6",
            "gridcolor": "white",
            "gridwidth": 2,
            "linecolor": "white",
            "showbackground": true,
            "ticks": "",
            "zerolinecolor": "white"
           },
           "zaxis": {
            "backgroundcolor": "#E5ECF6",
            "gridcolor": "white",
            "gridwidth": 2,
            "linecolor": "white",
            "showbackground": true,
            "ticks": "",
            "zerolinecolor": "white"
           }
          },
          "shapedefaults": {
           "line": {
            "color": "#2a3f5f"
           }
          },
          "ternary": {
           "aaxis": {
            "gridcolor": "white",
            "linecolor": "white",
            "ticks": ""
           },
           "baxis": {
            "gridcolor": "white",
            "linecolor": "white",
            "ticks": ""
           },
           "bgcolor": "#E5ECF6",
           "caxis": {
            "gridcolor": "white",
            "linecolor": "white",
            "ticks": ""
           }
          },
          "title": {
           "x": 0.05
          },
          "xaxis": {
           "automargin": true,
           "gridcolor": "white",
           "linecolor": "white",
           "ticks": "",
           "title": {
            "standoff": 15
           },
           "zerolinecolor": "white",
           "zerolinewidth": 2
          },
          "yaxis": {
           "automargin": true,
           "gridcolor": "white",
           "linecolor": "white",
           "ticks": "",
           "title": {
            "standoff": 15
           },
           "zerolinecolor": "white",
           "zerolinewidth": 2
          }
         }
        },
        "xaxis": {
         "anchor": "y",
         "categoryarray": [
          0,
          1
         ],
         "categoryorder": "array",
         "domain": [
          0,
          1
         ],
         "title": {
          "text": "InEnglish"
         }
        },
        "yaxis": {
         "anchor": "x",
         "domain": [
          0,
          1
         ],
         "title": {
          "text": "Runtime"
         }
        }
       }
      }
     },
     "metadata": {},
     "output_type": "display_data"
    }
   ],
   "source": [
    "px.box(n_topten, x=\"InEnglish\", y=\"Runtime\", color = 'InEnglish', color_discrete_sequence = px.colors.qualitative.Pastel)"
   ]
  },
  {
   "cell_type": "code",
   "execution_count": 207,
   "metadata": {},
   "outputs": [
    {
     "data": {
      "application/vnd.plotly.v1+json": {
       "config": {
        "plotlyServerURL": "https://plot.ly"
       },
       "data": [
        {
         "alignmentgroup": "True",
         "hovertemplate": "InEnglish=%{x}<br>IMDB Score=%{y}<extra></extra>",
         "legendgroup": "0",
         "marker": {
          "color": "rgb(102, 197, 204)"
         },
         "name": "0",
         "notched": false,
         "offsetgroup": "0",
         "orientation": "v",
         "showlegend": true,
         "type": "box",
         "x": [
          0,
          0,
          0,
          0,
          0,
          0,
          0,
          0,
          0,
          0,
          0,
          0,
          0,
          0,
          0,
          0,
          0,
          0,
          0,
          0,
          0,
          0,
          0,
          0,
          0,
          0,
          0,
          0,
          0,
          0,
          0,
          0,
          0,
          0,
          0,
          0,
          0,
          0,
          0,
          0,
          0,
          0,
          0,
          0,
          0,
          0,
          0,
          0,
          0,
          0,
          0,
          0,
          0,
          0,
          0,
          0,
          0,
          0,
          0,
          0,
          0,
          0,
          0,
          0,
          0,
          0,
          0,
          0,
          0,
          0,
          0,
          0,
          0,
          0,
          0,
          0,
          0,
          0,
          0,
          0,
          0,
          0,
          0,
          0,
          0,
          0,
          0,
          0,
          0,
          0,
          0,
          0,
          0,
          0,
          0,
          0,
          0,
          0,
          0,
          0,
          0,
          0,
          0,
          0,
          0,
          0,
          0,
          0,
          0,
          0,
          0,
          0,
          0,
          0,
          0,
          0,
          0,
          0,
          0,
          0,
          0,
          0,
          0,
          0,
          0,
          0,
          0,
          0,
          0,
          0,
          0,
          0,
          0,
          0,
          0,
          0,
          0,
          0,
          0,
          0,
          0,
          0,
          0,
          0,
          0,
          0,
          0,
          0,
          0,
          0,
          0
         ],
         "x0": " ",
         "xaxis": "x",
         "y": [
          2.5,
          2.6,
          3.5,
          3.7,
          4.1,
          4.1,
          4.1,
          4.3,
          4.3,
          4.4,
          4.5,
          4.5,
          4.6,
          4.6,
          4.6,
          4.6,
          4.6,
          4.7,
          4.7,
          4.7,
          4.8,
          4.8,
          4.8,
          4.9,
          4.9,
          5,
          5,
          5,
          5.1,
          5.2,
          5.2,
          5.2,
          5.3,
          5.3,
          5.3,
          5.3,
          5.3,
          5.3,
          5.4,
          5.4,
          5.4,
          5.4,
          5.5,
          5.5,
          5.5,
          5.5,
          5.6,
          5.6,
          5.7,
          5.7,
          5.7,
          5.8,
          5.8,
          5.8,
          5.8,
          5.8,
          5.8,
          5.8,
          5.9,
          5.9,
          6,
          6,
          6.1,
          6.1,
          6.1,
          6.1,
          6.1,
          6.2,
          6.2,
          6.2,
          6.2,
          6.2,
          6.2,
          6.3,
          6.3,
          6.3,
          6.3,
          6.3,
          6.3,
          6.3,
          6.3,
          6.3,
          6.3,
          6.4,
          6.4,
          6.4,
          6.4,
          6.4,
          6.4,
          6.4,
          6.5,
          6.5,
          6.5,
          6.5,
          6.5,
          6.5,
          6.5,
          6.6,
          6.6,
          6.6,
          6.6,
          6.7,
          6.7,
          6.7,
          6.7,
          6.7,
          6.7,
          6.7,
          6.7,
          6.8,
          6.8,
          6.8,
          6.8,
          6.8,
          6.8,
          6.8,
          6.8,
          6.8,
          6.9,
          6.9,
          6.9,
          6.9,
          7,
          7,
          7,
          7.1,
          7.1,
          7.1,
          7.1,
          7.2,
          7.2,
          7.2,
          7.2,
          7.2,
          7.2,
          7.2,
          7.3,
          7.3,
          7.3,
          7.3,
          7.3,
          7.3,
          7.3,
          7.3,
          7.4,
          7.5,
          7.6,
          7.7,
          8.2,
          8.4,
          8.6
         ],
         "y0": " ",
         "yaxis": "y"
        },
        {
         "alignmentgroup": "True",
         "hovertemplate": "InEnglish=%{x}<br>IMDB Score=%{y}<extra></extra>",
         "legendgroup": "1",
         "marker": {
          "color": "rgb(246, 207, 113)"
         },
         "name": "1",
         "notched": false,
         "offsetgroup": "1",
         "orientation": "v",
         "showlegend": true,
         "type": "box",
         "x": [
          1,
          1,
          1,
          1,
          1,
          1,
          1,
          1,
          1,
          1,
          1,
          1,
          1,
          1,
          1,
          1,
          1,
          1,
          1,
          1,
          1,
          1,
          1,
          1,
          1,
          1,
          1,
          1,
          1,
          1,
          1,
          1,
          1,
          1,
          1,
          1,
          1,
          1,
          1,
          1,
          1,
          1,
          1,
          1,
          1,
          1,
          1,
          1,
          1,
          1,
          1,
          1,
          1,
          1,
          1,
          1,
          1,
          1,
          1,
          1,
          1,
          1,
          1,
          1,
          1,
          1,
          1,
          1,
          1,
          1,
          1,
          1,
          1,
          1,
          1,
          1,
          1,
          1,
          1,
          1,
          1,
          1,
          1,
          1,
          1,
          1,
          1,
          1,
          1,
          1,
          1,
          1,
          1,
          1,
          1,
          1,
          1,
          1,
          1,
          1,
          1,
          1,
          1,
          1,
          1,
          1,
          1,
          1,
          1,
          1,
          1,
          1,
          1,
          1,
          1,
          1,
          1,
          1,
          1,
          1,
          1,
          1,
          1,
          1,
          1,
          1,
          1,
          1,
          1,
          1,
          1,
          1,
          1,
          1,
          1,
          1,
          1,
          1,
          1,
          1,
          1,
          1,
          1,
          1,
          1,
          1,
          1,
          1,
          1,
          1,
          1,
          1,
          1,
          1,
          1,
          1,
          1,
          1,
          1,
          1,
          1,
          1,
          1,
          1,
          1,
          1,
          1,
          1,
          1,
          1,
          1,
          1,
          1,
          1,
          1,
          1,
          1,
          1,
          1,
          1,
          1,
          1,
          1,
          1,
          1,
          1,
          1,
          1,
          1,
          1,
          1,
          1,
          1,
          1,
          1,
          1,
          1,
          1,
          1,
          1,
          1,
          1,
          1,
          1,
          1,
          1,
          1,
          1,
          1,
          1,
          1,
          1,
          1,
          1,
          1,
          1,
          1,
          1,
          1,
          1,
          1,
          1,
          1,
          1,
          1,
          1,
          1,
          1,
          1,
          1,
          1,
          1,
          1,
          1,
          1,
          1,
          1,
          1,
          1,
          1,
          1,
          1,
          1,
          1,
          1,
          1,
          1,
          1,
          1,
          1,
          1,
          1,
          1,
          1,
          1,
          1
         ],
         "x0": " ",
         "xaxis": "x",
         "y": [
          4.1,
          4.2,
          4.4,
          4.4,
          4.4,
          4.5,
          4.5,
          4.6,
          4.6,
          4.8,
          4.8,
          5,
          5.1,
          5.2,
          5.2,
          5.2,
          5.2,
          5.2,
          5.2,
          5.2,
          5.2,
          5.2,
          5.2,
          5.2,
          5.3,
          5.3,
          5.3,
          5.3,
          5.4,
          5.4,
          5.4,
          5.4,
          5.5,
          5.5,
          5.5,
          5.5,
          5.5,
          5.5,
          5.5,
          5.6,
          5.6,
          5.6,
          5.6,
          5.6,
          5.6,
          5.6,
          5.7,
          5.7,
          5.7,
          5.7,
          5.7,
          5.7,
          5.7,
          5.7,
          5.7,
          5.8,
          5.8,
          5.8,
          5.8,
          5.8,
          5.8,
          5.8,
          5.8,
          5.8,
          5.8,
          5.8,
          5.8,
          5.8,
          5.9,
          5.9,
          5.9,
          5.9,
          5.9,
          5.9,
          6,
          6,
          6,
          6,
          6,
          6.1,
          6.1,
          6.1,
          6.1,
          6.1,
          6.1,
          6.1,
          6.1,
          6.1,
          6.1,
          6.1,
          6.1,
          6.2,
          6.2,
          6.2,
          6.2,
          6.2,
          6.2,
          6.2,
          6.2,
          6.3,
          6.3,
          6.3,
          6.3,
          6.3,
          6.3,
          6.3,
          6.3,
          6.3,
          6.4,
          6.4,
          6.4,
          6.4,
          6.4,
          6.4,
          6.4,
          6.4,
          6.4,
          6.4,
          6.4,
          6.5,
          6.5,
          6.5,
          6.5,
          6.5,
          6.5,
          6.5,
          6.5,
          6.6,
          6.6,
          6.6,
          6.6,
          6.6,
          6.6,
          6.6,
          6.7,
          6.7,
          6.7,
          6.7,
          6.7,
          6.7,
          6.7,
          6.7,
          6.7,
          6.7,
          6.7,
          6.8,
          6.8,
          6.8,
          6.8,
          6.8,
          6.8,
          6.8,
          6.8,
          6.8,
          6.8,
          6.8,
          6.8,
          6.8,
          6.9,
          6.9,
          6.9,
          6.9,
          6.9,
          6.9,
          6.9,
          6.9,
          6.9,
          6.9,
          7,
          7,
          7,
          7,
          7,
          7,
          7,
          7,
          7,
          7,
          7,
          7.1,
          7.1,
          7.1,
          7.1,
          7.1,
          7.1,
          7.1,
          7.1,
          7.1,
          7.1,
          7.1,
          7.1,
          7.1,
          7.1,
          7.1,
          7.1,
          7.1,
          7.1,
          7.2,
          7.2,
          7.2,
          7.2,
          7.2,
          7.2,
          7.2,
          7.2,
          7.3,
          7.3,
          7.3,
          7.3,
          7.3,
          7.3,
          7.3,
          7.3,
          7.3,
          7.4,
          7.4,
          7.4,
          7.4,
          7.4,
          7.4,
          7.4,
          7.4,
          7.4,
          7.5,
          7.5,
          7.5,
          7.5,
          7.5,
          7.5,
          7.6,
          7.6,
          7.6,
          7.6,
          7.6,
          7.6,
          7.6,
          7.6,
          7.7,
          7.7,
          7.7,
          7.8,
          7.8,
          7.9,
          7.9,
          7.9,
          7.9,
          8,
          8.1,
          8.1,
          8.1,
          8.2,
          8.2,
          8.2,
          8.3,
          8.3,
          9
         ],
         "y0": " ",
         "yaxis": "y"
        }
       ],
       "layout": {
        "boxmode": "overlay",
        "legend": {
         "title": {
          "text": "InEnglish"
         },
         "tracegroupgap": 0
        },
        "margin": {
         "t": 60
        },
        "template": {
         "data": {
          "bar": [
           {
            "error_x": {
             "color": "#2a3f5f"
            },
            "error_y": {
             "color": "#2a3f5f"
            },
            "marker": {
             "line": {
              "color": "#E5ECF6",
              "width": 0.5
             },
             "pattern": {
              "fillmode": "overlay",
              "size": 10,
              "solidity": 0.2
             }
            },
            "type": "bar"
           }
          ],
          "barpolar": [
           {
            "marker": {
             "line": {
              "color": "#E5ECF6",
              "width": 0.5
             },
             "pattern": {
              "fillmode": "overlay",
              "size": 10,
              "solidity": 0.2
             }
            },
            "type": "barpolar"
           }
          ],
          "carpet": [
           {
            "aaxis": {
             "endlinecolor": "#2a3f5f",
             "gridcolor": "white",
             "linecolor": "white",
             "minorgridcolor": "white",
             "startlinecolor": "#2a3f5f"
            },
            "baxis": {
             "endlinecolor": "#2a3f5f",
             "gridcolor": "white",
             "linecolor": "white",
             "minorgridcolor": "white",
             "startlinecolor": "#2a3f5f"
            },
            "type": "carpet"
           }
          ],
          "choropleth": [
           {
            "colorbar": {
             "outlinewidth": 0,
             "ticks": ""
            },
            "type": "choropleth"
           }
          ],
          "contour": [
           {
            "colorbar": {
             "outlinewidth": 0,
             "ticks": ""
            },
            "colorscale": [
             [
              0,
              "#0d0887"
             ],
             [
              0.1111111111111111,
              "#46039f"
             ],
             [
              0.2222222222222222,
              "#7201a8"
             ],
             [
              0.3333333333333333,
              "#9c179e"
             ],
             [
              0.4444444444444444,
              "#bd3786"
             ],
             [
              0.5555555555555556,
              "#d8576b"
             ],
             [
              0.6666666666666666,
              "#ed7953"
             ],
             [
              0.7777777777777778,
              "#fb9f3a"
             ],
             [
              0.8888888888888888,
              "#fdca26"
             ],
             [
              1,
              "#f0f921"
             ]
            ],
            "type": "contour"
           }
          ],
          "contourcarpet": [
           {
            "colorbar": {
             "outlinewidth": 0,
             "ticks": ""
            },
            "type": "contourcarpet"
           }
          ],
          "heatmap": [
           {
            "colorbar": {
             "outlinewidth": 0,
             "ticks": ""
            },
            "colorscale": [
             [
              0,
              "#0d0887"
             ],
             [
              0.1111111111111111,
              "#46039f"
             ],
             [
              0.2222222222222222,
              "#7201a8"
             ],
             [
              0.3333333333333333,
              "#9c179e"
             ],
             [
              0.4444444444444444,
              "#bd3786"
             ],
             [
              0.5555555555555556,
              "#d8576b"
             ],
             [
              0.6666666666666666,
              "#ed7953"
             ],
             [
              0.7777777777777778,
              "#fb9f3a"
             ],
             [
              0.8888888888888888,
              "#fdca26"
             ],
             [
              1,
              "#f0f921"
             ]
            ],
            "type": "heatmap"
           }
          ],
          "heatmapgl": [
           {
            "colorbar": {
             "outlinewidth": 0,
             "ticks": ""
            },
            "colorscale": [
             [
              0,
              "#0d0887"
             ],
             [
              0.1111111111111111,
              "#46039f"
             ],
             [
              0.2222222222222222,
              "#7201a8"
             ],
             [
              0.3333333333333333,
              "#9c179e"
             ],
             [
              0.4444444444444444,
              "#bd3786"
             ],
             [
              0.5555555555555556,
              "#d8576b"
             ],
             [
              0.6666666666666666,
              "#ed7953"
             ],
             [
              0.7777777777777778,
              "#fb9f3a"
             ],
             [
              0.8888888888888888,
              "#fdca26"
             ],
             [
              1,
              "#f0f921"
             ]
            ],
            "type": "heatmapgl"
           }
          ],
          "histogram": [
           {
            "marker": {
             "pattern": {
              "fillmode": "overlay",
              "size": 10,
              "solidity": 0.2
             }
            },
            "type": "histogram"
           }
          ],
          "histogram2d": [
           {
            "colorbar": {
             "outlinewidth": 0,
             "ticks": ""
            },
            "colorscale": [
             [
              0,
              "#0d0887"
             ],
             [
              0.1111111111111111,
              "#46039f"
             ],
             [
              0.2222222222222222,
              "#7201a8"
             ],
             [
              0.3333333333333333,
              "#9c179e"
             ],
             [
              0.4444444444444444,
              "#bd3786"
             ],
             [
              0.5555555555555556,
              "#d8576b"
             ],
             [
              0.6666666666666666,
              "#ed7953"
             ],
             [
              0.7777777777777778,
              "#fb9f3a"
             ],
             [
              0.8888888888888888,
              "#fdca26"
             ],
             [
              1,
              "#f0f921"
             ]
            ],
            "type": "histogram2d"
           }
          ],
          "histogram2dcontour": [
           {
            "colorbar": {
             "outlinewidth": 0,
             "ticks": ""
            },
            "colorscale": [
             [
              0,
              "#0d0887"
             ],
             [
              0.1111111111111111,
              "#46039f"
             ],
             [
              0.2222222222222222,
              "#7201a8"
             ],
             [
              0.3333333333333333,
              "#9c179e"
             ],
             [
              0.4444444444444444,
              "#bd3786"
             ],
             [
              0.5555555555555556,
              "#d8576b"
             ],
             [
              0.6666666666666666,
              "#ed7953"
             ],
             [
              0.7777777777777778,
              "#fb9f3a"
             ],
             [
              0.8888888888888888,
              "#fdca26"
             ],
             [
              1,
              "#f0f921"
             ]
            ],
            "type": "histogram2dcontour"
           }
          ],
          "mesh3d": [
           {
            "colorbar": {
             "outlinewidth": 0,
             "ticks": ""
            },
            "type": "mesh3d"
           }
          ],
          "parcoords": [
           {
            "line": {
             "colorbar": {
              "outlinewidth": 0,
              "ticks": ""
             }
            },
            "type": "parcoords"
           }
          ],
          "pie": [
           {
            "automargin": true,
            "type": "pie"
           }
          ],
          "scatter": [
           {
            "fillpattern": {
             "fillmode": "overlay",
             "size": 10,
             "solidity": 0.2
            },
            "type": "scatter"
           }
          ],
          "scatter3d": [
           {
            "line": {
             "colorbar": {
              "outlinewidth": 0,
              "ticks": ""
             }
            },
            "marker": {
             "colorbar": {
              "outlinewidth": 0,
              "ticks": ""
             }
            },
            "type": "scatter3d"
           }
          ],
          "scattercarpet": [
           {
            "marker": {
             "colorbar": {
              "outlinewidth": 0,
              "ticks": ""
             }
            },
            "type": "scattercarpet"
           }
          ],
          "scattergeo": [
           {
            "marker": {
             "colorbar": {
              "outlinewidth": 0,
              "ticks": ""
             }
            },
            "type": "scattergeo"
           }
          ],
          "scattergl": [
           {
            "marker": {
             "colorbar": {
              "outlinewidth": 0,
              "ticks": ""
             }
            },
            "type": "scattergl"
           }
          ],
          "scattermapbox": [
           {
            "marker": {
             "colorbar": {
              "outlinewidth": 0,
              "ticks": ""
             }
            },
            "type": "scattermapbox"
           }
          ],
          "scatterpolar": [
           {
            "marker": {
             "colorbar": {
              "outlinewidth": 0,
              "ticks": ""
             }
            },
            "type": "scatterpolar"
           }
          ],
          "scatterpolargl": [
           {
            "marker": {
             "colorbar": {
              "outlinewidth": 0,
              "ticks": ""
             }
            },
            "type": "scatterpolargl"
           }
          ],
          "scatterternary": [
           {
            "marker": {
             "colorbar": {
              "outlinewidth": 0,
              "ticks": ""
             }
            },
            "type": "scatterternary"
           }
          ],
          "surface": [
           {
            "colorbar": {
             "outlinewidth": 0,
             "ticks": ""
            },
            "colorscale": [
             [
              0,
              "#0d0887"
             ],
             [
              0.1111111111111111,
              "#46039f"
             ],
             [
              0.2222222222222222,
              "#7201a8"
             ],
             [
              0.3333333333333333,
              "#9c179e"
             ],
             [
              0.4444444444444444,
              "#bd3786"
             ],
             [
              0.5555555555555556,
              "#d8576b"
             ],
             [
              0.6666666666666666,
              "#ed7953"
             ],
             [
              0.7777777777777778,
              "#fb9f3a"
             ],
             [
              0.8888888888888888,
              "#fdca26"
             ],
             [
              1,
              "#f0f921"
             ]
            ],
            "type": "surface"
           }
          ],
          "table": [
           {
            "cells": {
             "fill": {
              "color": "#EBF0F8"
             },
             "line": {
              "color": "white"
             }
            },
            "header": {
             "fill": {
              "color": "#C8D4E3"
             },
             "line": {
              "color": "white"
             }
            },
            "type": "table"
           }
          ]
         },
         "layout": {
          "annotationdefaults": {
           "arrowcolor": "#2a3f5f",
           "arrowhead": 0,
           "arrowwidth": 1
          },
          "autotypenumbers": "strict",
          "coloraxis": {
           "colorbar": {
            "outlinewidth": 0,
            "ticks": ""
           }
          },
          "colorscale": {
           "diverging": [
            [
             0,
             "#8e0152"
            ],
            [
             0.1,
             "#c51b7d"
            ],
            [
             0.2,
             "#de77ae"
            ],
            [
             0.3,
             "#f1b6da"
            ],
            [
             0.4,
             "#fde0ef"
            ],
            [
             0.5,
             "#f7f7f7"
            ],
            [
             0.6,
             "#e6f5d0"
            ],
            [
             0.7,
             "#b8e186"
            ],
            [
             0.8,
             "#7fbc41"
            ],
            [
             0.9,
             "#4d9221"
            ],
            [
             1,
             "#276419"
            ]
           ],
           "sequential": [
            [
             0,
             "#0d0887"
            ],
            [
             0.1111111111111111,
             "#46039f"
            ],
            [
             0.2222222222222222,
             "#7201a8"
            ],
            [
             0.3333333333333333,
             "#9c179e"
            ],
            [
             0.4444444444444444,
             "#bd3786"
            ],
            [
             0.5555555555555556,
             "#d8576b"
            ],
            [
             0.6666666666666666,
             "#ed7953"
            ],
            [
             0.7777777777777778,
             "#fb9f3a"
            ],
            [
             0.8888888888888888,
             "#fdca26"
            ],
            [
             1,
             "#f0f921"
            ]
           ],
           "sequentialminus": [
            [
             0,
             "#0d0887"
            ],
            [
             0.1111111111111111,
             "#46039f"
            ],
            [
             0.2222222222222222,
             "#7201a8"
            ],
            [
             0.3333333333333333,
             "#9c179e"
            ],
            [
             0.4444444444444444,
             "#bd3786"
            ],
            [
             0.5555555555555556,
             "#d8576b"
            ],
            [
             0.6666666666666666,
             "#ed7953"
            ],
            [
             0.7777777777777778,
             "#fb9f3a"
            ],
            [
             0.8888888888888888,
             "#fdca26"
            ],
            [
             1,
             "#f0f921"
            ]
           ]
          },
          "colorway": [
           "#636efa",
           "#EF553B",
           "#00cc96",
           "#ab63fa",
           "#FFA15A",
           "#19d3f3",
           "#FF6692",
           "#B6E880",
           "#FF97FF",
           "#FECB52"
          ],
          "font": {
           "color": "#2a3f5f"
          },
          "geo": {
           "bgcolor": "white",
           "lakecolor": "white",
           "landcolor": "#E5ECF6",
           "showlakes": true,
           "showland": true,
           "subunitcolor": "white"
          },
          "hoverlabel": {
           "align": "left"
          },
          "hovermode": "closest",
          "mapbox": {
           "style": "light"
          },
          "paper_bgcolor": "white",
          "plot_bgcolor": "#E5ECF6",
          "polar": {
           "angularaxis": {
            "gridcolor": "white",
            "linecolor": "white",
            "ticks": ""
           },
           "bgcolor": "#E5ECF6",
           "radialaxis": {
            "gridcolor": "white",
            "linecolor": "white",
            "ticks": ""
           }
          },
          "scene": {
           "xaxis": {
            "backgroundcolor": "#E5ECF6",
            "gridcolor": "white",
            "gridwidth": 2,
            "linecolor": "white",
            "showbackground": true,
            "ticks": "",
            "zerolinecolor": "white"
           },
           "yaxis": {
            "backgroundcolor": "#E5ECF6",
            "gridcolor": "white",
            "gridwidth": 2,
            "linecolor": "white",
            "showbackground": true,
            "ticks": "",
            "zerolinecolor": "white"
           },
           "zaxis": {
            "backgroundcolor": "#E5ECF6",
            "gridcolor": "white",
            "gridwidth": 2,
            "linecolor": "white",
            "showbackground": true,
            "ticks": "",
            "zerolinecolor": "white"
           }
          },
          "shapedefaults": {
           "line": {
            "color": "#2a3f5f"
           }
          },
          "ternary": {
           "aaxis": {
            "gridcolor": "white",
            "linecolor": "white",
            "ticks": ""
           },
           "baxis": {
            "gridcolor": "white",
            "linecolor": "white",
            "ticks": ""
           },
           "bgcolor": "#E5ECF6",
           "caxis": {
            "gridcolor": "white",
            "linecolor": "white",
            "ticks": ""
           }
          },
          "title": {
           "x": 0.05
          },
          "xaxis": {
           "automargin": true,
           "gridcolor": "white",
           "linecolor": "white",
           "ticks": "",
           "title": {
            "standoff": 15
           },
           "zerolinecolor": "white",
           "zerolinewidth": 2
          },
          "yaxis": {
           "automargin": true,
           "gridcolor": "white",
           "linecolor": "white",
           "ticks": "",
           "title": {
            "standoff": 15
           },
           "zerolinecolor": "white",
           "zerolinewidth": 2
          }
         }
        },
        "xaxis": {
         "anchor": "y",
         "categoryarray": [
          0,
          1
         ],
         "categoryorder": "array",
         "domain": [
          0,
          1
         ],
         "title": {
          "text": "InEnglish"
         }
        },
        "yaxis": {
         "anchor": "x",
         "domain": [
          0,
          1
         ],
         "title": {
          "text": "IMDB Score"
         }
        }
       }
      }
     },
     "metadata": {},
     "output_type": "display_data"
    }
   ],
   "source": [
    "px.box(n_topten, x=\"InEnglish\", y=\"IMDB Score\", color = 'InEnglish', color_discrete_sequence = px.colors.qualitative.Pastel)"
   ]
  },
  {
   "cell_type": "code",
   "execution_count": 226,
   "metadata": {},
   "outputs": [
    {
     "data": {
      "image/png": "[encoded data removed]",
      "text/plain": [
       "<Figure size 1000x600 with 1 Axes>"
      ]
     },
     "metadata": {},
     "output_type": "display_data"
    }
   ],
   "source": [
    "grouped = n_topten.groupby(['Genre', 'InEnglish']).size().unstack(fill_value=0)\n",
    "\n",
    "grouped_percentage = grouped.div(grouped.sum(axis=1), axis=0) * 100\n",
    "\n",
    "ax = grouped_percentage.plot(kind='bar', stacked=True, figsize=(10, 6), color=['salmon', 'lightgreen'])\n",
    "ax.set_xlabel('Genre')  \n",
    "ax.set_ylabel('Percentage') \n",
    "ax.set_title('Percentage of movies in English by Genre') \n",
    "ax.legend(['No', 'Yes'], loc='upper right')\n",
    "plt.show()"
   ]
  },
  {
   "cell_type": "markdown",
   "metadata": {},
   "source": [
    "##### We see differences among genre for movies in English/not, slight ones with IMDB Score and Runtime"
   ]
  },
  {
   "cell_type": "code",
   "execution_count": 229,
   "metadata": {},
   "outputs": [
    {
     "name": "stderr",
     "output_type": "stream",
     "text": [
      "/var/folders/rb/qx5qmmrs6nn_8zcrwgr7ds6m0000gn/T/ipykernel_91493/668791071.py:1: SettingWithCopyWarning:\n",
      "\n",
      "\n",
      "A value is trying to be set on a copy of a slice from a DataFrame.\n",
      "Try using .loc[row_indexer,col_indexer] = value instead\n",
      "\n",
      "See the caveats in the documentation: https://pandas.pydata.org/pandas-docs/stable/user_guide/indexing.html#returning-a-view-versus-a-copy\n",
      "\n"
     ]
    }
   ],
   "source": [
    "n_topten['Premiere Year'] = n_topten['Premiere Year'].astype(int)"
   ]
  },
  {
   "cell_type": "code",
   "execution_count": 230,
   "metadata": {},
   "outputs": [
    {
     "data": {
      "text/plain": [
       "Premiere        -0.331103\n",
       "Runtime         -0.046552\n",
       "IMDB Score       0.212956\n",
       "Premiere Year   -0.325942\n",
       "InEnglish        1.000000\n",
       "Name: InEnglish, dtype: float64"
      ]
     },
     "execution_count": 230,
     "metadata": {},
     "output_type": "execute_result"
    }
   ],
   "source": [
    "n_topten[n_topten.describe().columns].corr()['InEnglish']"
   ]
  },
  {
   "cell_type": "code",
   "execution_count": 231,
   "metadata": {},
   "outputs": [],
   "source": [
    "corr_matrix = n_topten[n_topten.describe().columns].corr()"
   ]
  },
  {
   "cell_type": "code",
   "execution_count": 233,
   "metadata": {},
   "outputs": [
    {
     "data": {
      "image/png": "[encoded data removed]",
      "text/plain": [
       "<Figure size 640x480 with 2 Axes>"
      ]
     },
     "metadata": {},
     "output_type": "display_data"
    }
   ],
   "source": [
    "import seaborn as sns\n",
    "sns.heatmap(corr_matrix);"
   ]
  },
  {
   "cell_type": "markdown",
   "metadata": {},
   "source": [
    "#### Going to pick as X values: Genre, Premiere Year, IMDB Score for my predictive modelling"
   ]
  },
  {
   "cell_type": "code",
   "execution_count": 234,
   "metadata": {},
   "outputs": [],
   "source": [
    "# Need to dummify Genre\n",
    "\n",
    "genre_dummies = pd.get_dummies(n_topten['Genre'], dtype = int, drop_first = True, prefix = 'genre')"
   ]
  },
  {
   "cell_type": "code",
   "execution_count": 245,
   "metadata": {},
   "outputs": [],
   "source": [
    "X = pd.concat([genre_dummies, n_topten['Premiere Year'], n_topten['IMDB Score']], axis = 1)\n",
    "\n",
    "y = n_topten['InEnglish']"
   ]
  },
  {
   "cell_type": "code",
   "execution_count": 250,
   "metadata": {},
   "outputs": [
    {
     "name": "stdout",
     "output_type": "stream",
     "text": [
      "Accuracy Score is: 0.696078431372549\n",
      "Recall Score is: 0.7384615384615385\n"
     ]
    }
   ],
   "source": [
    "X_train, X_test, y_train, y_test=train_test_split(X,y,random_state=100)\n",
    "\n",
    "knn = KNeighborsClassifier(n_neighbors=10)\n",
    "knn.fit(X_train, y_train)\n",
    "\n",
    "y_pred_class = knn.predict(X_test)\n",
    "print(f\"Accuracy Score is: {metrics.accuracy_score(y_test, y_pred_class)}\")\n",
    "print(f\"Recall Score is: {metrics.recall_score(y_test, y_pred_class)}\")"
   ]
  },
  {
   "cell_type": "code",
   "execution_count": 253,
   "metadata": {},
   "outputs": [
    {
     "data": {
      "image/png": "[encoded data removed]",
      "text/plain": [
       "<Figure size 640x480 with 2 Axes>"
      ]
     },
     "metadata": {},
     "output_type": "display_data"
    }
   ],
   "source": [
    "cm = confusion_matrix(y_test, y_pred_class)\n",
    "\n",
    "disp = ConfusionMatrixDisplay(cm)\n",
    "disp.plot();"
   ]
  },
  {
   "cell_type": "code",
   "execution_count": 255,
   "metadata": {},
   "outputs": [
    {
     "name": "stdout",
     "output_type": "stream",
     "text": [
      "LR 0.6862745098039216 , Recall:  0.8769230769230769\n"
     ]
    },
    {
     "name": "stderr",
     "output_type": "stream",
     "text": [
      "/Users/leahbenque/Library/Python/3.9/lib/python/site-packages/sklearn/linear_model/_logistic.py:465: ConvergenceWarning:\n",
      "\n",
      "lbfgs failed to converge (status=1):\n",
      "STOP: TOTAL NO. of ITERATIONS REACHED LIMIT.\n",
      "\n",
      "Increase the number of iterations (max_iter) or scale the data as shown in:\n",
      "    https://scikit-learn.org/stable/modules/preprocessing.html\n",
      "Please also refer to the documentation for alternative solver options:\n",
      "    https://scikit-learn.org/stable/modules/linear_model.html#logistic-regression\n",
      "\n"
     ]
    },
    {
     "data": {
      "image/png": "[encoded data removed]",
      "text/plain": [
       "<Figure size 640x480 with 2 Axes>"
      ]
     },
     "metadata": {},
     "output_type": "display_data"
    }
   ],
   "source": [
    "#Trying new model - LR - higher recall, and only slightly lower accuracy\n",
    "from sklearn.linear_model import LogisticRegression\n",
    "\n",
    "X_train, X_test, y_train, y_test=train_test_split(X,y,random_state=100)\n",
    "\n",
    "lr=LogisticRegression(random_state=100)\n",
    "\n",
    "lr.fit(X_train,y_train)\n",
    "\n",
    "predictions=lr.predict(X_test)\n",
    "\n",
    "print('LR',metrics.accuracy_score(y_test,predictions), ', Recall: ', metrics.recall_score(y_test, predictions))\n",
    "\n",
    "cm = confusion_matrix(y_test, predictions)\n",
    "cm\n",
    "\n",
    "disp = ConfusionMatrixDisplay(cm)\n",
    "disp.plot()\n",
    "plt.show();"
   ]
  }
 ],
 "metadata": {
  "kernelspec": {
   "display_name": "Python 3",
   "language": "python",
   "name": "python3"
  },
  "language_info": {
   "codemirror_mode": {
    "name": "ipython",
    "version": 3
   },
   "file_extension": ".py",
   "mimetype": "text/x-python",
   "name": "python",
   "nbconvert_exporter": "python",
   "pygments_lexer": "ipython3",
   "version": "3.9.6"
  }
 },
 "nbformat": 4,
 "nbformat_minor": 2
}
